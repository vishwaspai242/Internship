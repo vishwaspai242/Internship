{
 "cells": [
  {
   "cell_type": "code",
   "execution_count": null,
   "id": "7889b3b1",
   "metadata": {},
   "outputs": [],
   "source": [
    "# installing Selenium Library\n",
    "!pip install selenium"
   ]
  },
  {
   "cell_type": "markdown",
   "id": "d5b202da",
   "metadata": {},
   "source": [
    "# Question 1 Answer ---> python program which searches all the product under a particular product from www.amazon.in. The product to be searched will be taken as input from user. For e.g. If user input is ‘guitar’. Then search for guitars."
   ]
  },
  {
   "cell_type": "code",
   "execution_count": 1,
   "id": "0a260a24",
   "metadata": {},
   "outputs": [],
   "source": [
    "# importing required libraries\n",
    "import selenium\n",
    "import pandas as pd\n",
    "import numpy as np\n",
    "from selenium import webdriver    # importing webdriver module from selenium to open up automated chrome window\n",
    "import warnings\n",
    "warnings.filterwarnings(\"ignore\") # ignoring warnings that might arise\n",
    "import time                       # used to stop search engine for few seconds\n",
    "\n",
    "# webdriverwait libraries explicit wait\n",
    "from selenium import webdriver\n",
    "from selenium.webdriver.support.ui import WebDriverWait\n",
    "from selenium.webdriver.support import expected_conditions as EC\n",
    "from selenium.webdriver.common.by import By\n",
    "\n",
    "# common exceptions\n",
    "from selenium.common.exceptions import NoSuchElementException, StaleElementReferenceException"
   ]
  },
  {
   "cell_type": "markdown",
   "id": "f8e77933",
   "metadata": {},
   "source": [
    "I used \"earphones\" as the user input"
   ]
  },
  {
   "cell_type": "code",
   "execution_count": 2,
   "id": "a98b405d",
   "metadata": {},
   "outputs": [
    {
     "name": "stdout",
     "output_type": "stream",
     "text": [
      "Enter any Product:   earphones\n"
     ]
    }
   ],
   "source": [
    "# entering user input of required product\n",
    "product = input(\"Enter any Product:   \")"
   ]
  },
  {
   "cell_type": "code",
   "execution_count": 3,
   "id": "24dbfa7b",
   "metadata": {},
   "outputs": [],
   "source": [
    "# opening the webpage and inserting user input then clicking on search button\n",
    "driver = webdriver.Chrome(r\"C:\\web driver\\chromedriver.exe\")\n",
    "driver.get(\"https://www.amazon.in/\")\n",
    "time.sleep(2)\n",
    "search_field = driver.find_element_by_id(\"twotabsearchtextbox\").send_keys(product)\n",
    "search_button = driver.find_element_by_id(\"nav-search-submit-button\").click()\n",
    "delay = 15 # seconds\n",
    "WebDriverWait(driver, delay).until(EC.presence_of_element_located((By.CLASS_NAME, 'nav_last')))\n",
    "element = driver.find_element_by_xpath(\"//li[@class='nav_last']\")"
   ]
  },
  {
   "cell_type": "markdown",
   "id": "0ba58781",
   "metadata": {},
   "source": [
    "# Question 2 Answer ---> Scraping first 3 pages of your search results and save it in a data frame and csv. In case if any product has less than 3 pages in search results then scrape all the products available under that product name. Details to be scraped are: \"Brand Name\", \"Name of the Product\", \"Price\", \"Return/Exchange\", \"Expected Delivery\", \"Availability\" and “Product URL”. In case, if any of the details are missing for any of the product then replace it by “-“."
   ]
  },
  {
   "cell_type": "code",
   "execution_count": 4,
   "id": "d9bb65c4",
   "metadata": {},
   "outputs": [
    {
     "data": {
      "text/plain": [
       "<selenium.webdriver.remote.webelement.WebElement (session=\"03cf801fab58f23016d1e26a91bf73c1\", element=\"35215e63-03c2-45a8-b873-2b693fac7020\")>"
      ]
     },
     "execution_count": 4,
     "metadata": {},
     "output_type": "execute_result"
    }
   ],
   "source": [
    "# creating empty list for url\n",
    "url=[]\n",
    "\n",
    "# fetching url for each product in page 1\n",
    "product_url = driver.find_elements_by_xpath(\"//div[@class='a-section a-spacing-none s-padding-right-small s-title-instructions-style']/h2/a\")\n",
    "for j in product_url:\n",
    "    url.append(j.get_attribute('href'))\n",
    "next_button = driver.find_element_by_xpath(\"//a[@class='s-pagination-item s-pagination-next s-pagination-button s-pagination-separator']\")\n",
    "next_button.click()\n",
    "delay = 15 # seconds\n",
    "WebDriverWait(driver, delay).until(EC.presence_of_element_located((By.CLASS_NAME, 'nav_last')))"
   ]
  },
  {
   "cell_type": "code",
   "execution_count": 5,
   "id": "588e4a3c",
   "metadata": {},
   "outputs": [
    {
     "data": {
      "text/plain": [
       "<selenium.webdriver.remote.webelement.WebElement (session=\"03cf801fab58f23016d1e26a91bf73c1\", element=\"35215e63-03c2-45a8-b873-2b693fac7020\")>"
      ]
     },
     "execution_count": 5,
     "metadata": {},
     "output_type": "execute_result"
    }
   ],
   "source": [
    "# fetching url for each product in page 2\n",
    "product_url = driver.find_elements_by_xpath(\"//div[@class='a-section a-spacing-none s-padding-right-small s-title-instructions-style']/h2/a\")\n",
    "for j in product_url:\n",
    "    url.append(j.get_attribute('href'))\n",
    "next_button = driver.find_element_by_xpath(\"//a[@class='s-pagination-item s-pagination-next s-pagination-button s-pagination-separator']\")\n",
    "next_button.click()\n",
    "delay = 15 # seconds\n",
    "WebDriverWait(driver, delay).until(EC.presence_of_element_located((By.CLASS_NAME, 'nav_last')))"
   ]
  },
  {
   "cell_type": "code",
   "execution_count": 6,
   "id": "a84f1e9c",
   "metadata": {},
   "outputs": [],
   "source": [
    "# fetching url for each product in page 3\n",
    "product_url = driver.find_elements_by_xpath(\"//div[@class='a-section a-spacing-none s-padding-right-small s-title-instructions-style']/h2/a\")\n",
    "for j in product_url:\n",
    "    url.append(j.get_attribute('href'))"
   ]
  },
  {
   "cell_type": "code",
   "execution_count": 7,
   "id": "a8a838fb",
   "metadata": {},
   "outputs": [
    {
     "data": {
      "text/plain": [
       "66"
      ]
     },
     "execution_count": 7,
     "metadata": {},
     "output_type": "execute_result"
    }
   ],
   "source": [
    "len(url)"
   ]
  },
  {
   "cell_type": "code",
   "execution_count": null,
   "id": "d72e2aec",
   "metadata": {},
   "outputs": [],
   "source": [
    "# url of 3 pages of products in the list\n",
    "url"
   ]
  },
  {
   "cell_type": "code",
   "execution_count": 84,
   "id": "68dd4c28",
   "metadata": {},
   "outputs": [],
   "source": [
    "# creating emppty lists\n",
    "brand_name=[]\n",
    "name_of_the_product=[]\n",
    "price=[]\n",
    "return_exchange=[]\n",
    "expected_delivery=[]\n",
    "availability=[]\n",
    "product_url=[]"
   ]
  },
  {
   "cell_type": "code",
   "execution_count": 85,
   "id": "38e19590",
   "metadata": {},
   "outputs": [],
   "source": [
    "# creating loop for each data to be extracted per page, extracting required tags and extracting data\n",
    "for i in url:                     # iterating over the url list\n",
    "    driver.get(i)                 # taking the url and opening them\n",
    "    delay = 15 # seconds\n",
    "    WebDriverWait(driver, delay).until(EC.presence_of_element_located((By.CLASS_NAME, 'nav_last')))\n",
    "    try:\n",
    "        brand=driver.find_element_by_xpath(\"//div[@class='a-section a-spacing-none']/a\")\n",
    "        brand_name.append(brand.text.replace(\"Visit the\",\"\").replace(\" Store\",\"\"))\n",
    "    except NoSuchElementException:\n",
    "        brand_name.append(\"-\")    # appending \"-\" if there is any error and no data is found in the try block\n",
    "    try:\n",
    "        productname=driver.find_element_by_xpath(\"//span[@class='a-size-large product-title-word-break']\")\n",
    "        name_of_the_product.append(productname.text)\n",
    "    except NoSuchElementException:\n",
    "        name_of_the_product.append(\"-\")\n",
    "    try:\n",
    "        priceofproduct=driver.find_element_by_xpath(\"//span[@class='a-price aok-align-center reinventPricePriceToPayMargin priceToPay']/span/span[2]\")\n",
    "        price.append(priceofproduct.text)\n",
    "    except NoSuchElementException:\n",
    "        price.append(\"-\")\n",
    "    try:\n",
    "        exchange=driver.find_element_by_xpath(\"//div[@class='a-row icon-farm-wrapper']/div[2]/span/div[2]/a\")\n",
    "        return_exchange.append(exchange.text)\n",
    "    except NoSuchElementException:\n",
    "        return_exchange.append(\"-\")\n",
    "    try:\n",
    "        delivery=driver.find_element_by_xpath(\"//div[@class='a-spacing-base']/b\")\n",
    "        expected_delivery.append(delivery.text)\n",
    "    except NoSuchElementException:\n",
    "        expected_delivery.append(\"-\")\n",
    "    try:\n",
    "        available=driver.find_element_by_xpath(\"//span[@class='a-size-base a-color-success a-text-bold']\")\n",
    "        availability.append(available.text)\n",
    "    except NoSuchElementException:\n",
    "        availability.append(\"-\")\n",
    "    try:\n",
    "        url_string=driver.current_url\n",
    "        product_url.append(url_string)\n",
    "    except NoSuchElementException:\n",
    "        product_url.append(\"-\")     # appending \"-\" if there is any error and no data is found in the try block\n",
    "    "
   ]
  },
  {
   "cell_type": "code",
   "execution_count": 86,
   "id": "04f7a0b2",
   "metadata": {},
   "outputs": [
    {
     "name": "stdout",
     "output_type": "stream",
     "text": [
      "66 66 66 66 66 66 66\n"
     ]
    }
   ],
   "source": [
    "# printing the length of all the lists\n",
    "print(len(brand_name),len(name_of_the_product),len(price),len(return_exchange),len(expected_delivery),len(availability),len(product_url))"
   ]
  },
  {
   "cell_type": "code",
   "execution_count": 87,
   "id": "39fa95b6",
   "metadata": {},
   "outputs": [
    {
     "data": {
      "text/html": [
       "<div>\n",
       "<style scoped>\n",
       "    .dataframe tbody tr th:only-of-type {\n",
       "        vertical-align: middle;\n",
       "    }\n",
       "\n",
       "    .dataframe tbody tr th {\n",
       "        vertical-align: top;\n",
       "    }\n",
       "\n",
       "    .dataframe thead th {\n",
       "        text-align: right;\n",
       "    }\n",
       "</style>\n",
       "<table border=\"1\" class=\"dataframe\">\n",
       "  <thead>\n",
       "    <tr style=\"text-align: right;\">\n",
       "      <th></th>\n",
       "      <th>Brand Name</th>\n",
       "      <th>Name of the Product</th>\n",
       "      <th>Price</th>\n",
       "      <th>Return/Exchange</th>\n",
       "      <th>Expected Delivery</th>\n",
       "      <th>Availability</th>\n",
       "      <th>Product URL</th>\n",
       "    </tr>\n",
       "  </thead>\n",
       "  <tbody>\n",
       "    <tr>\n",
       "      <th>0</th>\n",
       "      <td>Visit the boAt Store</td>\n",
       "      <td>boAt Bassheads 100 in Ear Wired Earphones with...</td>\n",
       "      <td>349</td>\n",
       "      <td>7 Days Replacement</td>\n",
       "      <td>Friday, May 27</td>\n",
       "      <td>In stock.</td>\n",
       "      <td>https://www.amazon.in/Boat-BassHeads-100-Inspi...</td>\n",
       "    </tr>\n",
       "    <tr>\n",
       "      <th>1</th>\n",
       "      <td>Visit the boAt Store</td>\n",
       "      <td>Boat Airdopes 141 42H Playtime, Beast Mode Enx...</td>\n",
       "      <td>1,499</td>\n",
       "      <td>7 Days Replacement</td>\n",
       "      <td>Friday, May 27</td>\n",
       "      <td>In stock.</td>\n",
       "      <td>https://www.amazon.in/Airdopes-141-Playtime-Re...</td>\n",
       "    </tr>\n",
       "    <tr>\n",
       "      <th>2</th>\n",
       "      <td>Visit the boAt Store</td>\n",
       "      <td>boAt Bassheads 100 in Ear Wired Earphones with...</td>\n",
       "      <td>349</td>\n",
       "      <td>7 Days Replacement</td>\n",
       "      <td>Friday, May 27</td>\n",
       "      <td>In stock.</td>\n",
       "      <td>https://www.amazon.in/Boat-BassHeads-100-Inspi...</td>\n",
       "    </tr>\n",
       "    <tr>\n",
       "      <th>3</th>\n",
       "      <td>Brand: WORRICOW</td>\n",
       "      <td>WORRICOW Best Buy Earphones Wired in-Ear Earbu...</td>\n",
       "      <td>199</td>\n",
       "      <td>-</td>\n",
       "      <td>Monday, May 30</td>\n",
       "      <td>In stock.</td>\n",
       "      <td>https://www.amazon.in/WORRICOW-Earphones-Earbu...</td>\n",
       "    </tr>\n",
       "    <tr>\n",
       "      <th>4</th>\n",
       "      <td>Visit the JBL Store</td>\n",
       "      <td>JBL C100SI Wired In Ear Headphones with Mic, J...</td>\n",
       "      <td>-</td>\n",
       "      <td>7 Days Replacement</td>\n",
       "      <td>Friday, May 27</td>\n",
       "      <td></td>\n",
       "      <td>https://www.amazon.in/JBL-C100SI-Ear-Headphone...</td>\n",
       "    </tr>\n",
       "    <tr>\n",
       "      <th>...</th>\n",
       "      <td>...</td>\n",
       "      <td>...</td>\n",
       "      <td>...</td>\n",
       "      <td>...</td>\n",
       "      <td>...</td>\n",
       "      <td>...</td>\n",
       "      <td>...</td>\n",
       "    </tr>\n",
       "    <tr>\n",
       "      <th>61</th>\n",
       "      <td>Visit the Samsung Store</td>\n",
       "      <td>Samsung Original EHS64 Wired in Ear Earphones ...</td>\n",
       "      <td>429</td>\n",
       "      <td>7 Days Replacement</td>\n",
       "      <td>Friday, May 27</td>\n",
       "      <td>In stock.</td>\n",
       "      <td>https://www.amazon.in/Samsung-Original-EHS64AV...</td>\n",
       "    </tr>\n",
       "    <tr>\n",
       "      <th>62</th>\n",
       "      <td>Brand: realme</td>\n",
       "      <td>realme Buds 2 Wired in Ear Earphones with Mic ...</td>\n",
       "      <td>599</td>\n",
       "      <td>7 Days Replacement</td>\n",
       "      <td>Friday, May 27</td>\n",
       "      <td>In stock.</td>\n",
       "      <td>https://www.amazon.in/Realme-Buds-Android-Smar...</td>\n",
       "    </tr>\n",
       "    <tr>\n",
       "      <th>63</th>\n",
       "      <td>Visit the boAt Store</td>\n",
       "      <td>boAt Bassheads 100 in Ear Wired Earphones with...</td>\n",
       "      <td>349</td>\n",
       "      <td>7 Days Replacement</td>\n",
       "      <td>Friday, May 27</td>\n",
       "      <td>In stock.</td>\n",
       "      <td>https://www.amazon.in/boAt-BassHeads-100-Headp...</td>\n",
       "    </tr>\n",
       "    <tr>\n",
       "      <th>64</th>\n",
       "      <td>Visit the PTron Store</td>\n",
       "      <td>PTron Boom Ultima V2 Dual Driver, in-Ear Gamin...</td>\n",
       "      <td>-</td>\n",
       "      <td>7 Days Replacement</td>\n",
       "      <td>Friday, May 27</td>\n",
       "      <td>In stock.</td>\n",
       "      <td>https://www.amazon.in/PTron-Boom-Ultima-V2-Tan...</td>\n",
       "    </tr>\n",
       "    <tr>\n",
       "      <th>65</th>\n",
       "      <td>Visit the tunez Store</td>\n",
       "      <td>tunez Dhwani D20 in Ear Wired Earphone with Bo...</td>\n",
       "      <td>387</td>\n",
       "      <td>7 Days Replacement</td>\n",
       "      <td>Friday, May 27</td>\n",
       "      <td>In stock.</td>\n",
       "      <td>https://www.amazon.in/tunez-D20-Earphone-Dynam...</td>\n",
       "    </tr>\n",
       "  </tbody>\n",
       "</table>\n",
       "<p>66 rows × 7 columns</p>\n",
       "</div>"
      ],
      "text/plain": [
       "                 Brand Name  \\\n",
       "0      Visit the boAt Store   \n",
       "1      Visit the boAt Store   \n",
       "2      Visit the boAt Store   \n",
       "3           Brand: WORRICOW   \n",
       "4       Visit the JBL Store   \n",
       "..                      ...   \n",
       "61  Visit the Samsung Store   \n",
       "62            Brand: realme   \n",
       "63     Visit the boAt Store   \n",
       "64    Visit the PTron Store   \n",
       "65    Visit the tunez Store   \n",
       "\n",
       "                                  Name of the Product  Price  \\\n",
       "0   boAt Bassheads 100 in Ear Wired Earphones with...    349   \n",
       "1   Boat Airdopes 141 42H Playtime, Beast Mode Enx...  1,499   \n",
       "2   boAt Bassheads 100 in Ear Wired Earphones with...    349   \n",
       "3   WORRICOW Best Buy Earphones Wired in-Ear Earbu...    199   \n",
       "4   JBL C100SI Wired In Ear Headphones with Mic, J...      -   \n",
       "..                                                ...    ...   \n",
       "61  Samsung Original EHS64 Wired in Ear Earphones ...    429   \n",
       "62  realme Buds 2 Wired in Ear Earphones with Mic ...    599   \n",
       "63  boAt Bassheads 100 in Ear Wired Earphones with...    349   \n",
       "64  PTron Boom Ultima V2 Dual Driver, in-Ear Gamin...      -   \n",
       "65  tunez Dhwani D20 in Ear Wired Earphone with Bo...    387   \n",
       "\n",
       "       Return/Exchange Expected Delivery Availability  \\\n",
       "0   7 Days Replacement    Friday, May 27    In stock.   \n",
       "1   7 Days Replacement    Friday, May 27    In stock.   \n",
       "2   7 Days Replacement    Friday, May 27    In stock.   \n",
       "3                    -    Monday, May 30    In stock.   \n",
       "4   7 Days Replacement    Friday, May 27                \n",
       "..                 ...               ...          ...   \n",
       "61  7 Days Replacement    Friday, May 27    In stock.   \n",
       "62  7 Days Replacement    Friday, May 27    In stock.   \n",
       "63  7 Days Replacement    Friday, May 27    In stock.   \n",
       "64  7 Days Replacement    Friday, May 27    In stock.   \n",
       "65  7 Days Replacement    Friday, May 27    In stock.   \n",
       "\n",
       "                                          Product URL  \n",
       "0   https://www.amazon.in/Boat-BassHeads-100-Inspi...  \n",
       "1   https://www.amazon.in/Airdopes-141-Playtime-Re...  \n",
       "2   https://www.amazon.in/Boat-BassHeads-100-Inspi...  \n",
       "3   https://www.amazon.in/WORRICOW-Earphones-Earbu...  \n",
       "4   https://www.amazon.in/JBL-C100SI-Ear-Headphone...  \n",
       "..                                                ...  \n",
       "61  https://www.amazon.in/Samsung-Original-EHS64AV...  \n",
       "62  https://www.amazon.in/Realme-Buds-Android-Smar...  \n",
       "63  https://www.amazon.in/boAt-BassHeads-100-Headp...  \n",
       "64  https://www.amazon.in/PTron-Boom-Ultima-V2-Tan...  \n",
       "65  https://www.amazon.in/tunez-D20-Earphone-Dynam...  \n",
       "\n",
       "[66 rows x 7 columns]"
      ]
     },
     "execution_count": 87,
     "metadata": {},
     "output_type": "execute_result"
    }
   ],
   "source": [
    "# creating DataFrame\n",
    "earphonesdf = pd.DataFrame({'Brand Name':brand_name,'Name of the Product':name_of_the_product,'Price':price,'Return/Exchange':return_exchange,'Expected Delivery':expected_delivery,'Availability':availability,'Product URL':product_url})\n",
    "earphonesdf"
   ]
  },
  {
   "cell_type": "code",
   "execution_count": 90,
   "id": "5548a265",
   "metadata": {},
   "outputs": [],
   "source": [
    "# Saving the csv file\n",
    "import pandas as pd\n",
    "earphonesdf.to_csv('earphones_data.csv')"
   ]
  },
  {
   "cell_type": "code",
   "execution_count": 92,
   "id": "488a181e",
   "metadata": {},
   "outputs": [],
   "source": [
    "# closing the driver at the end\n",
    "driver.close()"
   ]
  },
  {
   "cell_type": "markdown",
   "id": "18db97e8",
   "metadata": {},
   "source": [
    "# Question 3 Answer ---> python program to access the search bar and search button on images.google.com and scrape 10 images each for keywords ‘fruits’, ‘cars’ and ‘Machine Learning’, ‘Guitar’, ‘Cakes’."
   ]
  },
  {
   "cell_type": "code",
   "execution_count": 25,
   "id": "446597b2",
   "metadata": {},
   "outputs": [],
   "source": [
    "# importing required libraries\n",
    "import selenium\n",
    "import pandas as pd\n",
    "import numpy as np\n",
    "from selenium import webdriver    # importing webdriver module from selenium to open up automated chrome window\n",
    "import warnings\n",
    "warnings.filterwarnings(\"ignore\") # ignoring warnings that might arise\n",
    "import time                       # used to stop search engine for few seconds\n",
    "\n",
    "# common exceptions\n",
    "from selenium.common.exceptions import NoSuchElementException, StaleElementReferenceException\n",
    "\n",
    "# Importing requests\n",
    "import requests"
   ]
  },
  {
   "cell_type": "markdown",
   "id": "ebc7dcd1",
   "metadata": {},
   "source": [
    "Downloading Fruits images"
   ]
  },
  {
   "cell_type": "code",
   "execution_count": null,
   "id": "615dc846",
   "metadata": {},
   "outputs": [],
   "source": [
    "# opening the webpage given\n",
    "driver = webdriver.Chrome(r\"C:\\web driver\\chromedriver.exe\")\n",
    "driver.get(\"https://images.google.com/\")\n",
    "time.sleep(2)"
   ]
  },
  {
   "cell_type": "code",
   "execution_count": 18,
   "id": "04492a85",
   "metadata": {},
   "outputs": [],
   "source": [
    "# sending fruits keyword in search field\n",
    "search_field = driver.find_element_by_xpath(\"//input[@class='gLFyf gsfi']\").send_keys(\"fruits\")"
   ]
  },
  {
   "cell_type": "code",
   "execution_count": null,
   "id": "2d53d164",
   "metadata": {},
   "outputs": [],
   "source": [
    "# Manually clicked on No thanks"
   ]
  },
  {
   "cell_type": "code",
   "execution_count": 20,
   "id": "689c365a",
   "metadata": {},
   "outputs": [],
   "source": [
    "# clicking search button\n",
    "search_button = driver.find_element_by_xpath(\"//span[@class='z1asCe MZy1Rb']\").click()\n",
    "time.sleep(2)"
   ]
  },
  {
   "cell_type": "code",
   "execution_count": 21,
   "id": "334e15ac",
   "metadata": {},
   "outputs": [],
   "source": [
    "# we scroll down to generate more images on the website\n",
    "for _ in range(20):\n",
    "    driver.execute_script(\"window.scrollBy(0,1000)\")\n",
    "    \n",
    "images = driver.find_elements_by_xpath(\"//img[@class='rg_i Q4LuWd']\")"
   ]
  },
  {
   "cell_type": "code",
   "execution_count": 30,
   "id": "5c4d996a",
   "metadata": {},
   "outputs": [],
   "source": [
    "# creating empty lists for fruits image urls\n",
    "fruits_img_url = []"
   ]
  },
  {
   "cell_type": "code",
   "execution_count": 31,
   "id": "ffbb84d1",
   "metadata": {},
   "outputs": [
    {
     "name": "stdout",
     "output_type": "stream",
     "text": [
      "Downloading 0 of 10 images\n",
      "Downloading 1 of 10 images\n",
      "Downloading 2 of 10 images\n",
      "Downloading 3 of 10 images\n",
      "Downloading 4 of 10 images\n",
      "Downloading 5 of 10 images\n",
      "Downloading 6 of 10 images\n",
      "Downloading 7 of 10 images\n",
      "Downloading 8 of 10 images\n",
      "Downloading 9 of 10 images\n",
      "Downloading 10 of 10 images\n"
     ]
    }
   ],
   "source": [
    "# creating loop for extracting 10 images data\n",
    "for image in images:\n",
    "    source = image.get_attribute('src')\n",
    "    if source is not None:\n",
    "        if(source[0:4] == 'http'):\n",
    "            fruits_img_url.append(source)\n",
    "            \n",
    "for i in range(len(fruits_img_url)):\n",
    "    if i > 10:\n",
    "        break\n",
    "    print(\"Downloading {0} of {1} images\" .format(i,10))\n",
    "    response = requests.get(fruits_img_url[i])\n",
    "    file = open(r\"D:\\images\\fruitimage\"+str(i)+\".jpg\",\"wb\")\n",
    "    file.write(response.content)"
   ]
  },
  {
   "cell_type": "code",
   "execution_count": null,
   "id": "e873c08d",
   "metadata": {},
   "outputs": [],
   "source": [
    "driver.close() # closing the driver at the end"
   ]
  },
  {
   "cell_type": "markdown",
   "id": "50052e2b",
   "metadata": {},
   "source": [
    "Downloading Car images"
   ]
  },
  {
   "cell_type": "code",
   "execution_count": 33,
   "id": "d46f5829",
   "metadata": {},
   "outputs": [],
   "source": [
    "# opening the webpage given\n",
    "driver = webdriver.Chrome(r\"C:\\web driver\\chromedriver.exe\")\n",
    "driver.get(\"https://images.google.com/\")\n",
    "time.sleep(2)"
   ]
  },
  {
   "cell_type": "code",
   "execution_count": null,
   "id": "d923cfa2",
   "metadata": {},
   "outputs": [],
   "source": [
    "# Manually clicked on No thanks"
   ]
  },
  {
   "cell_type": "code",
   "execution_count": 34,
   "id": "124c9a20",
   "metadata": {},
   "outputs": [],
   "source": [
    "# sending cars keyword in search field\n",
    "search_field = driver.find_element_by_xpath(\"//input[@class='gLFyf gsfi']\").send_keys(\"cars\")"
   ]
  },
  {
   "cell_type": "code",
   "execution_count": 35,
   "id": "e7ea16cd",
   "metadata": {},
   "outputs": [],
   "source": [
    "# clicking search button\n",
    "search_button = driver.find_element_by_xpath(\"//span[@class='z1asCe MZy1Rb']\").click()\n",
    "time.sleep(2)"
   ]
  },
  {
   "cell_type": "code",
   "execution_count": 43,
   "id": "beed8b4a",
   "metadata": {},
   "outputs": [],
   "source": [
    "# scrolling and collecting image tags\n",
    "for _ in range(20):\n",
    "    driver.execute_script(\"window.scrollBy(0,1000)\")\n",
    "    \n",
    "carimages = driver.find_elements_by_xpath(\"//img[@class='rg_i Q4LuWd']\")"
   ]
  },
  {
   "cell_type": "code",
   "execution_count": 44,
   "id": "0d03b179",
   "metadata": {},
   "outputs": [],
   "source": [
    "# creating empty lists for cars image urls\n",
    "cars_img_url = []"
   ]
  },
  {
   "cell_type": "code",
   "execution_count": 45,
   "id": "946f4c08",
   "metadata": {},
   "outputs": [
    {
     "name": "stdout",
     "output_type": "stream",
     "text": [
      "Downloading 0 of 10 images\n",
      "Downloading 1 of 10 images\n",
      "Downloading 2 of 10 images\n",
      "Downloading 3 of 10 images\n",
      "Downloading 4 of 10 images\n",
      "Downloading 5 of 10 images\n",
      "Downloading 6 of 10 images\n",
      "Downloading 7 of 10 images\n",
      "Downloading 8 of 10 images\n",
      "Downloading 9 of 10 images\n",
      "Downloading 10 of 10 images\n"
     ]
    }
   ],
   "source": [
    "# creating loop for extracting 10 images data\n",
    "for image in carimages:\n",
    "    source = image.get_attribute('src')\n",
    "    if source is not None:\n",
    "        if(source[0:4] == 'http'):\n",
    "            cars_img_url.append(source)\n",
    "            \n",
    "for i in range(len(cars_img_url)):\n",
    "    if i > 10:\n",
    "        break\n",
    "    print(\"Downloading {0} of {1} images\" .format(i,10))\n",
    "    response = requests.get(cars_img_url[i])\n",
    "    file = open(r\"D:\\images\\carimage\"+str(i)+\".jpg\",\"wb\")\n",
    "    file.write(response.content)"
   ]
  },
  {
   "cell_type": "code",
   "execution_count": 53,
   "id": "3ca0cd8e",
   "metadata": {},
   "outputs": [],
   "source": [
    "driver.close() # closing the driver at the end"
   ]
  },
  {
   "cell_type": "markdown",
   "id": "d5aeb122",
   "metadata": {},
   "source": [
    "Downloading Machine Learning images"
   ]
  },
  {
   "cell_type": "code",
   "execution_count": 54,
   "id": "a1692bb0",
   "metadata": {},
   "outputs": [],
   "source": [
    "# opening the webpage given\n",
    "driver = webdriver.Chrome(r\"C:\\web driver\\chromedriver.exe\")\n",
    "driver.get(\"https://images.google.com/\")\n",
    "time.sleep(2)"
   ]
  },
  {
   "cell_type": "code",
   "execution_count": 55,
   "id": "c98608db",
   "metadata": {},
   "outputs": [],
   "source": [
    "# Manually clicked on No thanks"
   ]
  },
  {
   "cell_type": "code",
   "execution_count": 56,
   "id": "d62ba146",
   "metadata": {},
   "outputs": [],
   "source": [
    "# sending Machine Learning keyword in search field\n",
    "search_field = driver.find_element_by_xpath(\"//input[@class='gLFyf gsfi']\").send_keys(\"Machine Learning\")"
   ]
  },
  {
   "cell_type": "code",
   "execution_count": 57,
   "id": "27fd204e",
   "metadata": {},
   "outputs": [],
   "source": [
    "# clicking search button\n",
    "search_button = driver.find_element_by_xpath(\"//span[@class='z1asCe MZy1Rb']\").click()\n",
    "time.sleep(2)"
   ]
  },
  {
   "cell_type": "code",
   "execution_count": 58,
   "id": "63063cb6",
   "metadata": {},
   "outputs": [],
   "source": [
    "# scrolling and collecting image tags\n",
    "for _ in range(20):\n",
    "    driver.execute_script(\"window.scrollBy(0,1000)\")\n",
    "    \n",
    "mlimages = driver.find_elements_by_xpath(\"//img[@class='rg_i Q4LuWd']\")"
   ]
  },
  {
   "cell_type": "code",
   "execution_count": 59,
   "id": "a1111177",
   "metadata": {},
   "outputs": [],
   "source": [
    "# creating empty lists for Machine Learning image urls\n",
    "ml_img_url = []"
   ]
  },
  {
   "cell_type": "code",
   "execution_count": 60,
   "id": "0572e3a6",
   "metadata": {},
   "outputs": [
    {
     "name": "stdout",
     "output_type": "stream",
     "text": [
      "Downloading 0 of 10 images\n",
      "Downloading 1 of 10 images\n",
      "Downloading 2 of 10 images\n",
      "Downloading 3 of 10 images\n",
      "Downloading 4 of 10 images\n",
      "Downloading 5 of 10 images\n",
      "Downloading 6 of 10 images\n",
      "Downloading 7 of 10 images\n",
      "Downloading 8 of 10 images\n",
      "Downloading 9 of 10 images\n",
      "Downloading 10 of 10 images\n"
     ]
    }
   ],
   "source": [
    "# creating loop for extracting 10 images data\n",
    "for image in mlimages:\n",
    "    source = image.get_attribute('src')\n",
    "    if source is not None:\n",
    "        if(source[0:4] == 'http'):\n",
    "            ml_img_url.append(source)\n",
    "            \n",
    "for i in range(len(ml_img_url)):\n",
    "    if i > 10:\n",
    "        break\n",
    "    print(\"Downloading {0} of {1} images\" .format(i,10))\n",
    "    response = requests.get(ml_img_url[i])\n",
    "    file = open(r\"D:\\images\\mlimage\"+str(i)+\".jpg\",\"wb\")\n",
    "    file.write(response.content)"
   ]
  },
  {
   "cell_type": "code",
   "execution_count": 61,
   "id": "7e0f2f4d",
   "metadata": {},
   "outputs": [],
   "source": [
    "driver.close() # closing the driver at the end"
   ]
  },
  {
   "cell_type": "markdown",
   "id": "b35fb269",
   "metadata": {},
   "source": [
    "Downloading Guitar Images"
   ]
  },
  {
   "cell_type": "code",
   "execution_count": 62,
   "id": "0f15caeb",
   "metadata": {},
   "outputs": [],
   "source": [
    "# opening the webpage given\n",
    "driver = webdriver.Chrome(r\"C:\\web driver\\chromedriver.exe\")\n",
    "driver.get(\"https://images.google.com/\")\n",
    "time.sleep(2)"
   ]
  },
  {
   "cell_type": "code",
   "execution_count": 63,
   "id": "76c76cc0",
   "metadata": {},
   "outputs": [],
   "source": [
    "# Manually clicked on No thanks"
   ]
  },
  {
   "cell_type": "code",
   "execution_count": 64,
   "id": "77f855be",
   "metadata": {},
   "outputs": [],
   "source": [
    "# sending Guitar keyword in search field\n",
    "search_field = driver.find_element_by_xpath(\"//input[@class='gLFyf gsfi']\").send_keys(\"Guitar\")"
   ]
  },
  {
   "cell_type": "code",
   "execution_count": 65,
   "id": "55aa52e7",
   "metadata": {},
   "outputs": [],
   "source": [
    "# clicking search button\n",
    "search_button = driver.find_element_by_xpath(\"//span[@class='z1asCe MZy1Rb']\").click()\n",
    "time.sleep(2)"
   ]
  },
  {
   "cell_type": "code",
   "execution_count": 66,
   "id": "60a27962",
   "metadata": {},
   "outputs": [],
   "source": [
    "# scrolling and collecting image tags\n",
    "for _ in range(20):\n",
    "    driver.execute_script(\"window.scrollBy(0,1000)\")\n",
    "    \n",
    "guitarimages = driver.find_elements_by_xpath(\"//img[@class='rg_i Q4LuWd']\")"
   ]
  },
  {
   "cell_type": "code",
   "execution_count": 67,
   "id": "5fcee2d3",
   "metadata": {},
   "outputs": [],
   "source": [
    "# creating empty lists for Machine Learning image urls\n",
    "guitar_img_url = []"
   ]
  },
  {
   "cell_type": "code",
   "execution_count": 68,
   "id": "c406185a",
   "metadata": {},
   "outputs": [
    {
     "name": "stdout",
     "output_type": "stream",
     "text": [
      "Downloading 0 of 10 images\n",
      "Downloading 1 of 10 images\n",
      "Downloading 2 of 10 images\n",
      "Downloading 3 of 10 images\n",
      "Downloading 4 of 10 images\n",
      "Downloading 5 of 10 images\n",
      "Downloading 6 of 10 images\n",
      "Downloading 7 of 10 images\n",
      "Downloading 8 of 10 images\n",
      "Downloading 9 of 10 images\n",
      "Downloading 10 of 10 images\n"
     ]
    }
   ],
   "source": [
    "# creating loop for extracting 10 images data\n",
    "for image in guitarimages:\n",
    "    source = image.get_attribute('src')\n",
    "    if source is not None:\n",
    "        if(source[0:4] == 'http'):\n",
    "            guitar_img_url.append(source)\n",
    "            \n",
    "for i in range(len(guitar_img_url)):\n",
    "    if i > 10:\n",
    "        break\n",
    "    print(\"Downloading {0} of {1} images\" .format(i,10))\n",
    "    response = requests.get(guitar_img_url[i])\n",
    "    file = open(r\"D:\\images\\guitarimage\"+str(i)+\".jpg\",\"wb\")\n",
    "    file.write(response.content)"
   ]
  },
  {
   "cell_type": "code",
   "execution_count": 69,
   "id": "34246bca",
   "metadata": {},
   "outputs": [],
   "source": [
    "driver.close() # closing the driver at the end"
   ]
  },
  {
   "cell_type": "markdown",
   "id": "ffdcec51",
   "metadata": {},
   "source": [
    "Downloading Cakes images"
   ]
  },
  {
   "cell_type": "code",
   "execution_count": 70,
   "id": "68519804",
   "metadata": {},
   "outputs": [],
   "source": [
    "# opening the webpage given\n",
    "driver = webdriver.Chrome(r\"C:\\web driver\\chromedriver.exe\")\n",
    "driver.get(\"https://images.google.com/\")\n",
    "time.sleep(2)"
   ]
  },
  {
   "cell_type": "code",
   "execution_count": 71,
   "id": "6eac4007",
   "metadata": {},
   "outputs": [],
   "source": [
    "# manually clicking on No Thanks button"
   ]
  },
  {
   "cell_type": "code",
   "execution_count": 72,
   "id": "9feb4c36",
   "metadata": {},
   "outputs": [],
   "source": [
    "# sendding Cakes keywork in search box\n",
    "search_designation = driver.find_element_by_xpath(\"//input[@class='gLFyf gsfi']\").send_keys(\"Cakes\")"
   ]
  },
  {
   "cell_type": "code",
   "execution_count": 73,
   "id": "bfe3ba7f",
   "metadata": {},
   "outputs": [],
   "source": [
    "# pressing the search button\n",
    "search_button = driver.find_element_by_xpath(\"//span[@class='z1asCe MZy1Rb']\").click()\n",
    "time.sleep(2)"
   ]
  },
  {
   "cell_type": "code",
   "execution_count": 74,
   "id": "7a24ac85",
   "metadata": {},
   "outputs": [],
   "source": [
    "# scrolling and collecting images tags\n",
    "\n",
    "for _ in range(20):\n",
    "    driver.execute_script(\"window.scrollBy(0,1000)\")\n",
    "    \n",
    "cakesimages = driver.find_elements_by_xpath(\"//img[@class='rg_i Q4LuWd']\")"
   ]
  },
  {
   "cell_type": "code",
   "execution_count": 75,
   "id": "9fd7731e",
   "metadata": {},
   "outputs": [],
   "source": [
    "# creating emoty list for cakes images url\n",
    "cake_img_url = []"
   ]
  },
  {
   "cell_type": "code",
   "execution_count": 77,
   "id": "b6efc785",
   "metadata": {},
   "outputs": [
    {
     "name": "stdout",
     "output_type": "stream",
     "text": [
      "Downloading 0 of 10 images\n",
      "Downloading 1 of 10 images\n",
      "Downloading 2 of 10 images\n",
      "Downloading 3 of 10 images\n",
      "Downloading 4 of 10 images\n",
      "Downloading 5 of 10 images\n",
      "Downloading 6 of 10 images\n",
      "Downloading 7 of 10 images\n",
      "Downloading 8 of 10 images\n",
      "Downloading 9 of 10 images\n",
      "Downloading 10 of 10 images\n"
     ]
    }
   ],
   "source": [
    "# creating loop for extracting 10 images data\n",
    "for image in cakesimages:\n",
    "    source = image.get_attribute('src')\n",
    "    if source is not None:\n",
    "        if(source[0:4] == 'http'):\n",
    "            cake_img_url.append(source)\n",
    "            \n",
    "for i in range(len(cake_img_url)):\n",
    "    if i > 10:\n",
    "        break\n",
    "    print(\"Downloading {0} of {1} images\" .format(i,10))\n",
    "    response = requests.get(cake_img_url[i])\n",
    "    file = open(r\"D:\\images\\cakeimages\"+str(i)+\".jpg\",\"wb\")\n",
    "    file.write(response.content)"
   ]
  },
  {
   "cell_type": "code",
   "execution_count": 78,
   "id": "829909ac",
   "metadata": {},
   "outputs": [],
   "source": [
    "driver.close()   #closing driver in the end"
   ]
  },
  {
   "cell_type": "markdown",
   "id": "381b54cb",
   "metadata": {},
   "source": [
    "# Question 4 Answer ---> python program to search for a smartphone(e.g.: Oneplus Nord, pixel 4A, etc.) on www.flipkart.com and scrape following details for all the search results displayed on 1st page. Details to be scraped: “Brand Name”, “Smartphone name”, “Colour”, “RAM”, “Storage(ROM)”, “Primary Camera”, “Secondary Camera”, “Display Size”, “Battery Capacity”, “Price”, “Product URL”. Incase if any of the details is missing then replace it by “- “. Save your results in a dataframe and CSV."
   ]
  },
  {
   "cell_type": "code",
   "execution_count": 130,
   "id": "b90edece",
   "metadata": {},
   "outputs": [],
   "source": [
    "# importing required libraries\n",
    "import selenium\n",
    "import pandas as pd\n",
    "import numpy as np\n",
    "from selenium import webdriver    # importing webdriver module from selenium to open up automated chrome window\n",
    "import warnings\n",
    "warnings.filterwarnings(\"ignore\") # ignoring warnings that might arise\n",
    "import time                       # used to stop search engine for few seconds\n",
    "\n",
    "# webdriverwait libraries explicit wait\n",
    "from selenium import webdriver\n",
    "from selenium.webdriver.support.ui import WebDriverWait\n",
    "from selenium.webdriver.support import expected_conditions as EC\n",
    "from selenium.webdriver.common.by import By\n",
    "\n",
    "# common exceptions\n",
    "from selenium.common.exceptions import NoSuchElementException, StaleElementReferenceException\n",
    "\n",
    "# Importing requests\n",
    "import requests"
   ]
  },
  {
   "cell_type": "code",
   "execution_count": 131,
   "id": "b1d41aea",
   "metadata": {},
   "outputs": [],
   "source": [
    "# opening webpage\n",
    "driver = webdriver.Chrome(r\"C:\\web driver\\chromedriver.exe\")\n",
    "driver.get(\"https://www.flipkart.com/\")\n",
    "time.sleep(2)"
   ]
  },
  {
   "cell_type": "code",
   "execution_count": 132,
   "id": "3155c7f4",
   "metadata": {},
   "outputs": [],
   "source": [
    "# closing the automatic popup\n",
    "popup = driver.find_element_by_xpath(\"//button[@class='_2KpZ6l _2doB4z']\").click()"
   ]
  },
  {
   "cell_type": "markdown",
   "id": "c87ed377",
   "metadata": {},
   "source": [
    "I searched \"Redmi Note\" smartphone"
   ]
  },
  {
   "cell_type": "code",
   "execution_count": 133,
   "id": "d35976a5",
   "metadata": {},
   "outputs": [],
   "source": [
    "# entering \"Redmi Note\" in search field\n",
    "search_designation = driver.find_element_by_xpath(\"//input[@class='_3704LK']\").send_keys(\"Redmi Note\")"
   ]
  },
  {
   "cell_type": "code",
   "execution_count": 134,
   "id": "2946fa3d",
   "metadata": {},
   "outputs": [],
   "source": [
    "# clicking on search button\n",
    "search_button = driver.find_element_by_xpath(\"//button[@class='L0Z3Pu']\").click()\n",
    "time.sleep(2)"
   ]
  },
  {
   "cell_type": "code",
   "execution_count": 135,
   "id": "a4c85402",
   "metadata": {},
   "outputs": [],
   "source": [
    "# creating empty list for smartphones url in the first page\n",
    "url = []"
   ]
  },
  {
   "cell_type": "code",
   "execution_count": 136,
   "id": "aded3f5b",
   "metadata": {},
   "outputs": [],
   "source": [
    "# extracting url tags from first page\n",
    "smartphoneurl = driver.find_elements_by_xpath(\"//a[@class='_1fQZEK']\")"
   ]
  },
  {
   "cell_type": "code",
   "execution_count": 137,
   "id": "ac680c37",
   "metadata": {},
   "outputs": [],
   "source": [
    "# creating loop to extract the url from url tags\n",
    "for i in smartphoneurl:\n",
    "    url.append(i.get_attribute('href'))"
   ]
  },
  {
   "cell_type": "code",
   "execution_count": 138,
   "id": "f3a76784",
   "metadata": {},
   "outputs": [
    {
     "data": {
      "text/plain": [
       "24"
      ]
     },
     "execution_count": 138,
     "metadata": {},
     "output_type": "execute_result"
    }
   ],
   "source": [
    "# length of url\n",
    "len(url)"
   ]
  },
  {
   "cell_type": "code",
   "execution_count": 147,
   "id": "fb21e2eb",
   "metadata": {},
   "outputs": [],
   "source": [
    "#creating empty lists for saving data\n",
    "brandname = []\n",
    "smartphonename = []\n",
    "colour = []\n",
    "ram = []\n",
    "storagerom = []\n",
    "primarycamera = []\n",
    "secondarycamera = []\n",
    "displaysize = []\n",
    "batterycapacity = []\n",
    "price = []\n",
    "product_url = []"
   ]
  },
  {
   "cell_type": "code",
   "execution_count": 148,
   "id": "eba2f933",
   "metadata": {},
   "outputs": [],
   "source": [
    "# creating loop for each data to be extracted per page, extracting the required tag and then extracting the data from the tag\n",
    "for i in url:\n",
    "    driver.get(i)          # iterating with in the url list\n",
    "    time.sleep(2)\n",
    "    readmorebutton = driver.find_element_by_xpath(\"//button[@class='_2KpZ6l _1FH0tX']\").click()  # clicking on Read More button\n",
    "    time.sleep(2)\n",
    "    try:\n",
    "        brand=driver.find_element_by_xpath(\"//table[@class='_14cfVK']/tbody/tr[3]/td[2]/ul/li[1]\")\n",
    "        brandname.append(brand.text)   # extracting text from the tag\n",
    "    except NoSuchElementException:\n",
    "        brandname.append(\"-\")          # appending \"-\" if element is not present\n",
    "    try:\n",
    "        smartphone=driver.find_element_by_xpath(\"//span[@class='B_NuCI']\")\n",
    "        smartphonename.append(smartphone.text)\n",
    "    except NoSuchElementException:\n",
    "        smartphonename.append(\"-\")\n",
    "    try:\n",
    "        colourname=driver.find_element_by_xpath(\"//table[@class='_14cfVK']/tbody/tr[4]/td[2]/ul/li\")\n",
    "        colour.append(colourname.text)\n",
    "    except NoSuchElementException:\n",
    "        colour.append(\"-\")\n",
    "    try:\n",
    "        ramtag=driver.find_element_by_xpath(\"//div[@class='_1UhVsV']/div[4]/table/tbody/tr[2]/td[2]/ul/li\")\n",
    "        ram.append(ramtag.text)\n",
    "    except NoSuchElementException:\n",
    "        ram.append(\"-\")\n",
    "    try:\n",
    "        storagetag=driver.find_element_by_xpath(\"//div[@class='_1UhVsV']/div[4]/table/tbody/tr/td[2]/ul/li[1]\")\n",
    "        storagerom.append(storagetag.text)\n",
    "    except NoSuchElementException:\n",
    "        storagerom.append(\"-\")\n",
    "    try:\n",
    "        primarycameratag=driver.find_element_by_xpath(\"//div[@class='_1UhVsV']/div[5]/table/tbody/tr/td[2]/ul/li[1]\")\n",
    "        primarycamera.append(primarycameratag.text)\n",
    "    except NoSuchElementException:\n",
    "        primarycamera.append(\"-\")\n",
    "    try:\n",
    "        secondarycameratag=driver.find_element_by_xpath(\"//div[@class='_1UhVsV']/div[5]/table/tbody/tr[2]/td[1]\")\n",
    "        secondarycamera.append(secondarycameratag.text)\n",
    "    except NoSuchElementException:\n",
    "        secondarycamera.append(\"-\")\n",
    "    try:\n",
    "        displaysizetag=driver.find_element_by_xpath(\"//div[@class='_1UhVsV']/div[2]/table/tbody/tr[1]/td[2]/ul/li\")\n",
    "        displaysize.append(displaysizetag.text)\n",
    "    except NoSuchElementException:\n",
    "        displaysize.append(\"-\")\n",
    "    try:\n",
    "        batterycapacitytag=driver.find_element_by_xpath(\"//div[@class='_1UhVsV']/div[7]/table/tbody/tr/td/ul/li\")\n",
    "        batterycapacity.append(batterycapacitytag.text)\n",
    "    except NoSuchElementException:\n",
    "        batterycapacity.append(\"-\")\n",
    "    try:\n",
    "        pricetag=driver.find_element_by_xpath(\"//div[@class='_30jeq3 _16Jk6d']\")\n",
    "        price.append(pricetag.text.replace(\"₹\",\"\"))\n",
    "    except NoSuchElementException:\n",
    "        price.append(\"-\")\n",
    "    try:\n",
    "        url_string=driver.current_url\n",
    "        product_url.append(url_string)\n",
    "    except NoSuchElementException:\n",
    "        product_url.append(\"-\")"
   ]
  },
  {
   "cell_type": "code",
   "execution_count": 149,
   "id": "17f836d2",
   "metadata": {},
   "outputs": [
    {
     "name": "stdout",
     "output_type": "stream",
     "text": [
      "24 24 24 24 24 24 24 24 24 24 24\n"
     ]
    }
   ],
   "source": [
    "# printing length\n",
    "print(len(brandname),len(smartphonename),len(colour),len(ram),len(storagerom),len(primarycamera),len(secondarycamera),len(displaysize),len(batterycapacity),len(price),len(product_url))"
   ]
  },
  {
   "cell_type": "code",
   "execution_count": 150,
   "id": "e5fba0ee",
   "metadata": {},
   "outputs": [
    {
     "data": {
      "text/html": [
       "<div>\n",
       "<style scoped>\n",
       "    .dataframe tbody tr th:only-of-type {\n",
       "        vertical-align: middle;\n",
       "    }\n",
       "\n",
       "    .dataframe tbody tr th {\n",
       "        vertical-align: top;\n",
       "    }\n",
       "\n",
       "    .dataframe thead th {\n",
       "        text-align: right;\n",
       "    }\n",
       "</style>\n",
       "<table border=\"1\" class=\"dataframe\">\n",
       "  <thead>\n",
       "    <tr style=\"text-align: right;\">\n",
       "      <th></th>\n",
       "      <th>brandname</th>\n",
       "      <th>smartphonename</th>\n",
       "      <th>colour</th>\n",
       "      <th>ram</th>\n",
       "      <th>storagerom</th>\n",
       "      <th>primarycamera</th>\n",
       "      <th>secondarycamera</th>\n",
       "      <th>displaysize</th>\n",
       "      <th>batterycapacity</th>\n",
       "      <th>price</th>\n",
       "      <th>product_url</th>\n",
       "    </tr>\n",
       "  </thead>\n",
       "  <tbody>\n",
       "    <tr>\n",
       "      <th>0</th>\n",
       "      <td>Redmi Note 11</td>\n",
       "      <td>Redmi Note 11 (Starburst White, 64 GB)  (4 GB ...</td>\n",
       "      <td>Starburst White</td>\n",
       "      <td>4 GB</td>\n",
       "      <td>64 GB</td>\n",
       "      <td>50MP Rear Camera</td>\n",
       "      <td>Dual Camera Lens</td>\n",
       "      <td>16.33 cm (6.43 inch)</td>\n",
       "      <td>5000 mAh</td>\n",
       "      <td>12,940</td>\n",
       "      <td>https://www.flipkart.com/redmi-note-11-starbur...</td>\n",
       "    </tr>\n",
       "    <tr>\n",
       "      <th>1</th>\n",
       "      <td>Redmi Note 11</td>\n",
       "      <td>Redmi Note 11 (Space Black, 128 GB)  (6 GB RAM)</td>\n",
       "      <td>Space Black</td>\n",
       "      <td>6 GB</td>\n",
       "      <td>128 GB</td>\n",
       "      <td>50MP Rear Camera</td>\n",
       "      <td>Dual Camera Lens</td>\n",
       "      <td>16.33 cm (6.43 inch)</td>\n",
       "      <td>5000 mAh</td>\n",
       "      <td>15,732</td>\n",
       "      <td>https://www.flipkart.com/redmi-note-11-space-b...</td>\n",
       "    </tr>\n",
       "    <tr>\n",
       "      <th>2</th>\n",
       "      <td>Redmi Note 11</td>\n",
       "      <td>Redmi Note 11 (Space Black, 64 GB)  (6 GB RAM)</td>\n",
       "      <td>Space Black</td>\n",
       "      <td>6 GB</td>\n",
       "      <td>64 GB</td>\n",
       "      <td>50MP Rear Camera</td>\n",
       "      <td>Dual Camera Lens</td>\n",
       "      <td>16.33 cm (6.43 inch)</td>\n",
       "      <td>5000 mAh</td>\n",
       "      <td>13,739</td>\n",
       "      <td>https://www.flipkart.com/redmi-note-11-space-b...</td>\n",
       "    </tr>\n",
       "    <tr>\n",
       "      <th>3</th>\n",
       "      <td>Redmi Note 11</td>\n",
       "      <td>Redmi Note 11 (Horizon Blue, 128 GB)  (6 GB RAM)</td>\n",
       "      <td>Horizon Blue</td>\n",
       "      <td>6 GB</td>\n",
       "      <td>128 GB</td>\n",
       "      <td>50MP Rear Camera</td>\n",
       "      <td>Dual Camera Lens</td>\n",
       "      <td>16.33 cm (6.43 inch)</td>\n",
       "      <td>4G VOLTE</td>\n",
       "      <td>15,699</td>\n",
       "      <td>https://www.flipkart.com/redmi-note-11-horizon...</td>\n",
       "    </tr>\n",
       "    <tr>\n",
       "      <th>4</th>\n",
       "      <td>Redmi Note 11</td>\n",
       "      <td>Redmi Note 11 (Horizon Blue, 64 GB)  (4 GB RAM)</td>\n",
       "      <td>Horizon Blue</td>\n",
       "      <td>4 GB</td>\n",
       "      <td>64 GB</td>\n",
       "      <td>Yes</td>\n",
       "      <td>Primary Camera</td>\n",
       "      <td>16.33 cm (6.43 inch)</td>\n",
       "      <td>4G VOLTE, 4G</td>\n",
       "      <td>12,945</td>\n",
       "      <td>https://www.flipkart.com/redmi-note-11-horizon...</td>\n",
       "    </tr>\n",
       "    <tr>\n",
       "      <th>5</th>\n",
       "      <td>Redmi Note 11 PRO Plus 5G</td>\n",
       "      <td>Redmi Note 11 PRO Plus 5G (Mirage Blue, 128 GB...</td>\n",
       "      <td>Mirage Blue</td>\n",
       "      <td>6 GB</td>\n",
       "      <td>128 GB</td>\n",
       "      <td>108MP Rear Camera</td>\n",
       "      <td>Dual Camera Lens</td>\n",
       "      <td>16.94 cm (6.67 inch)</td>\n",
       "      <td>5000 mAh</td>\n",
       "      <td>21,399</td>\n",
       "      <td>https://www.flipkart.com/redmi-note-11-pro-plu...</td>\n",
       "    </tr>\n",
       "    <tr>\n",
       "      <th>6</th>\n",
       "      <td>REDMI Note 11T 5G</td>\n",
       "      <td>REDMI Note 11T 5G (Aquamarine Blue, 128 GB)  (...</td>\n",
       "      <td>Aquamarine Blue</td>\n",
       "      <td>6 GB</td>\n",
       "      <td>128 GB</td>\n",
       "      <td>50MP Rear Camera</td>\n",
       "      <td>Dual Camera Lens</td>\n",
       "      <td>16.76 cm (6.6 inch)</td>\n",
       "      <td>5000 mAh</td>\n",
       "      <td>17,485</td>\n",
       "      <td>https://www.flipkart.com/redmi-note-11t-5g-aqu...</td>\n",
       "    </tr>\n",
       "    <tr>\n",
       "      <th>7</th>\n",
       "      <td>REDMI Note 11T 5G</td>\n",
       "      <td>REDMI Note 11T 5G (Stardust White, 128 GB)  (8...</td>\n",
       "      <td>Stardust White</td>\n",
       "      <td>8 GB</td>\n",
       "      <td>128 GB</td>\n",
       "      <td>50MP Rear Camera</td>\n",
       "      <td>Dual Camera Lens</td>\n",
       "      <td>16.76 cm (6.6 inch)</td>\n",
       "      <td>5000 mAh</td>\n",
       "      <td>18,880</td>\n",
       "      <td>https://www.flipkart.com/redmi-note-11t-5g-sta...</td>\n",
       "    </tr>\n",
       "    <tr>\n",
       "      <th>8</th>\n",
       "      <td>Redmi Note 11</td>\n",
       "      <td>Redmi Note 11 (Space Black, 64 GB)  (4 GB RAM)</td>\n",
       "      <td>Space Black</td>\n",
       "      <td>4 GB</td>\n",
       "      <td>64 GB</td>\n",
       "      <td>Yes</td>\n",
       "      <td>Primary Camera</td>\n",
       "      <td>16.33 cm (6.43 inch)</td>\n",
       "      <td>4G VOLTE, 4G</td>\n",
       "      <td>13,235</td>\n",
       "      <td>https://www.flipkart.com/redmi-note-11-space-b...</td>\n",
       "    </tr>\n",
       "    <tr>\n",
       "      <th>9</th>\n",
       "      <td>REDMI Note 11T 5G</td>\n",
       "      <td>REDMI Note 11T 5G (Matte black, 64 GB)  (6 GB ...</td>\n",
       "      <td>Matte black</td>\n",
       "      <td>6 GB</td>\n",
       "      <td>64 GB</td>\n",
       "      <td>50MP Rear Camera</td>\n",
       "      <td>Dual Camera Lens</td>\n",
       "      <td>16.76 cm (6.6 inch)</td>\n",
       "      <td>5000 mAh</td>\n",
       "      <td>18,217</td>\n",
       "      <td>https://www.flipkart.com/redmi-note-11t-5g-mat...</td>\n",
       "    </tr>\n",
       "    <tr>\n",
       "      <th>10</th>\n",
       "      <td>REDMI Note 11T 5G</td>\n",
       "      <td>REDMI Note 11T 5G (Matte black, 128 GB)  (8 GB...</td>\n",
       "      <td>Matte black</td>\n",
       "      <td>8 GB</td>\n",
       "      <td>128 GB</td>\n",
       "      <td>50MP Rear Camera</td>\n",
       "      <td>Dual Camera Lens</td>\n",
       "      <td>16.76 cm (6.6 inch)</td>\n",
       "      <td>5000 mAh</td>\n",
       "      <td>19,499</td>\n",
       "      <td>https://www.flipkart.com/redmi-note-11t-5g-mat...</td>\n",
       "    </tr>\n",
       "    <tr>\n",
       "      <th>11</th>\n",
       "      <td>REDMI Note 11 Pro</td>\n",
       "      <td>REDMI Note 11 Pro (Phantom White, 128 GB)  (6 ...</td>\n",
       "      <td>Phantom White</td>\n",
       "      <td>6 GB</td>\n",
       "      <td>128 GB</td>\n",
       "      <td>108MP Rear Camera</td>\n",
       "      <td>Dual Camera Lens</td>\n",
       "      <td>16.94 cm (6.67 inch)</td>\n",
       "      <td>5000 mAh</td>\n",
       "      <td>18,846</td>\n",
       "      <td>https://www.flipkart.com/redmi-note-11-pro-pha...</td>\n",
       "    </tr>\n",
       "    <tr>\n",
       "      <th>12</th>\n",
       "      <td>REDMI Note 11T 5G</td>\n",
       "      <td>REDMI Note 11T 5G (Stardust White, 128 GB)  (6...</td>\n",
       "      <td>Stardust White</td>\n",
       "      <td>6 GB</td>\n",
       "      <td>128 GB</td>\n",
       "      <td>50MP Rear Camera</td>\n",
       "      <td>Dual Camera Lens</td>\n",
       "      <td>16.76 cm (6.6 inch)</td>\n",
       "      <td>5000 mAh</td>\n",
       "      <td>17,270</td>\n",
       "      <td>https://www.flipkart.com/redmi-note-11t-5g-sta...</td>\n",
       "    </tr>\n",
       "    <tr>\n",
       "      <th>13</th>\n",
       "      <td>Redmi Note 11</td>\n",
       "      <td>Redmi Note 11 (Starburst White, 64 GB)  (6 GB ...</td>\n",
       "      <td>Starburst White</td>\n",
       "      <td>6 GB</td>\n",
       "      <td>64 GB</td>\n",
       "      <td>50MP Rear Camera</td>\n",
       "      <td>Dual Camera Lens</td>\n",
       "      <td>16.33 cm (6.43 inch)</td>\n",
       "      <td>5000 mAh</td>\n",
       "      <td>14,149</td>\n",
       "      <td>https://www.flipkart.com/redmi-note-11-starbur...</td>\n",
       "    </tr>\n",
       "    <tr>\n",
       "      <th>14</th>\n",
       "      <td>Redmi Note 11</td>\n",
       "      <td>Redmi Note 11 (Starburst White, 128 GB)  (6 GB...</td>\n",
       "      <td>Starburst White</td>\n",
       "      <td>6 GB</td>\n",
       "      <td>128 GB</td>\n",
       "      <td>50MP Rear Camera</td>\n",
       "      <td>Dual Camera Lens</td>\n",
       "      <td>16.33 cm (6.43 inch)</td>\n",
       "      <td>5000 mAh</td>\n",
       "      <td>15,999</td>\n",
       "      <td>https://www.flipkart.com/redmi-note-11-starbur...</td>\n",
       "    </tr>\n",
       "    <tr>\n",
       "      <th>15</th>\n",
       "      <td>REDMI Note 11 Pro</td>\n",
       "      <td>REDMI Note 11 Pro (Phantom White, 128 GB)  (8 ...</td>\n",
       "      <td>Phantom White</td>\n",
       "      <td>8 GB</td>\n",
       "      <td>128 GB</td>\n",
       "      <td>108MP Rear Camera</td>\n",
       "      <td>Dual Camera Lens</td>\n",
       "      <td>16.94 cm (6.67 inch)</td>\n",
       "      <td>5000 mAh</td>\n",
       "      <td>20,907</td>\n",
       "      <td>https://www.flipkart.com/redmi-note-11-pro-pha...</td>\n",
       "    </tr>\n",
       "    <tr>\n",
       "      <th>16</th>\n",
       "      <td>REDMI Note 11T 5G</td>\n",
       "      <td>REDMI Note 11T 5G (Aquamarine Blue, 128 GB)  (...</td>\n",
       "      <td>Aquamarine Blue</td>\n",
       "      <td>8 GB</td>\n",
       "      <td>128 GB</td>\n",
       "      <td>50MP Rear Camera</td>\n",
       "      <td>Dual Camera Lens</td>\n",
       "      <td>16.76 cm (6.6 inch)</td>\n",
       "      <td>5000 mAh</td>\n",
       "      <td>18,795</td>\n",
       "      <td>https://www.flipkart.com/redmi-note-11t-5g-aqu...</td>\n",
       "    </tr>\n",
       "    <tr>\n",
       "      <th>17</th>\n",
       "      <td>REDMI Note 11T 5G</td>\n",
       "      <td>REDMI Note 11T 5G (Matte black, 128 GB)  (6 GB...</td>\n",
       "      <td>Matte black</td>\n",
       "      <td>6 GB</td>\n",
       "      <td>128 GB</td>\n",
       "      <td>50MP Rear Camera</td>\n",
       "      <td>Dual Camera Lens</td>\n",
       "      <td>16.76 cm (6.6 inch)</td>\n",
       "      <td>5000 mAh</td>\n",
       "      <td>17,500</td>\n",
       "      <td>https://www.flipkart.com/redmi-note-11t-5g-mat...</td>\n",
       "    </tr>\n",
       "    <tr>\n",
       "      <th>18</th>\n",
       "      <td>Redmi Note 11S</td>\n",
       "      <td>Redmi Note 11S (Space Black, 128 GB)  (8 GB RAM)</td>\n",
       "      <td>Space Black</td>\n",
       "      <td>8 GB</td>\n",
       "      <td>128 GB</td>\n",
       "      <td>108MP Rear Camera</td>\n",
       "      <td>Dual Camera Lens</td>\n",
       "      <td>16.33 cm (6.43 inch)</td>\n",
       "      <td>5000 mAh</td>\n",
       "      <td>18,400</td>\n",
       "      <td>https://www.flipkart.com/redmi-note-11s-space-...</td>\n",
       "    </tr>\n",
       "    <tr>\n",
       "      <th>19</th>\n",
       "      <td>REDMI Note 11 Pro</td>\n",
       "      <td>REDMI Note 11 Pro (Star blue, 128 GB)  (6 GB RAM)</td>\n",
       "      <td>Star blue</td>\n",
       "      <td>6 GB</td>\n",
       "      <td>128 GB</td>\n",
       "      <td>108MP Rear Camera</td>\n",
       "      <td>Dual Camera Lens</td>\n",
       "      <td>16.94 cm (6.67 inch)</td>\n",
       "      <td>5000 mAh</td>\n",
       "      <td>19,499</td>\n",
       "      <td>https://www.flipkart.com/redmi-note-11-pro-sta...</td>\n",
       "    </tr>\n",
       "    <tr>\n",
       "      <th>20</th>\n",
       "      <td>Redmi Note 11 PRO Plus 5G</td>\n",
       "      <td>Redmi Note 11 PRO Plus 5G (Stealth Black, 128 ...</td>\n",
       "      <td>Stealth Black</td>\n",
       "      <td>6 GB</td>\n",
       "      <td>128 GB</td>\n",
       "      <td>108MP Rear Camera</td>\n",
       "      <td>Dual Camera Lens</td>\n",
       "      <td>16.94 cm (6.67 inch)</td>\n",
       "      <td>5000 mAh</td>\n",
       "      <td>21,184</td>\n",
       "      <td>https://www.flipkart.com/redmi-note-11-pro-plu...</td>\n",
       "    </tr>\n",
       "    <tr>\n",
       "      <th>21</th>\n",
       "      <td>REDMI Note 11 Pro</td>\n",
       "      <td>REDMI Note 11 Pro (Star Blue, 128 GB)  (8 GB RAM)</td>\n",
       "      <td>Star Blue</td>\n",
       "      <td>8 GB</td>\n",
       "      <td>128 GB</td>\n",
       "      <td>108MP Rear Camera</td>\n",
       "      <td>Dual Camera Lens</td>\n",
       "      <td>16.94 cm (6.67 inch)</td>\n",
       "      <td>5000 mAh</td>\n",
       "      <td>20,718</td>\n",
       "      <td>https://www.flipkart.com/redmi-note-11-pro-sta...</td>\n",
       "    </tr>\n",
       "    <tr>\n",
       "      <th>22</th>\n",
       "      <td>Redmi Note 11 PRO Plus 5G</td>\n",
       "      <td>Redmi Note 11 PRO Plus 5G (Stealth Black, 256 ...</td>\n",
       "      <td>Stealth Black</td>\n",
       "      <td>8 GB</td>\n",
       "      <td>256 GB</td>\n",
       "      <td>108MP Rear Camera</td>\n",
       "      <td>Dual Camera Lens</td>\n",
       "      <td>16.94 cm (6.67 inch)</td>\n",
       "      <td>5000 mAh</td>\n",
       "      <td>25,725</td>\n",
       "      <td>https://www.flipkart.com/redmi-note-11-pro-plu...</td>\n",
       "    </tr>\n",
       "    <tr>\n",
       "      <th>23</th>\n",
       "      <td>REDMI Note 11 Pro</td>\n",
       "      <td>REDMI Note 11 Pro (Stealth Black, 128 GB)  (8 ...</td>\n",
       "      <td>Stealth Black</td>\n",
       "      <td>8 GB</td>\n",
       "      <td>128 GB</td>\n",
       "      <td>108MP Rear Camera</td>\n",
       "      <td>Dual Camera Lens</td>\n",
       "      <td>16.94 cm (6.67 inch)</td>\n",
       "      <td>5000 mAh</td>\n",
       "      <td>21,950</td>\n",
       "      <td>https://www.flipkart.com/redmi-note-11-pro-ste...</td>\n",
       "    </tr>\n",
       "  </tbody>\n",
       "</table>\n",
       "</div>"
      ],
      "text/plain": [
       "                    brandname  \\\n",
       "0               Redmi Note 11   \n",
       "1               Redmi Note 11   \n",
       "2               Redmi Note 11   \n",
       "3               Redmi Note 11   \n",
       "4               Redmi Note 11   \n",
       "5   Redmi Note 11 PRO Plus 5G   \n",
       "6           REDMI Note 11T 5G   \n",
       "7           REDMI Note 11T 5G   \n",
       "8               Redmi Note 11   \n",
       "9           REDMI Note 11T 5G   \n",
       "10          REDMI Note 11T 5G   \n",
       "11          REDMI Note 11 Pro   \n",
       "12          REDMI Note 11T 5G   \n",
       "13              Redmi Note 11   \n",
       "14              Redmi Note 11   \n",
       "15          REDMI Note 11 Pro   \n",
       "16          REDMI Note 11T 5G   \n",
       "17          REDMI Note 11T 5G   \n",
       "18             Redmi Note 11S   \n",
       "19          REDMI Note 11 Pro   \n",
       "20  Redmi Note 11 PRO Plus 5G   \n",
       "21          REDMI Note 11 Pro   \n",
       "22  Redmi Note 11 PRO Plus 5G   \n",
       "23          REDMI Note 11 Pro   \n",
       "\n",
       "                                       smartphonename           colour   ram  \\\n",
       "0   Redmi Note 11 (Starburst White, 64 GB)  (4 GB ...  Starburst White  4 GB   \n",
       "1     Redmi Note 11 (Space Black, 128 GB)  (6 GB RAM)      Space Black  6 GB   \n",
       "2      Redmi Note 11 (Space Black, 64 GB)  (6 GB RAM)      Space Black  6 GB   \n",
       "3    Redmi Note 11 (Horizon Blue, 128 GB)  (6 GB RAM)     Horizon Blue  6 GB   \n",
       "4     Redmi Note 11 (Horizon Blue, 64 GB)  (4 GB RAM)     Horizon Blue  4 GB   \n",
       "5   Redmi Note 11 PRO Plus 5G (Mirage Blue, 128 GB...      Mirage Blue  6 GB   \n",
       "6   REDMI Note 11T 5G (Aquamarine Blue, 128 GB)  (...  Aquamarine Blue  6 GB   \n",
       "7   REDMI Note 11T 5G (Stardust White, 128 GB)  (8...   Stardust White  8 GB   \n",
       "8      Redmi Note 11 (Space Black, 64 GB)  (4 GB RAM)      Space Black  4 GB   \n",
       "9   REDMI Note 11T 5G (Matte black, 64 GB)  (6 GB ...      Matte black  6 GB   \n",
       "10  REDMI Note 11T 5G (Matte black, 128 GB)  (8 GB...      Matte black  8 GB   \n",
       "11  REDMI Note 11 Pro (Phantom White, 128 GB)  (6 ...    Phantom White  6 GB   \n",
       "12  REDMI Note 11T 5G (Stardust White, 128 GB)  (6...   Stardust White  6 GB   \n",
       "13  Redmi Note 11 (Starburst White, 64 GB)  (6 GB ...  Starburst White  6 GB   \n",
       "14  Redmi Note 11 (Starburst White, 128 GB)  (6 GB...  Starburst White  6 GB   \n",
       "15  REDMI Note 11 Pro (Phantom White, 128 GB)  (8 ...    Phantom White  8 GB   \n",
       "16  REDMI Note 11T 5G (Aquamarine Blue, 128 GB)  (...  Aquamarine Blue  8 GB   \n",
       "17  REDMI Note 11T 5G (Matte black, 128 GB)  (6 GB...      Matte black  6 GB   \n",
       "18   Redmi Note 11S (Space Black, 128 GB)  (8 GB RAM)      Space Black  8 GB   \n",
       "19  REDMI Note 11 Pro (Star blue, 128 GB)  (6 GB RAM)        Star blue  6 GB   \n",
       "20  Redmi Note 11 PRO Plus 5G (Stealth Black, 128 ...    Stealth Black  6 GB   \n",
       "21  REDMI Note 11 Pro (Star Blue, 128 GB)  (8 GB RAM)        Star Blue  8 GB   \n",
       "22  Redmi Note 11 PRO Plus 5G (Stealth Black, 256 ...    Stealth Black  8 GB   \n",
       "23  REDMI Note 11 Pro (Stealth Black, 128 GB)  (8 ...    Stealth Black  8 GB   \n",
       "\n",
       "   storagerom      primarycamera   secondarycamera           displaysize  \\\n",
       "0       64 GB   50MP Rear Camera  Dual Camera Lens  16.33 cm (6.43 inch)   \n",
       "1      128 GB   50MP Rear Camera  Dual Camera Lens  16.33 cm (6.43 inch)   \n",
       "2       64 GB   50MP Rear Camera  Dual Camera Lens  16.33 cm (6.43 inch)   \n",
       "3      128 GB   50MP Rear Camera  Dual Camera Lens  16.33 cm (6.43 inch)   \n",
       "4       64 GB                Yes    Primary Camera  16.33 cm (6.43 inch)   \n",
       "5      128 GB  108MP Rear Camera  Dual Camera Lens  16.94 cm (6.67 inch)   \n",
       "6      128 GB   50MP Rear Camera  Dual Camera Lens   16.76 cm (6.6 inch)   \n",
       "7      128 GB   50MP Rear Camera  Dual Camera Lens   16.76 cm (6.6 inch)   \n",
       "8       64 GB                Yes    Primary Camera  16.33 cm (6.43 inch)   \n",
       "9       64 GB   50MP Rear Camera  Dual Camera Lens   16.76 cm (6.6 inch)   \n",
       "10     128 GB   50MP Rear Camera  Dual Camera Lens   16.76 cm (6.6 inch)   \n",
       "11     128 GB  108MP Rear Camera  Dual Camera Lens  16.94 cm (6.67 inch)   \n",
       "12     128 GB   50MP Rear Camera  Dual Camera Lens   16.76 cm (6.6 inch)   \n",
       "13      64 GB   50MP Rear Camera  Dual Camera Lens  16.33 cm (6.43 inch)   \n",
       "14     128 GB   50MP Rear Camera  Dual Camera Lens  16.33 cm (6.43 inch)   \n",
       "15     128 GB  108MP Rear Camera  Dual Camera Lens  16.94 cm (6.67 inch)   \n",
       "16     128 GB   50MP Rear Camera  Dual Camera Lens   16.76 cm (6.6 inch)   \n",
       "17     128 GB   50MP Rear Camera  Dual Camera Lens   16.76 cm (6.6 inch)   \n",
       "18     128 GB  108MP Rear Camera  Dual Camera Lens  16.33 cm (6.43 inch)   \n",
       "19     128 GB  108MP Rear Camera  Dual Camera Lens  16.94 cm (6.67 inch)   \n",
       "20     128 GB  108MP Rear Camera  Dual Camera Lens  16.94 cm (6.67 inch)   \n",
       "21     128 GB  108MP Rear Camera  Dual Camera Lens  16.94 cm (6.67 inch)   \n",
       "22     256 GB  108MP Rear Camera  Dual Camera Lens  16.94 cm (6.67 inch)   \n",
       "23     128 GB  108MP Rear Camera  Dual Camera Lens  16.94 cm (6.67 inch)   \n",
       "\n",
       "   batterycapacity   price                                        product_url  \n",
       "0         5000 mAh  12,940  https://www.flipkart.com/redmi-note-11-starbur...  \n",
       "1         5000 mAh  15,732  https://www.flipkart.com/redmi-note-11-space-b...  \n",
       "2         5000 mAh  13,739  https://www.flipkart.com/redmi-note-11-space-b...  \n",
       "3         4G VOLTE  15,699  https://www.flipkart.com/redmi-note-11-horizon...  \n",
       "4     4G VOLTE, 4G  12,945  https://www.flipkart.com/redmi-note-11-horizon...  \n",
       "5         5000 mAh  21,399  https://www.flipkart.com/redmi-note-11-pro-plu...  \n",
       "6         5000 mAh  17,485  https://www.flipkart.com/redmi-note-11t-5g-aqu...  \n",
       "7         5000 mAh  18,880  https://www.flipkart.com/redmi-note-11t-5g-sta...  \n",
       "8     4G VOLTE, 4G  13,235  https://www.flipkart.com/redmi-note-11-space-b...  \n",
       "9         5000 mAh  18,217  https://www.flipkart.com/redmi-note-11t-5g-mat...  \n",
       "10        5000 mAh  19,499  https://www.flipkart.com/redmi-note-11t-5g-mat...  \n",
       "11        5000 mAh  18,846  https://www.flipkart.com/redmi-note-11-pro-pha...  \n",
       "12        5000 mAh  17,270  https://www.flipkart.com/redmi-note-11t-5g-sta...  \n",
       "13        5000 mAh  14,149  https://www.flipkart.com/redmi-note-11-starbur...  \n",
       "14        5000 mAh  15,999  https://www.flipkart.com/redmi-note-11-starbur...  \n",
       "15        5000 mAh  20,907  https://www.flipkart.com/redmi-note-11-pro-pha...  \n",
       "16        5000 mAh  18,795  https://www.flipkart.com/redmi-note-11t-5g-aqu...  \n",
       "17        5000 mAh  17,500  https://www.flipkart.com/redmi-note-11t-5g-mat...  \n",
       "18        5000 mAh  18,400  https://www.flipkart.com/redmi-note-11s-space-...  \n",
       "19        5000 mAh  19,499  https://www.flipkart.com/redmi-note-11-pro-sta...  \n",
       "20        5000 mAh  21,184  https://www.flipkart.com/redmi-note-11-pro-plu...  \n",
       "21        5000 mAh  20,718  https://www.flipkart.com/redmi-note-11-pro-sta...  \n",
       "22        5000 mAh  25,725  https://www.flipkart.com/redmi-note-11-pro-plu...  \n",
       "23        5000 mAh  21,950  https://www.flipkart.com/redmi-note-11-pro-ste...  "
      ]
     },
     "execution_count": 150,
     "metadata": {},
     "output_type": "execute_result"
    }
   ],
   "source": [
    "# creating dataFrame\n",
    "smartphonedf = pd.DataFrame({'brandname':brandname,'smartphonename':smartphonename,'colour':colour,'ram':ram,'storagerom':storagerom,'primarycamera':primarycamera,'secondarycamera':secondarycamera,'displaysize':displaysize,'batterycapacity':batterycapacity,'price':price,'product_url':product_url})\n",
    "smartphonedf"
   ]
  },
  {
   "cell_type": "code",
   "execution_count": 151,
   "id": "68885937",
   "metadata": {},
   "outputs": [],
   "source": [
    "#saving dataframe in csv file\n",
    "import pandas as pd\n",
    "smartphonedf.to_csv('smartphones_data.csv')"
   ]
  },
  {
   "cell_type": "code",
   "execution_count": 152,
   "id": "d76754ae",
   "metadata": {},
   "outputs": [],
   "source": [
    "driver.close()   # closing the driver at the end"
   ]
  },
  {
   "cell_type": "markdown",
   "id": "b56b156d",
   "metadata": {},
   "source": [
    "# Question 5 Answer ---> program to scrap geospatial coordinates (latitude, longitude) of a city searched on google maps."
   ]
  },
  {
   "cell_type": "code",
   "execution_count": 154,
   "id": "7185e101",
   "metadata": {},
   "outputs": [],
   "source": [
    "# importing required libraries\n",
    "import selenium\n",
    "import pandas as pd\n",
    "import numpy as np\n",
    "from selenium import webdriver    # importing webdriver module from selenium to open up automated chrome window\n",
    "import warnings\n",
    "warnings.filterwarnings(\"ignore\") # ignoring warnings that might arise\n",
    "import time                       # used to stop search engine for few seconds\n",
    "\n",
    "# common exceptions\n",
    "from selenium.common.exceptions import NoSuchElementException, StaleElementReferenceException\n",
    "\n",
    "# Importing requests\n",
    "import requests\n",
    "\n",
    "#importing regex\n",
    "import re"
   ]
  },
  {
   "cell_type": "code",
   "execution_count": 156,
   "id": "35892a92",
   "metadata": {},
   "outputs": [],
   "source": [
    "# opening the webpage\n",
    "driver = webdriver.Chrome(r\"C:\\web driver\\chromedriver.exe\")\n",
    "driver.get(\"https://www.google.com/maps\")\n",
    "time.sleep(2)"
   ]
  },
  {
   "cell_type": "markdown",
   "id": "43d12518",
   "metadata": {},
   "source": [
    "I used Bangalore location"
   ]
  },
  {
   "cell_type": "code",
   "execution_count": 166,
   "id": "c69cfeca",
   "metadata": {},
   "outputs": [],
   "source": [
    "# entering \"Bangalore\" in search google maps section\n",
    "search_designation = driver.find_element_by_id(\"searchboxinput\").send_keys(\"Bangalore\")"
   ]
  },
  {
   "cell_type": "code",
   "execution_count": 167,
   "id": "39fa8586",
   "metadata": {},
   "outputs": [],
   "source": [
    "# clicking search button\n",
    "search_button = driver.find_element_by_id(\"searchbox-searchbutton\").click()\n",
    "time.sleep(5)"
   ]
  },
  {
   "cell_type": "code",
   "execution_count": 168,
   "id": "899285bc",
   "metadata": {},
   "outputs": [
    {
     "name": "stdout",
     "output_type": "stream",
     "text": [
      "URL Extracted: https://www.google.com/maps/place/Bengaluru,+Karnataka/@12.9538477,77.3507404,10z/data=!3m1!4b1!4m5!3m4!1s0x3bae1670c9b44e6d:0xf8dfc3e8517e4fe0!8m2!3d12.9715987!4d77.5945627\n"
     ]
    }
   ],
   "source": [
    "# getting the current url from the google chrome in which the lattitude and longitude are present\n",
    "url_string = driver.current_url\n",
    "print(\"URL Extracted:\", url_string)"
   ]
  },
  {
   "cell_type": "code",
   "execution_count": 182,
   "id": "92aaa3a8",
   "metadata": {},
   "outputs": [
    {
     "data": {
      "text/plain": [
       "<re.Match object; span=(55, 77), match='@12.9538477,77.3507404'>"
      ]
     },
     "execution_count": 182,
     "metadata": {},
     "output_type": "execute_result"
    }
   ],
   "source": [
    "# extracting lattitude and longitude using regular expressions\n",
    "x = re.search(\"\\@[-?\\d\\.]*\\,([-?\\d\\.]*)\",url_string)\n",
    "x"
   ]
  },
  {
   "cell_type": "markdown",
   "id": "b2d77d79",
   "metadata": {},
   "source": [
    "# Question 6 Answer ---> program to scrap details of all the funding deals for second quarter (i.e Jan 21 – March 21) from trak.in."
   ]
  },
  {
   "cell_type": "code",
   "execution_count": 1,
   "id": "82acfbb1",
   "metadata": {},
   "outputs": [],
   "source": [
    "# importing required libraries\n",
    "import selenium\n",
    "import pandas as pd\n",
    "import numpy as np\n",
    "from selenium import webdriver    # importing webdriver module from selenium to open up automated chrome window\n",
    "import warnings\n",
    "warnings.filterwarnings(\"ignore\") # ignoring warnings that might arise\n",
    "import time                       # used to stop search engine for few seconds"
   ]
  },
  {
   "cell_type": "code",
   "execution_count": 2,
   "id": "391ae0e7",
   "metadata": {},
   "outputs": [],
   "source": [
    "# opening webpage\n",
    "driver = webdriver.Chrome(r\"C:\\web driver\\chromedriver.exe\")\n",
    "driver.get(\"https://trak.in/\")\n",
    "time.sleep(5)"
   ]
  },
  {
   "cell_type": "code",
   "execution_count": 3,
   "id": "33b58b5c",
   "metadata": {},
   "outputs": [],
   "source": [
    "# clicking on \"Funding Deals\"\n",
    "funding_deals = driver.find_element_by_id(\"menu-item-51510\").click()"
   ]
  },
  {
   "cell_type": "code",
   "execution_count": 14,
   "id": "4a82c8a9",
   "metadata": {},
   "outputs": [],
   "source": [
    "# closing the pop up manually"
   ]
  },
  {
   "cell_type": "code",
   "execution_count": 35,
   "id": "e142113a",
   "metadata": {},
   "outputs": [],
   "source": [
    "# creating empty list for the data\n",
    "januaryfundingdeals = []\n",
    "februaryfundingdeals = []\n",
    "marchfundingdeals = []"
   ]
  },
  {
   "cell_type": "code",
   "execution_count": 36,
   "id": "2574c505",
   "metadata": {},
   "outputs": [
    {
     "data": {
      "text/plain": [
       "[\"Sr. No. Date (dd/mm/yyyy) Startup Name Industry / Vertical Sub-Vertical City / Location Investors' Name Investment Type Amount (In USD)      ::      1 15/01/2021 Digit Insurance Financial Services Insurance Services Bengaluru A91 Partners, Faering Capital, TVS Capital Funds Venture 1,80,00,000      ::      2 28/01/2021 Bombay Shaving Company Consumer Goods Company Shave care, beard care, and skincare products New Delhi Reckitt Benckiser Venture 6,172,258.50      ::      3 19/01/2021 DeHaat AgriTech Startup online marketplace for farm products and services Patna Prosus Ventures Series C 30,000,000      ::      4 19/01/2021 Darwinbox SaaS HR Tech Mumbai Salesforce Ventures Seed 15,000,000      ::      5 18/01/2021 mfine Health Tech Startup AI-powered telemedicine mobile app Bengaluru Heritas Capital Management Venture Round 16,000,000      ::      6 18/01/2021 Udayy EdTech Online learning platform for kids in class 1-5 Gurgaon Sequoia Capital Seed Funding 15,000,000      ::      7 11/01/2021 True Elements Food Startup Whole Food plant based Nashta Pune SIDBI Venture Capital Series 100,000,000      ::      8 13/01/2021 Saveo B2B E-commerce Pharmacies Bengaluru Matrix Partners India, RTP Global, others Seed 4,000,000\"]"
      ]
     },
     "execution_count": 36,
     "metadata": {},
     "output_type": "execute_result"
    }
   ],
   "source": [
    "# extracting Jan 2021 all funding deals\n",
    "jantags = driver.find_element_by_xpath(\"/html/body/div[1]/main/div/div/div/div[2]/div[1]/div/div/div/div[1]/div/div[5]/div[3]\")\n",
    "januaryfundingdeals.append(jantags.text.replace(\"\\n\",\"      ::      \")) # extracting data\n",
    "januaryfundingdeals"
   ]
  },
  {
   "cell_type": "code",
   "execution_count": 37,
   "id": "db29daa6",
   "metadata": {},
   "outputs": [
    {
     "data": {
      "text/plain": [
       "[\"Sr. No. Date (dd/mm/yyyy) Startup Name Industry / Vertical Sub-Vertical City / Location Investors' Name Investment Type Amount (In USD)      ::      1 11/02/2021 Doubtnut Edu Tech E-Learning Platform Gurgaon SIG Global, Sequoia Capital, WaterBridge Ventures and ON Mauritius Series B 2,500,000      ::      2 22/02/2021 Zomato Hospitality Online Food Delivery Platform Gurgaon Tiger Global, Kora Venture 250,000,000      ::      3 19/02/2021 Fingerlix Hospitality Semi-cooked food delivery app Mumbai Rhodium Trust, Accel Partners and Swiggy Series C 2,747,045.20      ::      4 17/02/2021 Zolve FinTech Global Neobank Venture Mumbai Accel Partners and Lightspeed Venture Partners Seed 1,50,00,000      ::      5 15/02/2021 KreditBee Finance Digital lending platform Bengaluru Azim Premji’s PremjiInvest and South Korea’s Mirae Asset Venture Series C 75,000,000      ::      6 12/02/2021 Pepperfry E-commerce Multi-brand furniture brand Mumbai InnoVen Capital Debt Financing 4,773,958      ::      7 12/02/2021 Grofers E-Commerce Online supermarket Gurgaon SoftBank Vision Fund (SVF) Unspecified 55,000,000      ::      8 09/02/2021 Nothing Technology Consumer Technology Venture London GV Series A 15,000,000      ::      9 09/02/2021 SplashLearn EdTech Game-based learning programme Gurgaon Owl Ventures Series C 18,000,000\"]"
      ]
     },
     "execution_count": 37,
     "metadata": {},
     "output_type": "execute_result"
    }
   ],
   "source": [
    "# extracting February 2021 all funding deals\n",
    "febtags = driver.find_element_by_xpath(\"/html/body/div[1]/main/div/div/div/div[2]/div[1]/div/div/div/div[1]/div/div[4]/div[3]\")\n",
    "februaryfundingdeals.append(febtags.text.replace(\"\\n\",\"      ::      \")) # extracting data\n",
    "februaryfundingdeals"
   ]
  },
  {
   "cell_type": "code",
   "execution_count": 38,
   "id": "41c54b49",
   "metadata": {},
   "outputs": [
    {
     "data": {
      "text/plain": [
       "[\"Sr. No. Date (dd/mm/yyyy) Startup Name Industry / Vertical Sub-Vertical City / Location Investors' Name Investment Type Amount (In USD)      ::      1 04/03/2021 DealShare E-commerce Online shopping platform Jaipur, Rajasthan Innoven Capital Debt Financing 250,000,000      ::      2 31/03/2021 Uniphore Technology Conversational Service Automation (CSA) Palo Alto Sorenson Capital Partners Series D 140,000,000      ::      3 30/03/2021 Dunzo E-commerce Hyper-local delivery app Bengaluru Krishtal Advisors Pte Ltd Series E 8,000,000      ::      4 30/03/2021 BYJU’S Edu-tech Online tutoring Bengaluru MC Global Edtech, B Capital, Baron, others Series F 460,000,000      ::      5 23/03/2021 SkilloVilla Edu-tech Career and job-oriented upskilling. Bengaluru Titan Capital, others Seed 300,000,000      ::      6 25/03/2021 CityMall E-commerce Social ecommerce and online grocery platform Gurgaon Accel Partners Series A 11,000,000      ::      7 26/03/2021 DotPe FinTech Commerce and payments platform to offline enterprise businesses. Gurgaon PayU Series A 27,500,000\"]"
      ]
     },
     "execution_count": 38,
     "metadata": {},
     "output_type": "execute_result"
    }
   ],
   "source": [
    "# extracting March 2021 all funding deals\n",
    "marchtags = driver.find_element_by_xpath(\"/html/body/div[1]/main/div/div/div/div[2]/div[1]/div/div/div/div[1]/div/div[3]/div[3]\")\n",
    "marchfundingdeals.append(marchtags.text.replace(\"\\n\",\"      ::      \")) # extracting data\n",
    "marchfundingdeals"
   ]
  },
  {
   "cell_type": "code",
   "execution_count": 39,
   "id": "5dbdefa2",
   "metadata": {},
   "outputs": [],
   "source": [
    "driver.close()     # closing the driver at the end"
   ]
  },
  {
   "cell_type": "markdown",
   "id": "e31084f8",
   "metadata": {},
   "source": [
    "# Question 7 Answer ---> program to scrap all the available details of best gaming laptops from digit.in"
   ]
  },
  {
   "cell_type": "code",
   "execution_count": 42,
   "id": "76d6fda0",
   "metadata": {},
   "outputs": [],
   "source": [
    "# importing required libraries\n",
    "import selenium\n",
    "import pandas as pd\n",
    "import numpy as np\n",
    "from selenium import webdriver    # importing webdriver module from selenium to open up automated chrome window\n",
    "import warnings\n",
    "warnings.filterwarnings(\"ignore\") # ignoring warnings that might arise\n",
    "import time                       # used to stop search engine for few seconds\n",
    "\n",
    "# webdriverwait libraries explicit wait\n",
    "from selenium import webdriver\n",
    "from selenium.webdriver.support.ui import WebDriverWait\n",
    "from selenium.webdriver.support import expected_conditions as EC\n",
    "from selenium.webdriver.common.by import By\n",
    "\n",
    "# common exceptions\n",
    "from selenium.common.exceptions import NoSuchElementException"
   ]
  },
  {
   "cell_type": "code",
   "execution_count": 49,
   "id": "3d2c1940",
   "metadata": {},
   "outputs": [],
   "source": [
    "# opening webdriver\n",
    "driver = webdriver.Chrome(r\"C:\\web driver\\chromedriver.exe\")"
   ]
  },
  {
   "cell_type": "code",
   "execution_count": 51,
   "id": "53f27b3e",
   "metadata": {},
   "outputs": [
    {
     "data": {
      "text/plain": [
       "<selenium.webdriver.remote.webelement.WebElement (session=\"66e348af043fdcafc9ef245f2154a791\", element=\"dffcea86-83fb-48c4-9532-b74d2018acd3\")>"
      ]
     },
     "execution_count": 51,
     "metadata": {},
     "output_type": "execute_result"
    }
   ],
   "source": [
    "# opening webpage\n",
    "driver.get(\"https://www.digit.in/\")\n",
    "delay = 15 # seconds       # waiting till the webpage loads\n",
    "WebDriverWait(driver, delay).until(EC.presence_of_element_located((By.CLASS_NAME, 'ninetynine_logo')))  "
   ]
  },
  {
   "cell_type": "code",
   "execution_count": 53,
   "id": "5a404716",
   "metadata": {},
   "outputs": [
    {
     "data": {
      "text/plain": [
       "<selenium.webdriver.remote.webelement.WebElement (session=\"66e348af043fdcafc9ef245f2154a791\", element=\"15291c91-d830-4965-b0b1-96b4142ffffe\")>"
      ]
     },
     "execution_count": 53,
     "metadata": {},
     "output_type": "execute_result"
    }
   ],
   "source": [
    "# clicking on top 10\n",
    "top10 = driver.find_element_by_xpath(\"//div[@class='menu']/ul/li[4]/a\").click()\n",
    "delay = 15 # seconds       # waiting till the webpage loads\n",
    "WebDriverWait(driver, delay).until(EC.presence_of_element_located((By.CLASS_NAME, 'ninetynine_logo')))  "
   ]
  },
  {
   "cell_type": "code",
   "execution_count": 55,
   "id": "ed6caa3e",
   "metadata": {},
   "outputs": [],
   "source": [
    "# clicking on laptop button in category section\n",
    "laptoptop10 = driver.find_element_by_xpath(\"//div[@class='categoty_list']/button[2]\").click()"
   ]
  },
  {
   "cell_type": "code",
   "execution_count": 61,
   "id": "6834248c",
   "metadata": {},
   "outputs": [
    {
     "data": {
      "text/plain": [
       "<selenium.webdriver.remote.webelement.WebElement (session=\"66e348af043fdcafc9ef245f2154a791\", element=\"2c6fc377-c6e4-48a1-9618-4e73930476a6\")>"
      ]
     },
     "execution_count": 61,
     "metadata": {},
     "output_type": "execute_result"
    }
   ],
   "source": [
    "# clicking on \"Best Gaming Laptops in India\"\n",
    "bestgaminglaptop = driver.find_element_by_xpath(\"/html/body/div[3]/div/div/div[2]/div[5]/div[3]/div[3]/a/div[2]\").click()\n",
    "delay = 15 # seconds       # waiting till the webpage loads\n",
    "WebDriverWait(driver, delay).until(EC.presence_of_element_located((By.CLASS_NAME, 'ninetynine_logo')))"
   ]
  },
  {
   "cell_type": "code",
   "execution_count": 115,
   "id": "8436f544",
   "metadata": {},
   "outputs": [],
   "source": [
    "# creating empty list for the all the data\n",
    "laptopname = []\n",
    "os = []\n",
    "display = []\n",
    "processor = []\n",
    "memory = []\n",
    "weight = []\n",
    "dimension = []\n",
    "graphicsprocessor = []\n",
    "price = []"
   ]
  },
  {
   "cell_type": "code",
   "execution_count": 116,
   "id": "85df44b5",
   "metadata": {},
   "outputs": [],
   "source": [
    "# creating for loop to extract tags and then extract the data in them\n",
    "for i in range(0,1):\n",
    "    laptopnametag = driver.find_elements_by_xpath(\"//div[@class='right-container']/div/a/h3\")\n",
    "    for i in laptopnametag:    \n",
    "        try:\n",
    "            laptop=i.text\n",
    "            laptopname.append(laptop)           # extracting text from the tag\n",
    "        except NoSuchElementException:\n",
    "            laptopname.append(\"-\")              # appending \"-\" if element is not present\n",
    "    ostag = driver.find_elements_by_xpath(\"//div[@class='Spcs-details']/table/tbody/tr[3]/td[3]\")\n",
    "    for i in ostag: \n",
    "        try:\n",
    "            ost=i.text\n",
    "            os.append(ost)   \n",
    "        except NoSuchElementException:\n",
    "            os.append(\"-\")\n",
    "    displaytag = driver.find_elements_by_xpath(\"//div[@class='Spcs-details']/table/tbody/tr[4]/td[3]\")        \n",
    "    for i in displaytag:         \n",
    "        try:\n",
    "            displays=i.text\n",
    "            display.append(displays)   \n",
    "        except NoSuchElementException:\n",
    "            display.append(\"-\")\n",
    "    processortag = driver.find_elements_by_xpath(\"//div[@class='Spcs-details']/table/tbody/tr[5]/td[3]\")        \n",
    "    for i in processortag:    \n",
    "        try:\n",
    "            processors=i.text\n",
    "            processor.append(processors)   \n",
    "        except NoSuchElementException:\n",
    "            processor.append(\"-\")\n",
    "    memorytag = driver.find_elements_by_xpath(\"//div[@class='Spcs-details']/table/tbody/tr[6]/td[3]\")        \n",
    "    for i in memorytag:\n",
    "        try:\n",
    "            memorys=i.text\n",
    "            memory.append(memorys)   \n",
    "        except NoSuchElementException:\n",
    "            memory.append(\"-\")\n",
    "    weighttag = driver.find_elements_by_xpath(\"//div[@class='Spcs-details']/table/tbody/tr[7]/td[3]\")        \n",
    "    for i in weighttag:\n",
    "        try:\n",
    "            weights=i.text\n",
    "            weight.append(weights)   \n",
    "        except NoSuchElementException:\n",
    "            weight.append(\"-\")\n",
    "    dimensiontag = driver.find_elements_by_xpath(\"//div[@class='Spcs-details']/table/tbody/tr[8]/td[3]\")\n",
    "    for i in dimensiontag:\n",
    "        try:\n",
    "            dimensions=i.text\n",
    "            dimension.append(dimensions)   \n",
    "        except NoSuchElementException:\n",
    "            dimension.append(\"-\")\n",
    "    graphicsprocessortag = driver.find_elements_by_xpath(\"//div[@class='Spcs-details']/table/tbody/tr[9]/td[3]\")\n",
    "    for i in graphicsprocessortag:\n",
    "        try:\n",
    "            graphics=i.text\n",
    "            graphicsprocessor.append(graphics)   \n",
    "        except NoSuchElementException:\n",
    "            graphicsprocessor.append(\"-\")"
   ]
  },
  {
   "cell_type": "code",
   "execution_count": null,
   "id": "607c88c4",
   "metadata": {},
   "outputs": [],
   "source": [
    "# price and emi tags\n",
    "pricetag = driver.find_elements_by_xpath(\"//div[@class='merchantdatalist1 merchantdatalist2']\")\n",
    "for i in pricetag:\n",
    "    prices = i.text.replace(\"₹ \",\"\").replace(\"\\nBUY NOW\\n\",\" \").replace(\"₹ \",\"\").replace(\"\\nGET EMI\\n*0% Interest\\n*0 Down Payment\\n*No Processing Fee\",\"\")\n",
    "    price.append(prices)\n",
    "price"
   ]
  },
  {
   "cell_type": "code",
   "execution_count": 118,
   "id": "5315fbff",
   "metadata": {},
   "outputs": [
    {
     "name": "stdout",
     "output_type": "stream",
     "text": [
      "10 10 10 10 10 10 10 10 10\n"
     ]
    }
   ],
   "source": [
    "#printing lengths\n",
    "print(len(laptopname),len(os),len(display),len(processor),len(memory),len(weight),len(dimension),len(graphicsprocessor),len(price))"
   ]
  },
  {
   "cell_type": "code",
   "execution_count": 119,
   "id": "a0f06737",
   "metadata": {},
   "outputs": [
    {
     "data": {
      "text/html": [
       "<div>\n",
       "<style scoped>\n",
       "    .dataframe tbody tr th:only-of-type {\n",
       "        vertical-align: middle;\n",
       "    }\n",
       "\n",
       "    .dataframe tbody tr th {\n",
       "        vertical-align: top;\n",
       "    }\n",
       "\n",
       "    .dataframe thead th {\n",
       "        text-align: right;\n",
       "    }\n",
       "</style>\n",
       "<table border=\"1\" class=\"dataframe\">\n",
       "  <thead>\n",
       "    <tr style=\"text-align: right;\">\n",
       "      <th></th>\n",
       "      <th>Laptop Name</th>\n",
       "      <th>OS</th>\n",
       "      <th>Display</th>\n",
       "      <th>Processor</th>\n",
       "      <th>Memory</th>\n",
       "      <th>Weight</th>\n",
       "      <th>Dimension</th>\n",
       "      <th>Graphics Processor</th>\n",
       "      <th>Price</th>\n",
       "    </tr>\n",
       "  </thead>\n",
       "  <tbody>\n",
       "    <tr>\n",
       "      <th>0</th>\n",
       "      <td>MSI RAIDER GE76</td>\n",
       "      <td>Windows 11 Home</td>\n",
       "      <td>17\" (3840 x 2160)</td>\n",
       "      <td>12th Gen Intel Core i9-12900HK | 5 GHz</td>\n",
       "      <td>2 TB SSD/16 GBGB DDR5</td>\n",
       "      <td>2.9</td>\n",
       "      <td>397 x 284 x 26</td>\n",
       "      <td>NVIDIA GeForce RTX 3080Ti</td>\n",
       "      <td>AVAILABLE 429,940 BUY ON EMI 71,656/MONTH</td>\n",
       "    </tr>\n",
       "    <tr>\n",
       "      <th>1</th>\n",
       "      <td>ASUS ROG STRIX SCAR 15</td>\n",
       "      <td>Windows 11 Home</td>\n",
       "      <td>15.6\" (2560 x 1440)</td>\n",
       "      <td>12th Gen Intel Core i9-12900H | 2.5 GHz</td>\n",
       "      <td>2 TB SSD/32 GBGB DDR5</td>\n",
       "      <td>2.3</td>\n",
       "      <td>259 x 354 x 27</td>\n",
       "      <td>NVIDIA GeForce RTX 3070 Ti</td>\n",
       "      <td>AVAILABLE 285,390 BUY ON EMI 47,565/MONTH</td>\n",
       "    </tr>\n",
       "    <tr>\n",
       "      <th>2</th>\n",
       "      <td>ACER NITRO 5</td>\n",
       "      <td>Windows 10</td>\n",
       "      <td>15.6\" (1920 x 1080)</td>\n",
       "      <td>AMD Ryzen 9 Octa Core | 2.4 GHz</td>\n",
       "      <td>1 TB HDD/16 GBGB DDR4</td>\n",
       "      <td>2.4</td>\n",
       "      <td>363.4 x 255 x 23.9</td>\n",
       "      <td>NVIDIA GeForce RTX 3070</td>\n",
       "      <td>AVAILABLE 129,990 BUY ON EMI 21,665/MONTH</td>\n",
       "    </tr>\n",
       "    <tr>\n",
       "      <th>3</th>\n",
       "      <td>MSI STEALTH 15M</td>\n",
       "      <td>Windows 10</td>\n",
       "      <td>15.6\" (1920 x 1080)</td>\n",
       "      <td>Intel Core i7 11th Gen - 11375H | NA</td>\n",
       "      <td>1 TB SSD/16 GBGB DDR4</td>\n",
       "      <td>1.7</td>\n",
       "      <td>358.3 x 248 x 16.15</td>\n",
       "      <td>NVIDIA GeForce RTX 3060</td>\n",
       "      <td>AVAILABLE 134,990 BUY ON EMI 22,498/MONTH</td>\n",
       "    </tr>\n",
       "    <tr>\n",
       "      <th>4</th>\n",
       "      <td>ASUS ROG STRIX SCAR 15</td>\n",
       "      <td>Windows 10</td>\n",
       "      <td>15.6\" (2560 x 1440)</td>\n",
       "      <td>AMD Ryzen 9 Octa Core - 5900HX | 3.3 GHz</td>\n",
       "      <td>2 TB SSD/32 GBGB DDR4</td>\n",
       "      <td>2.30</td>\n",
       "      <td>354 x 259 x 22.6</td>\n",
       "      <td>NVIDIA GeForce RTX 3080</td>\n",
       "      <td>AVAILABLE 268,990 OUT OF STOCK 193,990 BUY ON ...</td>\n",
       "    </tr>\n",
       "    <tr>\n",
       "      <th>5</th>\n",
       "      <td>ASUS ROG STRIX SCAR 15</td>\n",
       "      <td>Windows 10 Home</td>\n",
       "      <td>15.6\" (1920 x 1080)</td>\n",
       "      <td>AMD Ryzen™ 9 5900HX | 3.3 GHz</td>\n",
       "      <td>1 TB SSD/16 GBGB DDR4</td>\n",
       "      <td>2.30</td>\n",
       "      <td>35.4 x 25.9 x 2.26</td>\n",
       "      <td>NVIDIA® GeForce RTX™ 3070</td>\n",
       "      <td>AVAILABLE 215,990 BUY ON EMI 35,998/MONTH</td>\n",
       "    </tr>\n",
       "    <tr>\n",
       "      <th>6</th>\n",
       "      <td>ASUS ZEPHYRUS G14</td>\n",
       "      <td>Windows 10 Home</td>\n",
       "      <td>14\" (1920 x 1080)</td>\n",
       "      <td>AMD 3rd Gen Ryzen 9 | 3.3 GHz</td>\n",
       "      <td>1 TB SSD/16 GBGB DDR4</td>\n",
       "      <td>1.65</td>\n",
       "      <td>32.5 x 22.1 x 1.8</td>\n",
       "      <td>NVIDIA GeForce RTX 2060</td>\n",
       "      <td>AVAILABLE 164,990 OUT OF STOCK 144,990 BUY ON ...</td>\n",
       "    </tr>\n",
       "    <tr>\n",
       "      <th>7</th>\n",
       "      <td>HP OMEN 16</td>\n",
       "      <td>Windows 11 Home</td>\n",
       "      <td>16.1\" (1920 x 1080)</td>\n",
       "      <td>12th Gen Intel Core i7-12700H | 4.7 GHz</td>\n",
       "      <td>1 TB SSD/16 GBGB DDR4</td>\n",
       "      <td>2.32</td>\n",
       "      <td>36.92 x 24.8 x 2.3</td>\n",
       "      <td>NVIDIA GeForce RTX 3060</td>\n",
       "      <td>AVAILABLE 139,990 AVAILABLE 145,999 BUY ON EMI...</td>\n",
       "    </tr>\n",
       "    <tr>\n",
       "      <th>8</th>\n",
       "      <td>ASUS ROG ZEPHYRUS DUO 15</td>\n",
       "      <td>Windows 10</td>\n",
       "      <td>15.6\" (3840 x 1100)</td>\n",
       "      <td>Intel Core i7 10th Gen 10875H | NA</td>\n",
       "      <td>512 GB SSD/4 GBGB DDR4</td>\n",
       "      <td>2.4</td>\n",
       "      <td>268.30 x 360.00 x 20.90</td>\n",
       "      <td>NVIDIA GeForce RTX 2070 Max-Q</td>\n",
       "      <td>AVAILABLE 185,000 BUY ON EMI 30,833/MONTH</td>\n",
       "    </tr>\n",
       "    <tr>\n",
       "      <th>9</th>\n",
       "      <td>ACER ASPIRE 7 GAMING LAPTOP</td>\n",
       "      <td>Windows 10 Home</td>\n",
       "      <td>15.6\" (1920 x 1080)</td>\n",
       "      <td>AMD Ryzen™ 5-5500U hexa-core | NA</td>\n",
       "      <td>512 GB SSD/8 GBGB DDR4</td>\n",
       "      <td>2.15</td>\n",
       "      <td>2.29 x 36.3 x 25.4</td>\n",
       "      <td>NVIDIA® GeForce® GTX 1650</td>\n",
       "      <td>OUT OF STOCK 53,490 BUY ON EMI 8,915/MONTH</td>\n",
       "    </tr>\n",
       "  </tbody>\n",
       "</table>\n",
       "</div>"
      ],
      "text/plain": [
       "                   Laptop Name               OS              Display  \\\n",
       "0              MSI RAIDER GE76  Windows 11 Home    17\" (3840 x 2160)   \n",
       "1       ASUS ROG STRIX SCAR 15  Windows 11 Home  15.6\" (2560 x 1440)   \n",
       "2                 ACER NITRO 5       Windows 10  15.6\" (1920 x 1080)   \n",
       "3              MSI STEALTH 15M       Windows 10  15.6\" (1920 x 1080)   \n",
       "4       ASUS ROG STRIX SCAR 15       Windows 10  15.6\" (2560 x 1440)   \n",
       "5       ASUS ROG STRIX SCAR 15  Windows 10 Home  15.6\" (1920 x 1080)   \n",
       "6            ASUS ZEPHYRUS G14  Windows 10 Home    14\" (1920 x 1080)   \n",
       "7                   HP OMEN 16  Windows 11 Home  16.1\" (1920 x 1080)   \n",
       "8     ASUS ROG ZEPHYRUS DUO 15       Windows 10  15.6\" (3840 x 1100)   \n",
       "9  ACER ASPIRE 7 GAMING LAPTOP  Windows 10 Home  15.6\" (1920 x 1080)   \n",
       "\n",
       "                                  Processor                  Memory Weight  \\\n",
       "0    12th Gen Intel Core i9-12900HK | 5 GHz   2 TB SSD/16 GBGB DDR5    2.9   \n",
       "1   12th Gen Intel Core i9-12900H | 2.5 GHz   2 TB SSD/32 GBGB DDR5    2.3   \n",
       "2           AMD Ryzen 9 Octa Core | 2.4 GHz   1 TB HDD/16 GBGB DDR4    2.4   \n",
       "3      Intel Core i7 11th Gen - 11375H | NA   1 TB SSD/16 GBGB DDR4    1.7   \n",
       "4  AMD Ryzen 9 Octa Core - 5900HX | 3.3 GHz   2 TB SSD/32 GBGB DDR4   2.30   \n",
       "5             AMD Ryzen™ 9 5900HX | 3.3 GHz   1 TB SSD/16 GBGB DDR4   2.30   \n",
       "6             AMD 3rd Gen Ryzen 9 | 3.3 GHz   1 TB SSD/16 GBGB DDR4   1.65   \n",
       "7   12th Gen Intel Core i7-12700H | 4.7 GHz   1 TB SSD/16 GBGB DDR4   2.32   \n",
       "8        Intel Core i7 10th Gen 10875H | NA  512 GB SSD/4 GBGB DDR4    2.4   \n",
       "9         AMD Ryzen™ 5-5500U hexa-core | NA  512 GB SSD/8 GBGB DDR4   2.15   \n",
       "\n",
       "                 Dimension             Graphics Processor  \\\n",
       "0           397 x 284 x 26      NVIDIA GeForce RTX 3080Ti   \n",
       "1           259 x 354 x 27     NVIDIA GeForce RTX 3070 Ti   \n",
       "2       363.4 x 255 x 23.9        NVIDIA GeForce RTX 3070   \n",
       "3      358.3 x 248 x 16.15        NVIDIA GeForce RTX 3060   \n",
       "4         354 x 259 x 22.6        NVIDIA GeForce RTX 3080   \n",
       "5       35.4 x 25.9 x 2.26      NVIDIA® GeForce RTX™ 3070   \n",
       "6        32.5 x 22.1 x 1.8        NVIDIA GeForce RTX 2060   \n",
       "7       36.92 x 24.8 x 2.3        NVIDIA GeForce RTX 3060   \n",
       "8  268.30 x 360.00 x 20.90  NVIDIA GeForce RTX 2070 Max-Q   \n",
       "9       2.29 x 36.3 x 25.4      NVIDIA® GeForce® GTX 1650   \n",
       "\n",
       "                                               Price  \n",
       "0          AVAILABLE 429,940 BUY ON EMI 71,656/MONTH  \n",
       "1          AVAILABLE 285,390 BUY ON EMI 47,565/MONTH  \n",
       "2          AVAILABLE 129,990 BUY ON EMI 21,665/MONTH  \n",
       "3          AVAILABLE 134,990 BUY ON EMI 22,498/MONTH  \n",
       "4  AVAILABLE 268,990 OUT OF STOCK 193,990 BUY ON ...  \n",
       "5          AVAILABLE 215,990 BUY ON EMI 35,998/MONTH  \n",
       "6  AVAILABLE 164,990 OUT OF STOCK 144,990 BUY ON ...  \n",
       "7  AVAILABLE 139,990 AVAILABLE 145,999 BUY ON EMI...  \n",
       "8          AVAILABLE 185,000 BUY ON EMI 30,833/MONTH  \n",
       "9         OUT OF STOCK 53,490 BUY ON EMI 8,915/MONTH  "
      ]
     },
     "execution_count": 119,
     "metadata": {},
     "output_type": "execute_result"
    }
   ],
   "source": [
    "# creating dataframe\n",
    "laptopdata = pd.DataFrame({'Laptop Name':laptopname,'OS':os,'Display':display,'Processor':processor,'Memory':memory,'Weight':weight,'Dimension':dimension,'Graphics Processor':graphicsprocessor,'Price':price})\n",
    "laptopdata"
   ]
  },
  {
   "cell_type": "code",
   "execution_count": 120,
   "id": "596fd0ba",
   "metadata": {},
   "outputs": [],
   "source": [
    "driver.close()    # closing driver at the end"
   ]
  },
  {
   "cell_type": "markdown",
   "id": "8862accb",
   "metadata": {},
   "source": [
    "# Question 8 Answer ---> python program to scrape the details for all billionaires from www.forbes.com. Details to be scrapped: “Rank”, “Name”, “Net worth”, “Age”, “Citizenship”, “Source”, “Industry”"
   ]
  },
  {
   "cell_type": "code",
   "execution_count": 1,
   "id": "352e09b0",
   "metadata": {},
   "outputs": [],
   "source": [
    "# importing required libraries\n",
    "import selenium\n",
    "import pandas as pd\n",
    "import numpy as np\n",
    "from selenium import webdriver    # importing webdriver module from selenium to open up automated chrome window\n",
    "import warnings\n",
    "warnings.filterwarnings(\"ignore\") # ignoring warnings that might arise\n",
    "import time                       # used to stop search engine for few seconds\n",
    "\n",
    "# webdriverwait libraries explicit wait\n",
    "from selenium import webdriver\n",
    "from selenium.webdriver.support.ui import WebDriverWait\n",
    "from selenium.webdriver.support import expected_conditions as EC\n",
    "from selenium.webdriver.common.by import By\n",
    "\n",
    "# common exceptions\n",
    "from selenium.common.exceptions import NoSuchElementException"
   ]
  },
  {
   "cell_type": "code",
   "execution_count": 2,
   "id": "4fa5346d",
   "metadata": {},
   "outputs": [],
   "source": [
    "# opening webdriver\n",
    "driver = webdriver.Chrome(r\"C:\\web driver\\chromedriver.exe\")"
   ]
  },
  {
   "cell_type": "code",
   "execution_count": 3,
   "id": "5f18da0b",
   "metadata": {},
   "outputs": [
    {
     "data": {
      "text/plain": [
       "<selenium.webdriver.remote.webelement.WebElement (session=\"b2093241d383829798cb4512d1f1d4a0\", element=\"5039fbeb-545b-48c7-89f1-5125181d93dc\")>"
      ]
     },
     "execution_count": 3,
     "metadata": {},
     "output_type": "execute_result"
    }
   ],
   "source": [
    "# opening webpage\n",
    "driver.get(\"https://www.forbes.com/?sh=2db6f5bc2254\")\n",
    "delay = 15 # seconds       # waiting till the webpage loads\n",
    "WebDriverWait(driver, delay).until(EC.presence_of_element_located((By.CLASS_NAME, 'footer__copyright')))  "
   ]
  },
  {
   "cell_type": "code",
   "execution_count": 4,
   "id": "f9ae413d",
   "metadata": {},
   "outputs": [],
   "source": [
    "# clicking on side bar button for more options\n",
    "sidebarbutton = driver.find_element_by_xpath(\"//button[@class='icon--hamburger']\").click()"
   ]
  },
  {
   "cell_type": "code",
   "execution_count": 5,
   "id": "ccf662d9",
   "metadata": {},
   "outputs": [],
   "source": [
    "# clicking on \"Billionares\" in the options\n",
    "billionaressidebar = driver.find_element_by_xpath(\"//li[@class='header__channel header__color--centennial-silver header__hoverable']\").click()"
   ]
  },
  {
   "cell_type": "code",
   "execution_count": 6,
   "id": "ad31b183",
   "metadata": {},
   "outputs": [],
   "source": [
    "# clicking on \"World's Billionares\"\n",
    "worldsbillionares = driver.find_element_by_xpath(\"//li[@class='header__section']/a\").click()\n",
    "time.sleep(7)"
   ]
  },
  {
   "cell_type": "code",
   "execution_count": 8,
   "id": "ef666f12",
   "metadata": {},
   "outputs": [],
   "source": [
    "# clicking on closing pop up button\n",
    "popup = driver.find_element_by_xpath(\"//button[@class='tp-close tp-active']\").click()"
   ]
  },
  {
   "cell_type": "code",
   "execution_count": 9,
   "id": "5fd18b43",
   "metadata": {},
   "outputs": [],
   "source": [
    "# creating empty lists to store the data\n",
    "rank = []\n",
    "name = []\n",
    "networth = []\n",
    "age = []\n",
    "citizenship = []\n",
    "source = []\n",
    "industry = []"
   ]
  },
  {
   "cell_type": "code",
   "execution_count": 10,
   "id": "2defe555",
   "metadata": {},
   "outputs": [],
   "source": [
    "# creating for loop to extract tags and then extract the data in them\n",
    "\n",
    "ranktag = driver.find_elements_by_xpath(\"//div[@class='rank']\")\n",
    "for i in ranktag:    \n",
    "    try:\n",
    "        ranks=i.text.replace(\".\",\"\")\n",
    "        rank.append(ranks)           # extracting text from the tag\n",
    "    except NoSuchElementException:\n",
    "        rank.append(\"-\")              # appending \"-\" if element is not present\n",
    "nametag = driver.find_elements_by_xpath(\"//div[@class='personName']\")\n",
    "for i in nametag:    \n",
    "    try:\n",
    "        names=i.text\n",
    "        name.append(names)           \n",
    "    except NoSuchElementException:\n",
    "        name.append(\"-\")\n",
    "networthtag = driver.find_elements_by_xpath(\"//div[@class='netWorth']\")\n",
    "for i in networthtag:    \n",
    "    try:\n",
    "        networths=i.text\n",
    "        networth.append(networths)           \n",
    "    except NoSuchElementException:\n",
    "        networth.append(\"-\")\n",
    "agetag = driver.find_elements_by_xpath(\"//div[@class='age']/div\")\n",
    "for i in agetag:    \n",
    "    try:\n",
    "        ages=i.text\n",
    "        age.append(ages)           \n",
    "    except NoSuchElementException:\n",
    "        age.append(\"-\")\n",
    "citizenshiptag = driver.find_elements_by_xpath(\"//div[@class='countryOfCitizenship']\")\n",
    "for i in citizenshiptag:    \n",
    "    try:\n",
    "        citizenships=i.text\n",
    "        citizenship.append(citizenships)           \n",
    "    except NoSuchElementException:\n",
    "        citizenship.append(\"-\")\n",
    "sourcetag = driver.find_elements_by_xpath(\"//span[@class='source-text']\")\n",
    "for i in sourcetag:    \n",
    "    try:\n",
    "        sources=i.text\n",
    "        source.append(sources)           \n",
    "    except NoSuchElementException:\n",
    "        source.append(\"-\")\n",
    "industrytag = driver.find_elements_by_xpath(\"//div[@class='category']/div\")\n",
    "for i in industrytag:    \n",
    "    try:\n",
    "        industrys=i.text\n",
    "        industry.append(industrys)           \n",
    "    except NoSuchElementException:\n",
    "        industry.append(\"-\")"
   ]
  },
  {
   "cell_type": "code",
   "execution_count": 13,
   "id": "ac5fdc2b",
   "metadata": {},
   "outputs": [
    {
     "name": "stdout",
     "output_type": "stream",
     "text": [
      "200 200 200 200 200 200 200\n"
     ]
    }
   ],
   "source": [
    "# printing length\n",
    "print(len(rank),len(name),len(networth),len(age),len(citizenship),len(source),len(industry))"
   ]
  },
  {
   "cell_type": "code",
   "execution_count": null,
   "id": "a98bf44c",
   "metadata": {},
   "outputs": [],
   "source": [
    "rank = []\n",
    "name = []\n",
    "networth = []\n",
    "age = []\n",
    "citizenship = []\n",
    "source = []\n",
    "industry = []"
   ]
  },
  {
   "cell_type": "code",
   "execution_count": 14,
   "id": "8d1e7557",
   "metadata": {},
   "outputs": [
    {
     "data": {
      "text/html": [
       "<div>\n",
       "<style scoped>\n",
       "    .dataframe tbody tr th:only-of-type {\n",
       "        vertical-align: middle;\n",
       "    }\n",
       "\n",
       "    .dataframe tbody tr th {\n",
       "        vertical-align: top;\n",
       "    }\n",
       "\n",
       "    .dataframe thead th {\n",
       "        text-align: right;\n",
       "    }\n",
       "</style>\n",
       "<table border=\"1\" class=\"dataframe\">\n",
       "  <thead>\n",
       "    <tr style=\"text-align: right;\">\n",
       "      <th></th>\n",
       "      <th>Rank</th>\n",
       "      <th>Name</th>\n",
       "      <th>Net Worth</th>\n",
       "      <th>Age</th>\n",
       "      <th>Citizenship</th>\n",
       "      <th>Source</th>\n",
       "      <th>Industry</th>\n",
       "    </tr>\n",
       "  </thead>\n",
       "  <tbody>\n",
       "    <tr>\n",
       "      <th>0</th>\n",
       "      <td>1</td>\n",
       "      <td>Elon Musk</td>\n",
       "      <td>$219 B</td>\n",
       "      <td>50</td>\n",
       "      <td>United States</td>\n",
       "      <td>Tesla, SpaceX</td>\n",
       "      <td>Automotive</td>\n",
       "    </tr>\n",
       "    <tr>\n",
       "      <th>1</th>\n",
       "      <td>2</td>\n",
       "      <td>Jeff Bezos</td>\n",
       "      <td>$171 B</td>\n",
       "      <td>58</td>\n",
       "      <td>United States</td>\n",
       "      <td>Amazon</td>\n",
       "      <td>Technology</td>\n",
       "    </tr>\n",
       "    <tr>\n",
       "      <th>2</th>\n",
       "      <td>3</td>\n",
       "      <td>Bernard Arnault &amp; family</td>\n",
       "      <td>$158 B</td>\n",
       "      <td>73</td>\n",
       "      <td>France</td>\n",
       "      <td>LVMH</td>\n",
       "      <td>Fashion &amp; Retail</td>\n",
       "    </tr>\n",
       "    <tr>\n",
       "      <th>3</th>\n",
       "      <td>4</td>\n",
       "      <td>Bill Gates</td>\n",
       "      <td>$129 B</td>\n",
       "      <td>66</td>\n",
       "      <td>United States</td>\n",
       "      <td>Microsoft</td>\n",
       "      <td>Technology</td>\n",
       "    </tr>\n",
       "    <tr>\n",
       "      <th>4</th>\n",
       "      <td>5</td>\n",
       "      <td>Warren Buffett</td>\n",
       "      <td>$118 B</td>\n",
       "      <td>91</td>\n",
       "      <td>United States</td>\n",
       "      <td>Berkshire Hathaway</td>\n",
       "      <td>Finance &amp; Investments</td>\n",
       "    </tr>\n",
       "    <tr>\n",
       "      <th>...</th>\n",
       "      <td>...</td>\n",
       "      <td>...</td>\n",
       "      <td>...</td>\n",
       "      <td>...</td>\n",
       "      <td>...</td>\n",
       "      <td>...</td>\n",
       "      <td>...</td>\n",
       "    </tr>\n",
       "    <tr>\n",
       "      <th>195</th>\n",
       "      <td>192</td>\n",
       "      <td>Marcel Herrmann Telles</td>\n",
       "      <td>$10.3 B</td>\n",
       "      <td>72</td>\n",
       "      <td>Brazil</td>\n",
       "      <td>beer</td>\n",
       "      <td>Food &amp; Beverage</td>\n",
       "    </tr>\n",
       "    <tr>\n",
       "      <th>196</th>\n",
       "      <td>197</td>\n",
       "      <td>Leon Black</td>\n",
       "      <td>$10 B</td>\n",
       "      <td>70</td>\n",
       "      <td>United States</td>\n",
       "      <td>private equity</td>\n",
       "      <td>Finance &amp; Investments</td>\n",
       "    </tr>\n",
       "    <tr>\n",
       "      <th>197</th>\n",
       "      <td>197</td>\n",
       "      <td>Joe Gebbia</td>\n",
       "      <td>$10 B</td>\n",
       "      <td>40</td>\n",
       "      <td>United States</td>\n",
       "      <td>Airbnb</td>\n",
       "      <td>Technology</td>\n",
       "    </tr>\n",
       "    <tr>\n",
       "      <th>198</th>\n",
       "      <td>197</td>\n",
       "      <td>David Geffen</td>\n",
       "      <td>$10 B</td>\n",
       "      <td>79</td>\n",
       "      <td>United States</td>\n",
       "      <td>movies, record labels</td>\n",
       "      <td>Media &amp; Entertainment</td>\n",
       "    </tr>\n",
       "    <tr>\n",
       "      <th>199</th>\n",
       "      <td>197</td>\n",
       "      <td>Yu Renrong</td>\n",
       "      <td>$10 B</td>\n",
       "      <td>56</td>\n",
       "      <td>China</td>\n",
       "      <td>semiconductors</td>\n",
       "      <td>Manufacturing</td>\n",
       "    </tr>\n",
       "  </tbody>\n",
       "</table>\n",
       "<p>200 rows × 7 columns</p>\n",
       "</div>"
      ],
      "text/plain": [
       "    Rank                      Name Net Worth Age    Citizenship  \\\n",
       "0      1                 Elon Musk    $219 B  50  United States   \n",
       "1      2                Jeff Bezos    $171 B  58  United States   \n",
       "2      3  Bernard Arnault & family    $158 B  73         France   \n",
       "3      4                Bill Gates    $129 B  66  United States   \n",
       "4      5            Warren Buffett    $118 B  91  United States   \n",
       "..   ...                       ...       ...  ..            ...   \n",
       "195  192    Marcel Herrmann Telles   $10.3 B  72         Brazil   \n",
       "196  197                Leon Black     $10 B  70  United States   \n",
       "197  197                Joe Gebbia     $10 B  40  United States   \n",
       "198  197              David Geffen     $10 B  79  United States   \n",
       "199  197                Yu Renrong     $10 B  56          China   \n",
       "\n",
       "                    Source               Industry  \n",
       "0            Tesla, SpaceX             Automotive  \n",
       "1                   Amazon             Technology  \n",
       "2                     LVMH       Fashion & Retail  \n",
       "3                Microsoft             Technology  \n",
       "4       Berkshire Hathaway  Finance & Investments  \n",
       "..                     ...                    ...  \n",
       "195                   beer        Food & Beverage  \n",
       "196         private equity  Finance & Investments  \n",
       "197                 Airbnb             Technology  \n",
       "198  movies, record labels  Media & Entertainment  \n",
       "199         semiconductors          Manufacturing  \n",
       "\n",
       "[200 rows x 7 columns]"
      ]
     },
     "execution_count": 14,
     "metadata": {},
     "output_type": "execute_result"
    }
   ],
   "source": [
    "# creating DataFrame\n",
    "billionaresdf = pd.DataFrame({'Rank':rank,'Name':name,'Net Worth':networth,'Age':age,'Citizenship':citizenship,'Source':source,'Industry':industry})\n",
    "billionaresdf"
   ]
  },
  {
   "cell_type": "code",
   "execution_count": null,
   "id": "19ec4613",
   "metadata": {},
   "outputs": [],
   "source": [
    "driver.close()   # closing the driver at the end"
   ]
  },
  {
   "cell_type": "markdown",
   "id": "215cd3d4",
   "metadata": {},
   "source": [
    "# Question 9 Answer ---> program to extract at least 500 Comments, Comment upvote and time when comment was posted from any YouTube Video"
   ]
  },
  {
   "cell_type": "code",
   "execution_count": 1,
   "id": "02159f52",
   "metadata": {},
   "outputs": [],
   "source": [
    "# importing required libraries\n",
    "import selenium\n",
    "import pandas as pd\n",
    "import numpy as np\n",
    "from selenium import webdriver    # importing webdriver module from selenium to open up automated chrome window\n",
    "import warnings\n",
    "warnings.filterwarnings(\"ignore\") # ignoring warnings that might arise\n",
    "import time                       # used to stop search engine for few seconds\n",
    "\n",
    "# webdriverwait libraries explicit wait\n",
    "from selenium import webdriver\n",
    "from selenium.webdriver.support.ui import WebDriverWait\n",
    "from selenium.webdriver.support import expected_conditions as EC\n",
    "from selenium.webdriver.common.by import By\n",
    "\n",
    "# common exceptions\n",
    "from selenium.common.exceptions import NoSuchElementException"
   ]
  },
  {
   "cell_type": "code",
   "execution_count": 28,
   "id": "4e93a50f",
   "metadata": {},
   "outputs": [],
   "source": [
    "# opening webdriver\n",
    "driver = webdriver.Chrome(r\"C:\\web driver\\chromedriver.exe\")"
   ]
  },
  {
   "cell_type": "code",
   "execution_count": 29,
   "id": "32221a1f",
   "metadata": {},
   "outputs": [],
   "source": [
    "# opening youtube video\n",
    "driver.get(\"https://www.youtube.com/watch?v=kTWoeqPXpuo&t=100s\") \n",
    "time.sleep(10)"
   ]
  },
  {
   "cell_type": "code",
   "execution_count": 30,
   "id": "4e3ee78d",
   "metadata": {},
   "outputs": [],
   "source": [
    "# creating empty lists to save the data\n",
    "comment = []\n",
    "commentupvote = []\n",
    "timeposted = []"
   ]
  },
  {
   "cell_type": "code",
   "execution_count": 31,
   "id": "0845fdd3",
   "metadata": {},
   "outputs": [],
   "source": [
    "# scrolling and collecting image tags\n",
    "for _ in range(1300):\n",
    "    driver.execute_script(\"window.scrollBy(0,10000)\")"
   ]
  },
  {
   "cell_type": "code",
   "execution_count": 32,
   "id": "f990e22f",
   "metadata": {},
   "outputs": [],
   "source": [
    "# extracting the tags and the data from the youtube video\n",
    "commenttag = driver.find_elements_by_xpath(\"//div[@class='style-scope ytd-expander']/yt-formatted-string[2]\")\n",
    "for i in commenttag:    \n",
    "    try:\n",
    "        comments=i.text\n",
    "        comment.append(comments)           # extracting text from the tag\n",
    "    except NoSuchElementException:\n",
    "        comment.append(\"-\")                # appending \"-\" if element is not present\n",
    "commentupvotetag = driver.find_elements_by_xpath(\"//div[@class='style-scope ytd-comment-action-buttons-renderer']/span\")\n",
    "for i in commentupvotetag:    \n",
    "    try:\n",
    "        commentupvotes=i.text\n",
    "        commentupvote.append(commentupvotes)           \n",
    "    except NoSuchElementException:\n",
    "        commentupvote.append(\"-\")              \n",
    "timepostedtag = driver.find_elements_by_xpath(\"//yt-formatted-string[@class='published-time-text above-comment style-scope ytd-comment-renderer']/a\")\n",
    "for i in timepostedtag:    \n",
    "    try:\n",
    "        timeposteds=i.text\n",
    "        timeposted.append(timeposteds)           \n",
    "    except NoSuchElementException:\n",
    "        timeposted.append(\"-\")"
   ]
  },
  {
   "cell_type": "code",
   "execution_count": null,
   "id": "ba518dd6",
   "metadata": {},
   "outputs": [],
   "source": [
    "# extracting only votes which are alternate in the list\n",
    "commentupvoteactual = commentupvote[1::2]\n",
    "commentupvoteactual"
   ]
  },
  {
   "cell_type": "code",
   "execution_count": 35,
   "id": "8df84e8b",
   "metadata": {},
   "outputs": [
    {
     "name": "stdout",
     "output_type": "stream",
     "text": [
      "940 940 940\n"
     ]
    }
   ],
   "source": [
    "# printing length\n",
    "print(len(comment),len(commentupvoteactual),len(timeposted))"
   ]
  },
  {
   "cell_type": "code",
   "execution_count": 36,
   "id": "b03f701f",
   "metadata": {},
   "outputs": [
    {
     "data": {
      "text/html": [
       "<div>\n",
       "<style scoped>\n",
       "    .dataframe tbody tr th:only-of-type {\n",
       "        vertical-align: middle;\n",
       "    }\n",
       "\n",
       "    .dataframe tbody tr th {\n",
       "        vertical-align: top;\n",
       "    }\n",
       "\n",
       "    .dataframe thead th {\n",
       "        text-align: right;\n",
       "    }\n",
       "</style>\n",
       "<table border=\"1\" class=\"dataframe\">\n",
       "  <thead>\n",
       "    <tr style=\"text-align: right;\">\n",
       "      <th></th>\n",
       "      <th>Comments</th>\n",
       "      <th>Comment Upvotes</th>\n",
       "      <th>Time when comment was posted</th>\n",
       "    </tr>\n",
       "  </thead>\n",
       "  <tbody>\n",
       "    <tr>\n",
       "      <th>0</th>\n",
       "      <td>Thanks so much for the love guys! Had a ton of...</td>\n",
       "      <td>3.9K</td>\n",
       "      <td>2 years ago</td>\n",
       "    </tr>\n",
       "    <tr>\n",
       "      <th>1</th>\n",
       "      <td>I hate you in the best possible way. ❤️❤️</td>\n",
       "      <td>8K</td>\n",
       "      <td>2 years ago</td>\n",
       "    </tr>\n",
       "    <tr>\n",
       "      <th>2</th>\n",
       "      <td>The transitions were way more smoother than my...</td>\n",
       "      <td>1.9K</td>\n",
       "      <td>2 years ago</td>\n",
       "    </tr>\n",
       "    <tr>\n",
       "      <th>3</th>\n",
       "      <td>Wow, now that's how you fly a drone! 👍👍</td>\n",
       "      <td>60</td>\n",
       "      <td>1 year ago</td>\n",
       "    </tr>\n",
       "    <tr>\n",
       "      <th>4</th>\n",
       "      <td>The one drone video I will never get tired of ...</td>\n",
       "      <td>344</td>\n",
       "      <td>1 year ago</td>\n",
       "    </tr>\n",
       "    <tr>\n",
       "      <th>5</th>\n",
       "      <td>Those transitions! 🔥 I learned a lot from this...</td>\n",
       "      <td>104</td>\n",
       "      <td>2 months ago</td>\n",
       "    </tr>\n",
       "    <tr>\n",
       "      <th>6</th>\n",
       "      <td>Fantastic footage!</td>\n",
       "      <td>49</td>\n",
       "      <td>1 year ago</td>\n",
       "    </tr>\n",
       "    <tr>\n",
       "      <th>7</th>\n",
       "      <td>I could sell our planet to aliens with this vi...</td>\n",
       "      <td>5K</td>\n",
       "      <td>2 years ago (edited)</td>\n",
       "    </tr>\n",
       "    <tr>\n",
       "      <th>8</th>\n",
       "      <td>The transitions and color composition was EVER...</td>\n",
       "      <td>24</td>\n",
       "      <td>1 year ago</td>\n",
       "    </tr>\n",
       "    <tr>\n",
       "      <th>9</th>\n",
       "      <td>Who's coming back again and again just to enjo...</td>\n",
       "      <td>340</td>\n",
       "      <td>1 year ago</td>\n",
       "    </tr>\n",
       "  </tbody>\n",
       "</table>\n",
       "</div>"
      ],
      "text/plain": [
       "                                            Comments Comment Upvotes  \\\n",
       "0  Thanks so much for the love guys! Had a ton of...            3.9K   \n",
       "1          I hate you in the best possible way. ❤️❤️              8K   \n",
       "2  The transitions were way more smoother than my...            1.9K   \n",
       "3            Wow, now that's how you fly a drone! 👍👍              60   \n",
       "4  The one drone video I will never get tired of ...             344   \n",
       "5  Those transitions! 🔥 I learned a lot from this...             104   \n",
       "6                                 Fantastic footage!              49   \n",
       "7  I could sell our planet to aliens with this vi...              5K   \n",
       "8  The transitions and color composition was EVER...              24   \n",
       "9  Who's coming back again and again just to enjo...             340   \n",
       "\n",
       "  Time when comment was posted  \n",
       "0                  2 years ago  \n",
       "1                  2 years ago  \n",
       "2                  2 years ago  \n",
       "3                   1 year ago  \n",
       "4                   1 year ago  \n",
       "5                 2 months ago  \n",
       "6                   1 year ago  \n",
       "7         2 years ago (edited)  \n",
       "8                   1 year ago  \n",
       "9                   1 year ago  "
      ]
     },
     "execution_count": 36,
     "metadata": {},
     "output_type": "execute_result"
    }
   ],
   "source": [
    "# creating dataframe\n",
    "youtubecommentsdf = pd.DataFrame({'Comments':comment,'Comment Upvotes':commentupvoteactual,'Time when comment was posted':timeposted})\n",
    "youtubecommentsdf[0:10]   # displaying only the first 10 results of the dataframe"
   ]
  },
  {
   "cell_type": "code",
   "execution_count": 37,
   "id": "d59d8576",
   "metadata": {},
   "outputs": [],
   "source": [
    "driver.close()   # closing the driver at the end"
   ]
  },
  {
   "cell_type": "markdown",
   "id": "1f40bbd9",
   "metadata": {},
   "source": [
    "# Question 10 Answer ---> python program to scrape a data for all available Hostels from https://www.hostelworld.com/ in “London” location. You have to scrape hostel name, distance from city centre, ratings, total reviews, overall reviews, privates from price, dorms from price, facilities and property description."
   ]
  },
  {
   "cell_type": "code",
   "execution_count": 1,
   "id": "2973c8ab",
   "metadata": {},
   "outputs": [],
   "source": [
    "# importing required libraries\n",
    "import selenium\n",
    "import pandas as pd\n",
    "import numpy as np\n",
    "from selenium import webdriver    # importing webdriver module from selenium to open up automated chrome window\n",
    "import warnings\n",
    "warnings.filterwarnings(\"ignore\") # ignoring warnings that might arise\n",
    "import time                       # used to stop search engine for few seconds\n",
    "\n",
    "# webdriverwait libraries explicit wait\n",
    "from selenium import webdriver\n",
    "from selenium.webdriver.support.ui import WebDriverWait\n",
    "from selenium.webdriver.support import expected_conditions as EC\n",
    "from selenium.webdriver.common.by import By\n",
    "\n",
    "# common exceptions\n",
    "from selenium.common.exceptions import NoSuchElementException"
   ]
  },
  {
   "cell_type": "code",
   "execution_count": 32,
   "id": "fc7a7fae",
   "metadata": {},
   "outputs": [],
   "source": [
    "# opening webdriver\n",
    "driver = webdriver.Chrome(r\"C:\\web driver\\chromedriver.exe\")"
   ]
  },
  {
   "cell_type": "code",
   "execution_count": 33,
   "id": "1c51b855",
   "metadata": {},
   "outputs": [],
   "source": [
    "# opening webpage\n",
    "driver.get(\"https://www.hostelworld.com/\") \n",
    "time.sleep(5)"
   ]
  },
  {
   "cell_type": "code",
   "execution_count": 35,
   "id": "d60c9ab8",
   "metadata": {},
   "outputs": [],
   "source": [
    "# sending 'london' location in the search bar\n",
    "searchbar= driver.find_element_by_xpath(\"//input[@class='search-input']\").send_keys(\"London\")\n",
    "time.sleep(3)"
   ]
  },
  {
   "cell_type": "code",
   "execution_count": 36,
   "id": "05b4b57a",
   "metadata": {},
   "outputs": [],
   "source": [
    "# clicking on 'london' in the dropdown\n",
    "dropdown = driver.find_element_by_xpath(\"//li[2][@tabindex='-1']\").click()"
   ]
  },
  {
   "cell_type": "code",
   "execution_count": 37,
   "id": "2d8fb5c6",
   "metadata": {},
   "outputs": [],
   "source": [
    "# clicking on lets go button\n",
    "letsgo = driver.find_element_by_xpath(\"//button[@class='button primary large']\").click()"
   ]
  },
  {
   "cell_type": "code",
   "execution_count": 44,
   "id": "d1b04cd5",
   "metadata": {},
   "outputs": [],
   "source": [
    "# creating empty lists to store data\n",
    "hostelname = []\n",
    "distance= []\n",
    "rating = []\n",
    "totalreview = []\n",
    "overallreview = []\n",
    "privatesfromprice = []\n",
    "dormsfromprice = []\n",
    "facilities = []\n",
    "propertydescription = []"
   ]
  },
  {
   "cell_type": "code",
   "execution_count": 45,
   "id": "0007843d",
   "metadata": {},
   "outputs": [],
   "source": [
    "# extracting tags and then extracting the data\n",
    "hostelnametag = driver.find_elements_by_xpath(\"//h2[@class='title title-6']/a\")\n",
    "for i in hostelnametag:\n",
    "    try:\n",
    "        hostelnames = i.text\n",
    "        hostelname.append(hostelnames)\n",
    "    except NoSuchElementException:\n",
    "        hostelname.append(\"-\")\n",
    "distancetag = driver.find_elements_by_xpath(\"//span[@class='description']\")\n",
    "for i in distancetag:\n",
    "    try:\n",
    "        distances = i.text\n",
    "        distance.append(distances)\n",
    "    except NoSuchElementException:\n",
    "        distance.append(\"-\")\n",
    "ratingtag = driver.find_elements_by_xpath(\"//div[@class='score orange big']\")\n",
    "for i in ratingtag:\n",
    "    try:\n",
    "        ratings = i.text\n",
    "        rating.append(ratings)\n",
    "    except NoSuchElementException:\n",
    "        rating.append(\"-\")\n",
    "totalreviewtag = driver.find_elements_by_xpath(\"//div[@class='reviews']\")\n",
    "for i in totalreviewtag:\n",
    "    try:\n",
    "        totalreviews = i.text\n",
    "        totalreview.append(totalreviews)\n",
    "    except NoSuchElementException:\n",
    "        totalreview.append(\"-\")\n",
    "overallreviewtag = driver.find_elements_by_xpath(\"//div[@class='keyword']/span\")\n",
    "for i in overallreviewtag:\n",
    "    try:\n",
    "        overallreviews = i.text\n",
    "        overallreview.append(overallreviews)\n",
    "    except NoSuchElementException:\n",
    "        overallreview.append(\"-\")\n",
    "privatesfrompricetag = driver.find_elements_by_xpath(\"//div[@class='price title-5']\")\n",
    "for i in privatesfrompricetag:\n",
    "    try:\n",
    "        privatesfromprices = i.text\n",
    "        privatesfromprice.append(privatesfromprices)\n",
    "    except NoSuchElementException:\n",
    "        privatesfromprice.append(\"-\")\n",
    "dormsfrompricetag = driver.find_elements_by_xpath(\"//p[@class='no-price body-3 no-dorms']\")\n",
    "for i in dormsfrompricetag:\n",
    "    try:\n",
    "        dormsfromprices = i.text\n",
    "        dormsfromprice.append(dormsfromprices)\n",
    "    except NoSuchElementException:\n",
    "        dormsfromprice.append(\"-\")\n",
    "facilitiestag = driver.find_elements_by_xpath(\"//div[@class='facilities-label facilities']\")\n",
    "for i in facilitiestag:\n",
    "    try:\n",
    "        facilitiess = i.text\n",
    "        facilities.append(facilitiess)\n",
    "    except NoSuchElementException:\n",
    "        facilities.append(\"-\")"
   ]
  },
  {
   "cell_type": "code",
   "execution_count": 46,
   "id": "1a4e5e33",
   "metadata": {},
   "outputs": [
    {
     "data": {
      "text/plain": [
       "['Selina Camden',\n",
       " 'Urbany Hostel London',\n",
       " 'Safestay London Elephant & Castle',\n",
       " 'London Backpackers',\n",
       " 'Smart Hyde Park View Hostel',\n",
       " 'Hostel One Notting Hill',\n",
       " 'Saint James Backpackers',\n",
       " 'Barry House',\n",
       " 'London House Hotel',\n",
       " 'Elmwood Hotel',\n",
       " 'The W14 Hotel & Bar',\n",
       " 'Hyde Park Court Hotel',\n",
       " 'City Hotel Carlton',\n",
       " 'Hotel Shepherds Bush London',\n",
       " \"Tony's House Hotel\",\n",
       " 'Fairway Hotel',\n",
       " 'Beaconsfield',\n",
       " 'London Town Hotel',\n",
       " 'Airways Hotel Victoria London',\n",
       " 'Park Hotel',\n",
       " 'Best Western Boltons London Kensington']"
      ]
     },
     "execution_count": 46,
     "metadata": {},
     "output_type": "execute_result"
    }
   ],
   "source": [
    "hostelname"
   ]
  },
  {
   "cell_type": "code",
   "execution_count": 47,
   "id": "9a3aab0c",
   "metadata": {},
   "outputs": [
    {
     "data": {
      "text/plain": [
       "['Hostel - 5.5km from city centre',\n",
       " 'Hostel - 5.4km from city centre',\n",
       " 'Hostel - 1.7km from city centre',\n",
       " 'Hostel - 11.9km from city centre',\n",
       " 'Hostel - 5km from city centre',\n",
       " 'Hostel - 5.5km from city centre',\n",
       " 'Hostel - 5.5km from city centre',\n",
       " 'Bed and Breakfast - 4.2km from city centre',\n",
       " 'Hotel - 5.3km from city centre',\n",
       " 'Hotel - 3.2km from city centre',\n",
       " 'Hotel - 6.5km from city centre',\n",
       " 'Hotel - 4.3km from city centre',\n",
       " 'Hotel - 1.8km from city centre',\n",
       " 'Hotel - 7.6km from city centre',\n",
       " 'Hotel - 4.3km from city centre',\n",
       " 'Bed and Breakfast - 3.3km from city centre',\n",
       " 'Hotel - 8.6km from city centre',\n",
       " 'Hotel - 5.4km from city centre',\n",
       " 'Hotel - 2.1km from city centre',\n",
       " 'Hotel - 4.9km from city centre',\n",
       " 'Hotel - 5.4km from city centre']"
      ]
     },
     "execution_count": 47,
     "metadata": {},
     "output_type": "execute_result"
    }
   ],
   "source": [
    "distance"
   ]
  },
  {
   "cell_type": "code",
   "execution_count": 48,
   "id": "c639b640",
   "metadata": {},
   "outputs": [
    {
     "data": {
      "text/plain": [
       "['9.1',\n",
       " '9.3',\n",
       " '7.2',\n",
       " '8.1',\n",
       " '8.0',\n",
       " '8.8',\n",
       " '6.5',\n",
       " '8.6',\n",
       " '8.6',\n",
       " '7.1',\n",
       " '9.6',\n",
       " '9.1',\n",
       " '6.9']"
      ]
     },
     "execution_count": 48,
     "metadata": {},
     "output_type": "execute_result"
    }
   ],
   "source": [
    "rating            # some hostels dont have ratings tag itself "
   ]
  },
  {
   "cell_type": "code",
   "execution_count": 49,
   "id": "c2928ee7",
   "metadata": {},
   "outputs": [
    {
     "data": {
      "text/plain": [
       "['25 Total Reviews',\n",
       " '313 Total Reviews',\n",
       " '4254 Total Reviews',\n",
       " '4242 Total Reviews',\n",
       " '4549 Total Reviews',\n",
       " '1360 Total Reviews',\n",
       " '1789 Total Reviews',\n",
       " '10 Total Reviews',\n",
       " '1381 Total Reviews',\n",
       " '115 Total Reviews',\n",
       " '278 Total Reviews',\n",
       " '138 Total Reviews',\n",
       " '40 Total Reviews',\n",
       " '0 Total Reviews',\n",
       " '406 Total Reviews',\n",
       " '44 Total Reviews',\n",
       " '28 Total Reviews',\n",
       " '61 Total Reviews',\n",
       " '46 Total Reviews',\n",
       " '0 Total Reviews',\n",
       " '2 Total Reviews']"
      ]
     },
     "execution_count": 49,
     "metadata": {},
     "output_type": "execute_result"
    }
   ],
   "source": [
    "totalreview"
   ]
  },
  {
   "cell_type": "code",
   "execution_count": 50,
   "id": "71b83134",
   "metadata": {},
   "outputs": [
    {
     "data": {
      "text/plain": [
       "['Superb',\n",
       " 'Superb',\n",
       " 'Superb',\n",
       " 'Very Good',\n",
       " 'Fabulous',\n",
       " 'Fabulous',\n",
       " 'Fabulous',\n",
       " 'Good',\n",
       " 'Fabulous',\n",
       " 'Fabulous',\n",
       " 'Very Good',\n",
       " 'Superb',\n",
       " 'Rating',\n",
       " 'Superb',\n",
       " 'No Rating',\n",
       " 'No Rating',\n",
       " 'No Rating',\n",
       " 'No Rating',\n",
       " 'No Rating',\n",
       " 'Good',\n",
       " 'No Rating',\n",
       " 'Rating']"
      ]
     },
     "execution_count": 50,
     "metadata": {},
     "output_type": "execute_result"
    }
   ],
   "source": [
    "overallreview"
   ]
  },
  {
   "cell_type": "code",
   "execution_count": 51,
   "id": "bbbe1270",
   "metadata": {},
   "outputs": [
    {
     "data": {
      "text/plain": [
       "['Rs35726.33 Rs30367',\n",
       " 'Rs14151',\n",
       " 'Rs14133',\n",
       " 'Rs4211',\n",
       " 'Rs18623',\n",
       " 'Rs19514',\n",
       " 'Rs10376.27 Rs9857',\n",
       " 'Rs6117.97 Rs5812',\n",
       " 'Rs13185',\n",
       " 'Rs23380.09 Rs16366',\n",
       " 'Rs10469',\n",
       " 'Rs11287',\n",
       " 'Rs17176',\n",
       " 'Rs12825',\n",
       " 'Rs20135.54 Rs16310',\n",
       " 'Rs20873',\n",
       " 'Rs12825',\n",
       " 'Rs14624',\n",
       " 'Rs12596',\n",
       " 'Rs13087',\n",
       " 'Rs12923',\n",
       " 'Rs17897']"
      ]
     },
     "execution_count": 51,
     "metadata": {},
     "output_type": "execute_result"
    }
   ],
   "source": [
    "privatesfromprice"
   ]
  },
  {
   "cell_type": "code",
   "execution_count": 52,
   "id": "ff794630",
   "metadata": {},
   "outputs": [
    {
     "data": {
      "text/plain": [
       "['No Dorms Available',\n",
       " 'No Dorms Available',\n",
       " 'No Dorms Available',\n",
       " 'No Dorms Available',\n",
       " 'No Dorms Available',\n",
       " 'No Dorms Available',\n",
       " 'No Dorms Available',\n",
       " 'No Dorms Available',\n",
       " 'No Dorms Available',\n",
       " 'No Dorms Available',\n",
       " 'No Dorms Available',\n",
       " 'No Dorms Available',\n",
       " 'No Dorms Available',\n",
       " 'No Dorms Available',\n",
       " 'No Dorms Available',\n",
       " 'No Dorms Available',\n",
       " 'No Dorms Available',\n",
       " 'No Dorms Available',\n",
       " 'No Dorms Available']"
      ]
     },
     "execution_count": 52,
     "metadata": {},
     "output_type": "execute_result"
    }
   ],
   "source": [
    "dormsfromprice"
   ]
  },
  {
   "cell_type": "code",
   "execution_count": 53,
   "id": "827910b8",
   "metadata": {},
   "outputs": [
    {
     "data": {
      "text/plain": [
       "['Free WiFi',\n",
       " 'Free WiFi\\nFollows Covid-19 sanitation guidance',\n",
       " 'Free WiFi\\nFollows Covid-19 sanitation guidance',\n",
       " 'Free WiFi\\nFree Breakfast\\nFollows Covid-19 sanitation guidance',\n",
       " 'Free WiFi\\nFollows Covid-19 sanitation guidance',\n",
       " 'Free WiFi',\n",
       " 'Free WiFi\\nFree Breakfast\\nFollows Covid-19 sanitation guidance',\n",
       " 'Free WiFi\\nFree Breakfast',\n",
       " 'Free WiFi',\n",
       " '',\n",
       " 'Free WiFi\\nFree Breakfast',\n",
       " 'Free WiFi\\nFree Breakfast',\n",
       " '',\n",
       " 'Free WiFi\\nFollows Covid-19 sanitation guidance',\n",
       " 'Free Breakfast',\n",
       " 'Free WiFi\\nFree Breakfast',\n",
       " 'Free WiFi',\n",
       " 'Free WiFi',\n",
       " 'Free WiFi\\nFree Breakfast',\n",
       " 'Free WiFi',\n",
       " 'Free WiFi']"
      ]
     },
     "execution_count": 53,
     "metadata": {},
     "output_type": "execute_result"
    }
   ],
   "source": [
    "facilities"
   ]
  },
  {
   "cell_type": "code",
   "execution_count": 54,
   "id": "497a12c6",
   "metadata": {},
   "outputs": [],
   "source": [
    "# creating empty list for url\n",
    "url = []"
   ]
  },
  {
   "cell_type": "code",
   "execution_count": 55,
   "id": "70100670",
   "metadata": {},
   "outputs": [],
   "source": [
    "# extracting url tag\n",
    "urltag = driver.find_elements_by_xpath(\"//a[@class='view-button']\")"
   ]
  },
  {
   "cell_type": "code",
   "execution_count": 56,
   "id": "32c47433",
   "metadata": {},
   "outputs": [],
   "source": [
    "# iterating over url tag to extract urls\n",
    "for i in urltag:\n",
    "    url.append(i.get_attribute('href'))"
   ]
  },
  {
   "cell_type": "code",
   "execution_count": 57,
   "id": "98c331c0",
   "metadata": {},
   "outputs": [],
   "source": [
    "# creating loop data to be extracted per page, extracting the required tag and then extracting the data from the tag\n",
    "for i in url:\n",
    "    driver.get(i)          # iterating with in the url list\n",
    "    time.sleep(2)\n",
    "    propertydescriptiontag = driver.find_elements_by_xpath(\"//div[@class='content collapse-content'][1]\")\n",
    "    for i in propertydescriptiontag:\n",
    "        try:\n",
    "            propertydescriptions = i.text\n",
    "            propertydescription.append(propertydescriptions)\n",
    "        except NoSuchElementException:\n",
    "            propertydescription.append(\"-\")"
   ]
  },
  {
   "cell_type": "code",
   "execution_count": 58,
   "id": "c6351ef9",
   "metadata": {},
   "outputs": [
    {
     "data": {
      "text/plain": [
       "['Among underground music venues, innovative museums, and hidden foodie hotspots, Selina Camden suits its edgy North London backdrop. Aside from offering beautifully-designed accommodation and a comfortable space to hang out, the Selina Camden hotel is an authentic cultural hub, consistent with great guest experience, an ever-changing calendar of exciting diverse programming, and unique wellness experiences. Reflecting Selina’s unique global reach, our Camden destination is here to explore and tie together the shape-shifting diversity of global music. On-site features include a fully-equipped communal kitchen, a loft complete with a stunning balcony, and a trendy vegan/vegetarian neighbourhood-style eatery.\\n\\nWake up early and head downstairs for some yoga before experiencing the best of Camden’s vegan gastronomy scene at our hotel restaurant. Take to the streets and explore the many attractions on your doorstep- from Camden Market to London Zoo, The Electric Ballroom, and multiple nearby eateries, we’ve got you! Back at Selina, unwind in the basement accompanied by vinyl tunes, catch a performance by local young talent, or order a pre-gig cocktail at the bar. As the sun sets, catch a show in one of England’s most iconic venues or head to the streets to experience London’s eclectic nightlife till the early hours.\\n\\nSelina Camden - Terms & Conditions \\n\\n24-hours front desk.\\n\\nCancellation policy: 24h before arrival. In case of a late cancellation or No Show, you will be charged the first night of your stay.\\n\\nCheck in from 15:00 to 23:00 .\\nCheck out before 11:00 .\\n\\nPayment upon arrival by cash, credit cards, debit cards. \\nTaxes included.\\n\\nBreakfast not included.\\nNo curfew.',\n",
       " 'Everything about this place was awesome. Super cute, great location, very friendly staff. I love the private curtains in the dorms. Would 10/10 recommend this place to anyone visiting London.',\n",
       " \"Welcome to Urbany Hostel London, our first international adventure! We offer you a perfect spot to explore the city, we are a social youth backpacker hostel, a place where you can make friends & feel at home.\\n\\nWe are located in Notting Hill, a cosmopolitan and multicultural neighbourhood, in a typical Victorian terraced house built in the 1800s. From Urbany Hostel, you can easily walk to Portobello Market and Hyde Park, two of the most popular sites in London.\\n\\nOur staff members are just like our guests, friendly, sociable, international and incredibly helpful - They will make sure you know your way around the city.\\n\\n-Temporarily our reception hours have varied; to ensure someone will be here to welcome you, please ensure your arrival time is between 8 AM - 11 PM. Alternatively please let us know if you will be arriving outside these hours as we currently DO NOT have 24hr reception.\\n\\n-Check in to rooms is from 3 PM - 11 PM\\n-Check out before 11 AM\\n\\nFEEL THE URBANY VIBE:\\n\\nWe have a variety of shared mixed dormitories, whilst also offering private rooms for those who prefer not to share.\\n\\nFree high-speed Wi-Fi is available everywhere, even in your room.\\n\\nLuggage storage is also available for free if you arrive before check-in or are leaving after check-out (only for the day).\\n\\nWe offer: towel rental (2 GBP) and basic laundry service wash/dry (5 GBP).\\n\\n24/7 CCTV throughout the whole building for added security.\\n\\nWe do require a £10 cash key deposit (which you will receive back upon return). Ours key's have 24/7 access so there is no curfew - you can get in and out as much as you like.\\n\\nA physical VALID government issued ID (Passport, Driving license, and National identity cards ) is required to stay with us.\\n\\nALL guests must be between 18 - 40 YEARS. If you are outside of this age range upon arrival to the hostel, we have the right to cancel your booking without refund of your deposit, as well as charging the applicable cancellation fee.\\n\\nIt's also important to note that there are 4 floors in our hostel and there is no elevator.\\n\\nWe can't wait to welcome you to our wonderful home and enjoy this amazing city!\",\n",
       " 'As a solo traveler this place was amazing! The staff were always super nice and helpful and the rooms are always kept super clean! No complaints whatsoever from my stay 10/10 would recommend!',\n",
       " \"Great hostel in London! Clean, comfy beds, good common spaces, good location, plus great vibes if you're a solo traveller. Seriously one of the best hostels I've stayed in in a large European city. Highly recommend!\",\n",
       " \"Safestay at Elephant & Castle is ideal if you are looking for budget accommodation in London, whether you see the sights in this amazing city or travelling with your family. If Tate Modern, the National Theatre, The Imperial War Museum, the London Aquarium, the London Dungeon, a cricket match at the Kia Oval or clubbing at the world-famous Ministry of Sound are on your must-do list, Safestay London Elephant & Castle is perfectly located.\\n\\nOur beautiful 18th-century Georgian building is centrally located, close to London's mighty River Thames and the restaurants, bars and cafes the Southbank is famed for, along with the London Eye, Borough Market and Shakespeare's Globe Theatre. It's secure, stylish, comfortable and fun, with an illuminated garden for you to relax in.\\n\\nSo if you're after budget accommodation in London, bringing a group of school children to study the sights or want something different from the usual options in London, why not try this fantastic hostel out for size.\\n\\nClose to all the big London tourist attractions, our staff will happily help you plan your visit and give you top tips on what is happening in London during your stay.\\n\\nSee these London landmarks within 6 stops of the hostel using the Underground:\\n. Oxford Street\\n. Piccadilly Circus\\n. Leicester Square\\n. Covent Garden\\n. Westminster Abbey\\n. Big Ben & the Houses of Parliament\\n. Buckingham Palace\\n. St Paul's Cathedral\\n. The Tower of London and Tower Bridge \\n\\nFREE WI-FI\\nFree across all areas\\n\\nBREAKFAST\\nEnjoy our packed breakfast served between 7:00 am and 10:00 am for only GBP 6.00\\n\\nTravelling with children? Cots are available on request. Please contact the hostel in advance to arrange.\\nLuggage storage subject to availability upon arrival and departure\\n\\nAttractions: We sell discounted and fast track entrance tickets to some of London's most famous sights and best kept secrets. Including the London Eye, Madame Tussauds, The Tower of London, Walking tours, Bike tours, boat trips, and many more.\\n\\nHostel Activities: We organise fun stuff for you to do nearly every day of the week! Such as Free Walking tours, top-rated Pub Crawls, Group trips to famous West End Shows, Jet boating on the Thames\",\n",
       " 'Contratei uma cama em um quarto com menos camas e com um banheiro, mas a porta não trancava, deixando de valer a pena pagar a mais pra ter privacidade. Não achei muito seguro pois tem um bar na área da recepção e vi pessoas sem cartão tentando subir no elevador. E no último dia (domingo) o sinal de alarme de incêndio foi acionado, todos saímos e ficamos aguardando lá na área externa, e ninguém do hostel apareceu pra explicar o que aconteceu.',\n",
       " 'Check-in took a lot of time. Staff was ok (the bartender is really friendly). This was the first hostel that I needed to paid to leave my luggage before and after the check-in and check-out. My bed linen was had some impregnated stains. The yard is really cool but at nights it can get really noisy for the rooms facing it.',\n",
       " 'IMPORTANT NOTICE: This hostel is for 18 - 35-year olds ONLY. \\nCheck In is from 3 pm and Checkout is Before 10 am. Passport, Identity Card or Driver License is Required from all Guests. We accept cash in British Pounds and most cards. Please, note the reception is opened between 8am and 10pm only. \\n\\n\"Your home away from home\" \\n\\nLooking for a great central London Hostel? Your search can come to rest to at London Backpackers Youth Hostel in Hendon. \\nWe are moment from Hendon Central Underground station, minutes from the heart of London and easy access to nearby airports (detailed instructions of how to find the Hostel will be emailed to you once your Booking is made).\\n\\nWe take pride of providing excellent hostel facilities for your stay, whether for a single night or several.\\nFor Group Bookings please contact the Hostel Directly.\\nIf you are looking for long term accommodation, email us for rooms and prices available for quarantining and long stay. \\n\\nOur rates are truly inexpensive, but our hostel is jam-packed with amenities tailored for young, and young at heart, people looking for a comfort at a modest price with a friendly atmosphere.\\n\\nBookings made on this or any website are Not Valid for Existing Guests. If you are and Existing Guest and make an Online Booking, your Booking will be honored but you will be charged the Full Nightly Rate.\\nIn the event of a NO SHOW or LATE CANCELLATION, Guests will be charged a Cancellation Fee Equal to the First Night of the Booking.\\n\\nWHAT YOU CAN EXPECT:\\n\\nOur facilities supply free linen, blankets, private rooms with towels, internet access, TV, literature, City Maps and UK Sim Cards, and a fully fitted kitchen for cooking (with Fridge/Freezers, Oven, Stoves, Microwave, Toaster and Kettle). You will not find another cheap London Youth Hostel that provide clean showers and toilets, plus hot water guaranteed 24h a day. For your convenience we also provide a laundry room with washer and dryer. Bunk Beds with Privacy Curtain, USB Charging Ports, Power Sockets, Reading Light and Locker. (Bring a Padlock or purchase from Reception). Sports Equipment for the nearby Hendon Park, just up the road with a large football field, tennis courts, basketball courts and it is a great place to get active during the day or to chill out with friends in the evening.\\n\\nYou can also enjoy a Pool game in our brand-new basement, equipped with seats and TV for more comfort!\\n\\nWe want your stay to be carefree and we ensure that by offering lockers and luggage room for your use in securing your property during your stay. The Hostel is covered by CCTV and there is 24hr Key Card Access with No Curfew.\\n\\nMoreover, you can find plenty of coffee shops and restaurants around the hostel and for every taste! \\n\\nFor your convenience you will find Tesco, SainsburyÃ¢â‚¬â„¢s, and other international shops 2 min walk from the hostel. They are all opened until late at night, even on the Sunday. \\n\\nWe are a 10-minute walk away from Middlesex University as well as Brent Cross shopping centre. The Royal Air Force museum is right by the next underground station!\\n\\nDESINFECTING AND CLEANING:\\nSince COVID-19 started, face coverings must be worn when arrival at the hostel, in corridors and all public areas. We have implementing a vast number of procedures and training with the team to ensure your safety. The hostel is disinfecting every 4 hours and hand sanitizer stations are available all around the building. \\n\\nNOTE: you must confirm your booking 24 hours prior to arrival by email to let us know you still want it.',\n",
       " 'Good vibes at London Backpackers. Comfy beds, nice kitchen and rest/social areas to mingle and chat with fellow backpackers. Staff are cool, helpful and funny :-) Love this place.',\n",
       " 'I had a fantastic stay. Very close to the tube station. Nice location. I would definitely stay at this place during my future trips and would recommend to others as well.',\n",
       " 'Everything was cool. The breakfast was enough and had reasonable price. The location is awesome, close to Hyde Park and Kensington Park. The only negativity is the rooms are so small and when the room is full, its crowded and barely has space. Recommend it, one of the best value for money accomodation in London.',\n",
       " \"The perfect place for solo travelers to connect, explore and party! Join the H1 Family and let us show you the beautiful city of London!\\n\\nWhat really makes our hostel unique and what has helped us win HostelWorld awards year after year, are our amazing team and incredibly social atmosphere.\\nOur staff are travelers just like you, but we are not just here to party. We will cook you dinner, take you on daytime adventures, and share our expert knowledge of the city.\\n\\nIf you still need more convincing, Hostel One Notting Hill is located in the absolute heart of Notting Hill (surely you have seen the film), one of London's most beautiful neighborhoods. We are walking distance from many major tourist attractions, such as Portobello Market, Hyde Park & Kensington Palace!\\n\\n- WHY US? \\nSocial but responsible.\\nDay and night, we do free activities with our H1 family. At Hostel One you arrive as a solo traveler and you leave with a family.\\n\\n- OUR FACILITIES\\nSleep well, feel well & make friends.\\n\\n. Fully equipped kitchen 24/7 access.\\n. Terrace area.\\n. Common areas all designed for different moods. To relax, to work or to party.\\n. Laundry facilities to keep you smelling fresh.\\n. Personal lockers, outlets and light in all rooms.\\n. No curfew, so you can come and go 24 hours per day as you please.\\n\\nWe are currently following all procedural advice from local governments and taking every necessary measure to ensure your safety, comfort and happiness.\\n. We are up to speed with local government guidelines, advice from WHO and the CDC.\\n. Deep cleaning throughout our hostels has been increased.\\n. We offer sanitization in all common areas and public spaces.\\n\\n- CANCELLATION POLICY \\nThis property has a 2 day cancellation policy. Failure to cancel within this time will result in a cancellation charge equal to the first night of your stay.\\n\\nNon-refundable rates: If your booking is non-refundable. If you choose to cancel your booking, or in the case of a no-show, you will still be charged the full cost of your booking.\\n\\n- POLICIES & CONDITIONS\\nCheck-in from 3 PM to 11 PM. For late check-in, please email the hostel in advance. \\nCheck-out until 11 AM \\n\\nAge Limit \\nWe have an age limit of 18 - 36 years old. If you are outside of this age range upon arrival to the hostel, we have the right to cancel your booking without refund of your deposit, as well as charging the applicable cancellation fee.\\n\\nWe look forward to greeting you in London!\",\n",
       " \"This was a nice hostel, and the staff and social atmosphere are what gives it a 10/10. Emily's walking tours were a lot of fun, and there are also free communal dinners, and drinking games every night. It was easy to meet people, even as a solo traveller. Don't hesitate to ask the staff for any recommendations, as I got a great haircut at the place neil goes too. If you are lucky, you may even get to hear Andreas sing or Andrew play the violin. If you are visiting London, you should stay here.\",\n",
       " 'Honestly incredible! The staff is simply amazing (shoutout to Nora, Letícia and Nilz), there are daily activities (turistic and parties), the free dinner is awesome to know new people and the food is great as well. The best hostel I’ve been to, easily.',\n",
       " \"We are located in central London - just 5 minutes walk from the station. Rated one of the best hostels in London 2017 by the Telegraph newspaper, we offer free dinner & free breakfast everyday. Come stay with us and make new friends for life.\\n\\nFree high speed WiFi throughout, a huge garden patio with free gym, communal lounge with a 85-inch Ultra HD TV with cable, Netflix & PS4. Guests can also use the modern shared kitchen to cook their own meals.\\n\\nAll dorms have contemporary designs and feature free storage lockers. We also have many private rooms. \\n\\nThe hostel is 15 minutes walk from Natural History & Science Museums and Hyde Park. Madame Tussauds, Harrods and Buckingham Palace are also a 15-minute train ride away.\\n\\n\\n\\nThe Reception is open 24/7 and the international staff will be there, happy to help you. \\n\\nMore reasons to stay at Saint James Backpackers? \\n- A 24-hour reception to make sure to be available for our guests at any time \\n- Massive living rooms with a large television, with options such as Sky TV, Netflix and a PlayStation 4 \\n- USB Charging Points in every room \\n- An exclusive ladies-only dorm room and showers \\n- Massive patio garden including BBQ \\n- Outdoor gym\\n- Hostel activities: movie and popcorn nights, sangria nights, board game competitions, screening sports events, holiday partiesâ€¦\\n\\nNote: \\n\\n- There is a 24-hour cancellation policy on all reservations. Any night that isn't cancelled with at least 24 hours notice will not be refunded. \\n- A Â£10 key deposit is payable at check-in, which is returned on return of the key at check-out. \\n- Check-in: 14.00/ Check out: 10.00 \\n- Credit cards accepted \\n- Taxes included \\n- No smoking anywhere inside the building (but we do have a large patio garden where you can indulge) \\n- On the property lives one cat and one dog.\\n- Card Payments must be authorised by chip and pin \\n- Minimum age to stay in a dorm is 5. \\n- Please note that there are limited spaces for dinner; you must sign up at reception each day before 16:00, signup is done on a first come first serve bases. If you cannot make it here in time please just call us and request to be put on the list. Management reserve the right to discontinue meals without notice\",\n",
       " 'Wonderful place. Great atmosphere, friendly and welcoming staff. Delicious food. Bobby was really helpful and Juli was really welcoming and funny. We had a great time there!',\n",
       " 'I had a blast here, the staff were so welcoming and I ended up making tons of friends! I only planned on staying a day but I ended up staying for almost week because I was having a great time. It’s a good place for solo travelers because people talked to each other. Definitely more of a small business vibe as opposed to a big business hostel. Make use of the backyard area and free dinner and talk to the staff!',\n",
       " 'Good location. Room was fine but internet doesn’t work on the upper floor. Bathroom got dirty so fast and felt far away. Staff was helpful. They charge for every little thing (towel, holding luggage after check out for a few hours) which seemed silly.',\n",
       " \"Barry House is a Central London bed and breakfast offering family friendly accommodation. We are situated on Sussex Place, close to Hyde Park, Paddington, Marble Arch. Most of London’s famous sights are easy accessible including House of Parliament, Buckingham Palace, London Eye, Tower of London, Madam Tussaud's etc. . Paddington and Lancaster Gate underground stations are just two minutes walking distance from us with access to all buses to city centre. \\n\\nWith new management, we have refurbished the whole building including new wooden flooring in all rooms, new soft furnishing and new bathrooms. We have high standards of cleanliness and excellent customer services which is evident from the satisfaction of our guests who have stayed with us.\\n\\nWe offer enriched continental breakfast Toasts, Tea/Coffee, Jam, Butter, Hot Chocolate, Croissants, Baked Beans, Variety of cereals, Boiled/Fried/Scrambled eggs, Orange/Apple Juice, Fresh Fruits, Cheese, fruit yogurt etc.\\n\\nBarry House policies & conditions\\n\\nCancellation policy: 4 days before arrival at 6pm. \\n \\nCheck in from 14:00 to 23:00 .\\nCheck out before 11:00 .\\n\\nPayment upon arrival by cash, credit cards, debit cards. \\n\\nTaxes included.\\nContinental Breakfast included.\\n\\nGeneral;\\nNo curfew.\\nChild friendly.\\nNon smoking.\\n\\nThe pavement on the street leading to Barry House is level, but there are 2 steps up to our door.\",\n",
       " 'I enjoyed my stay. Location was great & I felt safe at night. The inc. breakfast is basic but adequate. I advised ahead of time of dietary needs & they brought a loaf of bread & cereal which I really appreciated. My single room (up 2/3 flights of stairs/no lift) had a TV, en-suite, kettle/tea/coffee. I experienced some noise during the night above/outside my room (common in old places with wooden floors) with people moving around with suitcases which disrupted my sleep. I would stay here again.',\n",
       " \"Barry House is a charming renovated old rowhouse in an amazing location. Three blocks from Paddington Station and Hyde Park, with shops and restaurants a block away, make this an ideal location for a stay in London. The house is old and a bit run down, but the rooms were clean and safe. The staff was very friendly and helpful. The building is 5 stories tall, with narrow, winding stairs to climb. A great budget place to stay for those who don't mind the stairs. In US would be 2.5-3 stars.\",\n",
       " 'Might be some confusion but when we asked hours of breakfast the gentleman just stared at me like I was crazy and proceeded to say no breakfast. The menu offerings are clearly listed on the website description and it was one reason we chose this place. It was good walking distance though to the station so I guess you get what you pay for. Our only other complaint was how loud the folks at the desk talk during the evening. At one point someone was on speaker phone practically yelling. Clean room.',\n",
       " \"Get what you pay for. It would be nice if they had some cleaner blanket options. The shower did not heat up for me. :( But if you're looking for a place to stay within 10 minutes walk or less of a couple major stations, plus very close to Kensington Gardens/Hyde park, then it's good for a couple nights. The staff were friendly and held onto my bags after check out, and I was able to check in a bit early.\",\n",
       " 'Our lovely boutique hotel is conveniently located in Central London and is perfect for those looking for a charming and enjoyable stay in the heart of London. We do offer private rooms ranging from singles to triple and quad family rooms, as well as 24-hour reception with in-house security. The 103-room hotel is housed in a charming Victorian Townhouse building and is very close to some of the most popular London attractions like Portobello Road Market, Kensington Palace, Hyde Park, Royal Albert Hall, Notting Hill and many more.\\n\\nAll the rooms have been furnished with a blend of style and functionality in mind. Each of our rooms feature an en-suite bathroom, flat-screen TV, a safe, mini-fridge, free Wi-Fi, free smartphone, dual sockets, clean linen, hair dryers, free toiletries, coffee and tea facilities , air conditioning and central heating\\n\\nWe serve fully continental breakfast buffet (charges apply).\\n\\nWe look forward to welcoming you at London House and make your stay as pleasant as possible!\\n\\nCheck-in: 2pm\\n\\nCheck-out: 11:00am',\n",
       " 'This is such a great hotel. The staff were so friendly, the room and lobby felt very clean and the location was brilliant for buses into central. The rooms are quite small but very nice and bright. We would definitely stay here again.',\n",
       " 'The \"double bed\" is 120cm, not a standard double. Worth mentioning that it is also the most creaking bed I\\'ve ever encountered. Would have been nice to know beforehand that the not isolated window was immediately next to an active building site. At least sunday morning was quite...',\n",
       " 'We booked 2 rooms but were told by the receptionist that we had booked just one. Despite my confirmation clearly saying 2 rooms. Luckily our party was made up of family so we didn’t mind sharing a room but this is not what we paid for, or what was advertised. Great location!',\n",
       " 'The W14 Hotel London is a 3 star Superior Budget Hotel located in trendy Kensington, Central London and sets a new standard for budget accommodation London.\\nThe W14 Hotel spans four beautiful Victorian town houses with original features, mixed in with clean fresh contemporary deco. Situated in a quiet, leafy, residential hotel location conveniently away from all the excitement London can offer, yet close to the prestigious shops of High Street Kensington, the Earls Court & Kensington Olympia.\\n\\n\\nWe have the following room types.\\n Single En-suite Rooms ( Single Bed) \\n Double En-Suite Rooms (1 Double Bed) \\n Twin En-Suite Rooms (2 Single Beds) \\n Triple En-Suite Rooms (1 Double Bed & 1 Single Bed)\\n \\nFacilities:\\nWe offer clean and comfortable rooms and dormitories with great facilities:\\n\\n@ W14 Hotel\\n- 24hr reception, no curfew, no lockout\\n- CCTV & Alarm activated Emergency Exists\\n- Free Wi-Fi to use on your laptop, phone or pda.\\n- Free Breakfast (7:30 - 9:30) is served downstairs in the Breakfast Room (Bread/Toasts Butter, \\n Jam, Marmalade, Cereals, Milk, Coffee, Tea, Hot Chocolate & Juice,Cheese ,ham Bread Rolls, Croissant )\\n- Free Towels\\n- Free Bed Linen\\n- Secure Electronic Key Card Access \\n-Safety Deposit Box\\n- Washing / Drying / Ironing facilities \\n- Direct links to Heathrow Victoria (from Victoria coach station)\\n-Rain Dance Showers\\n\\n@ W14 Bar\\n- Lounge Area with Large screen TV\\n- Bar with affordable drinks and daily entertainment \\n- Vending Machine with a variety of Snacks\\n\\n@ Reception\\n- Free Travel and Local Information \\n- Tours and Tickets available\\n- Free Luggage storage before and after your stay\\n- Check-out time: 10.30 am (yes you can leave your bags @ Reception upon check-out)\\n\\n***PLEASE NOTE***\\nGuests cards will be pre authorised after booking',\n",
       " 'Really enjoyed our stay here, first night off the plane and this was a great place to get all cleaned up, relax and get a good sleep. All renovated washrooms in the rooms, lots of outlets, felt very clean. I don’t think the hotel is wheelchair accessible at all. Complimentary breakfast was phenomenal, had lots of variety and was buffet style, enough for multiple helpings. Big restaurant-looking breakfast room. Super easy access to downtown London through the nearby tube stations. Felt safe walking around, e',\n",
       " \"Nice clean room for one night. I had a private room. The rooms are tiny including the bed but that's expected for a hostel. It was less expensive than other places in London but I felt like it was still pretty pricey for what it was. But having a 7 hour layover and not wanting to stay near the airport you take what you can. The room was clean, the staff was friendly. The only thing I didn't like was that for luggage storage the room was open for anyone. So it was store at your own risk.\",\n",
       " \"The Hyde Park Court Hotel is a centrally located, family run hotel in a quiet and pleasant square. \\n\\nAll rooms have an ensuite shower and toilet, tea/coffee making facilities, satellite television, hairdryer and direct dial telephones. Our reception is open 24 hours and a continental breakfast is included in the rates.\\n\\nOur location allows easy accessibility to all major parts of London whether the purpose of your stay is business or pleasure. Edgware Road tube station offers easy access to London's major tourist attractions. Hyde Park and Oxford St., the heart of London's shopping area are both only a few minutes walking distance away.\\n\\nPaddington Station is only 2 minutes away. From here, the Heathrow Express takes 15 minutes to get to Heathrow Airport. The underground takes 10 to 20 minutes to get to the West End and most other attractions. \\n\\nThe local Paddington area offers many restaurants, pubs, clubs and cinemas.\\n\\n\\nPlease note this hotel has a 48-hour cancellation policy and your card may be pre-authorised before arrival. \\n\\nPlease be advised that the property requires the CVV code of the card in order to guarantee the booking and customers will be contacted directly regarding this. Failure to provide it will result in the cancellation of your booking.\",\n",
       " \"good little hotel for a quick break in London. the area is pretty good as Victoria bus station is very close. Big Ben, London eye etc are walking distance. Bus 24 drops you right off in front of the hotel. great location for a stay. the only issue we had was that the carpets smelt very bad living a bad odour in the room. they should refresh or at least clean the carpets as it smells like someone's been smoking cigarettes for years before we stayed there\",\n",
       " 'I regret booking this property. The location was falsely advertised (an hour walk away from where it is listed), facilities are not good (no outlets anywhere near the beds, shower has no separation from rest of bathroom and soaks entire tiny room), and it was grimy. The man at the front desk was nice, but I cannot recommend staying here. It’s also incredibly overpriced for what you get.',\n",
       " 'Hotel Shepherds Bush London provide 4 star hotel service in London. Reception and Cafe-Bar is open 24 hours 7 days a week.\\n\\nAll hotel bedrooms are on-suite, fully equipped: Free Wi-fi; Linen, towels, and daily cleaning service; Slippers; Tea & Coffee making facilities (including Kettle, tea, coffee); Toiletries: shampoo, soap, conditioner, body wash; Hairdryer; Refrigerator; Iron and Ironing board; Free view TV (flat screen good size).\\n\\nLocation: Shepherds Bush, White City, London. Next to Westfield Shopping center and near BBC TV center.\\n\\nMetro stations: Shepherds Bush Market (For Hammersmith & City line metro), and Shepherds Bush (For Central Line metro, Overground, Rail, and Bus station).\\nWe follow all COVID safety guidelines including cleaning, disinfection.\\n\\nHotel Shepherds Bush London - Terms & Conditions :\\n\\nThe reception works 24-hours 7 days a week\\n\\nCancellation policy: 24h before arrival (for flexible rate). In case of a late cancellation or No Show, you will be charged the first night of your stay. Non-refundable rate are non refundable, non amendable, full charge applies.\\n\\nCheck in from 14:00 (Reception is open 24 hours 7 days per week).\\nCheck out before 11:00 .\\n\\nPayment upon arrival by credit cards, debit cards. \\nThis property may pre-authorize your card before arrival for room security (not a charge, it is authorization only)\\nTaxes included.\\n\\nBreakfast not included - can be pre-ordered at extra 10.00 GBP per person per day.',\n",
       " \"Central London Hotel Accommodation situated in a quiet beautiful garden square in the heart of London. The accommodation has 20 rooms with tea/coffee making facilities, and central heating. Hairdryers, Adaptors and irons available on request. The reception is open 24 hrs, and the staff offer a personalized and friendly service and Free Breakfast!!!\\n\\nThe Hotel provides the ideal location to Oxford street - shoppers paradise or whether you want to visit some of the famous historic sights like Big Ben, Tower Bridge, Westminster Abbey and Buckingham Palace, drink a pint of England's finest ale, see a West End show or take a stroll in Hyde Park, not forgeting the hip international restaurants and the city's vibrant multi cultural population. London's fascination is its variety. Old and new stand side by side. History, pageantry and tradition mix with the modern, eccentric and avant garde, London the city thats in a world of its own offering something for everyone.\\n\\nGetting here: By Tube: Our nearest underground station is Paddington, which has the Bakerloo Line, Circle Line, District Line and the Hammersmith and City Line. Once you exit from the tube station, please walk on your right until you reach London Street, then turn left into Norfolk Square we are located on the left hand side at number 30.\\nBy Bus: 2 minutes walk from hotel. The London Buses that are nearby are the 36, 15, 23 and 27.\\nFrom Heathrow Airport: you can take the Heathrow Express, which will take you directly to Paddington Station, then follow directions as above. \\n\\nCheck-in Time: After 1:30 PM\\n\\nCheck-out Time: 11:00 AM \\n\\n\\nIMPORTANT INFORMATION: \\n\\nBed linen, towels and blankets are included in the price.\\nAll Taxes are included in the price.\\nNo extra charge for guests paying by credit cards.\\nNo Lockout / No curfew\\nAll rooms are equipped with televisions and free satellite channels.\\nFree Tourist Information Service.\\nFree Wireless internet access for guests with laptops.\\nYou can leave your luggage with reception if you arrive early or have a late departure. \\n\\n\\nCANCELLATION POLICY: \\n\\n48 hours prior to check in, cancallations not with in this time period will be charged the first nights accommadation.\",\n",
       " 'Excellent location good value for money. This was my second stay at Tony’s. Excellent staff from daily room service to Reza and Anthony at reception As it is a small hotel I got undisturbed sleep no noise from other guests. Wi fi was good Hotel does not have a dining room breakfast is delivered to your room I did not avail of it ,it did not suit my taste. All day English breakfast is served at La Tazza cafe 143 Praed St 2 mins walk from Tonys and costs £6.50 it’s excellent. Quiet peaceful',\n",
       " 'I would avoid this place unless you’re a solo traveller who wants a private room in a good location that won’t break the bank. The whole place was cramped and just barely adequate. Nothing was very comfortable.',\n",
       " 'Comfortable family run B&B hotel , very centrally located in Central London just opposite Kings Cross St Pancras International stations. \\n\\nRooms are available ensuite or economy with sharing bathroom for the budget conscious traveller. All rooms have a complimentary English breakfast, flat screen tvs, high speed internet wifi access and te/coffee making facilities. \\n\\nThe Fairway Hotel is walking distance from the British Library, museum , Camden and the university of London. Tourist attractions are reachable in minutes.\\n\\nComfortable family run B&B hotel , very centrally located in Central London just opposite Kings Cross St Pancras International stations. Free high speed wifi .\\n\\nPlease note:\\nCheck-in from 14:00 - 23:00\\nCheck- out by 11am\\nCancellation policy is 3 days in advance\\nWe accept payment by cash, debit & credit card. Please note that there is a 3% charge on credit cards but not on uk debit cards . To avoid the charge you may pay in cash in GBP or euro or bank transfer. \\n\\nTaxes are included\\nBreakfast is included\\n\\nMinimum stay of 2 nights on Friday and Saturday.',\n",
       " 'Beaconsfield is a basic, budget hotel, situated in Harringey on Green Lanes (A105) within 100 yards of Haringey Green Lanes Mainline Railway Station and five minutes walk from Manor House Tube Station.\\n\\nGuests at this hotel get to enjoy the benefit of being located above a traditional London pub. \\n\\nThis atmospheric Victorian pub is a great place to soak up a real taste of traditional English life. You can relax with a drink or enjoy a game of pool,darts or maybe watch sports on the big screen. \\n\\nThis comfortable hotel combines a peaceful location with a homely atmosphere, as well as easy access to Central London. \\n\\nThis Hotel also has a fully equipped kitchen and ample shared bathroom facilities.\\n\\n**PLEASE NOTE there is NO check in after midnight**\\n\\nCancellation Policy\\nIf cancelled up to 7 days before date of arrival, no fee will be charged. \\nIf cancelled later or in case of no-show, the total price of the reservation will be charged.',\n",
       " \"The London Town Hotel is your ideal hotel for exploring and visiting London.\\nWith excellent transport links, London's tourist attractions, London's museums and art galleries, West End Theatre shows, London's celebrated restaurants and London's famous department stores, shopping streets and markets are all within easy reach.\\nOur friendly and helpful staff, look forward to welcoming you at the London Town Hotel.\\n\\n***Rooms***\\nOur rooms provide a comfortable space to relax, work and sleep, making us the perfect hotel for your visit to London.\\nOur elegant rooms have luxurious 1000 pocket spring beds, digital TV & radio, central heating, hairdryer, telephone, small room safe and free WiFi.\\nAll our rooms are non-smoking.\\nOur spacious guest's lounge has complimentary tea & coffee making facilities and free WiFi. The lounge leads on to our terrace overlooking the garden.\\n\\n***Location***\\nThe London Town Hotel is located in the centre of Earls Court in the Royal Borough of Kensington & Chelsea, minutes away from Earls Court London Underground Station.\\nThe London Town Hotel is moments away from a wide variety of local restaurants from around the world, and friendly neighbourhood pubs.\\nEarls Court Station is served by the Piccadilly and District London underground lines.\\nHeathrow airport is only 45 minutes away and St Pancras International Station for the EuroStar is only 25 minutes away, via the Piccadilly line.\\nThe hotel is ideal for those visiting the Olympia Exhibition Centre, which is 1 stop away. \\nFor those visiting Canary Wharf, Excel Docklands and The O2 Arena, these are easily reached via the London Underground.\",\n",
       " 'We booked private triple room in last minute, less than 12 hours before check-in, so the price is quite high compared to normal time. But it’s still the cheapest hotel room within London Zone 1 at that time. So we’re still happy with the room. It’s close to the underground, there’re a lot of hotel in the same street. You can find boots, M&S and a lot of coffee shops around. Nothing to complain about our stay.',\n",
       " 'Airways Hotel is a 3 star budget accommodation hotel located in the heart of London, within easy access to all major London Tourist attractions Big Ben, House of Parliament, Tate Gallery, Buckingham Palace are all within a 30 min walking distance. \\n\\nAll the main attractions of the city are within easy reach; a short walk to the Kings Road, the Chelsea Flower Show, and the Hard Rock Caf while access to all of London is a piece of cake through Victoria Rail, Tube and Coach Station and the Gatwick Express Terminal at Victoria. The hotel has 40 en suite bedrooms; all rooms are equipped with TV, direct dial telephone, fridge and free tea- coffee making facilities. We can organize, upon request, airport drop-off service and City Tour of London tickets. \\n\\nWe serve Continental as well as Full English breakfast at the hotel. The Airways Hotel is just a 5 minutes walk to the River Thames with its fantastic views and river-boat restaurants, also nearby you can find the famous traditional English Pubs serving delicious pub hot meals. Airways Hotel can book upon request tickets for the local theatres: Victoria Palace Theatre and The Apollo Theatre, also within walking distance. For those who like shopping, Airways Hotel is near Victoria Street with its new Shopping Centre complex plus Army & Navy Department Stores. \\n\\nThe Airways Hotel also provides Left Luggage service for the same day or for those who wish to go out of London for a day or two or even up to a week. The Airways Hotel Reception is open 24hrs a day, all year around. The rooms are beautifully decorated in keeping with tradition, yet offer the warmth and comfort expected by the modern traveller.',\n",
       " \"A friendly, family run hotel offering comfortable budget accommodation and breakfast at competitive and moderate prices. The Park Hotel London is situated on Belgrave Road in the heart of central London, close to Victoria Underground, Railway and Coach Stations (3 minutes walk away). Fantastic landmarks such as the British Museum, British Library, University of London, Oxford Street, Regents Park and Madame Tussaud's all within easy reach, guests could not be in a better position to explore the city.\\n\\n\\nPark Hotel Policies and Conditions:\\nCancellation policy: 48h before arrival. In case of a late cancellation or No Show, you will be charged the first night of your stay.\\nThis property may pre-authosrise your card prior to your arrival in order to secure your booking.\\n24 hour reception.\\nCheck in from 14:00 to 22:00 .\\nCheck out from 07:00 to 10:00 .\\nPayment upon arrival by credit cards, debit cards. \\nTaxes included.\\nBreakfast not included.\\nNo curfew.\\nChild friendly.\\nNon smoking.\\n\\nFree WiFi.\\nNo pets allowed.\\nStreet Parking available.\",\n",
       " 'Combining Victorian charm with Modern Luxury The 4* Best Western The Bolton’s Kensington is a modern oasis of peace in the conservation area of the Royal Borough of Kensington and Chelsea. \\nFully Refurbished in 2012 to incorporate modern simplicity and functionality with Victorian charm Best Western The Bolton’s Hotel London Kensington with 56 fully Air conditioned en suite bedrooms, complimentary High Speed WIFI throughout, a welcoming Restaurant serving a decadent breakfast is the place for the discerning traveller looking for great value for money. \\n\\nIdeally located just around the corner from Earls Court underground station, within easy reach of some of London’s most prestigious shopping areas such as High Street Kensington and Knightsbridge to the many attractions of London such as the Natural History and the Science museum just off our door step making the Best Western The Bolton’s Hotel London Kensington the ideal location for your visit to London\\nAt the Boltons Hotel London Kensington you will find peace and tranquillity in the heart of London. Located in in the leafy conservation area of The Royal Borough of Kensington and Chelsea on a quiet street only a stones throw from the Hustle and Bustle of the big city The Bolton’s Hotel London Kensington is well located for any visit to London. \\nWith Earls Court Station conveniently located only minutes from the front door, you have access to all of London and Heathrow via the Circle, Piccadilly, and District underground lines. If you’re going further afield there are over ground and Main line trains calling at West Brompton station 10 minutes’ walk away. \\nSurrounded by many excellent local restaurants and pubs that have retained their neighbourhood appeal to make this your home away from home, our hotel will give you an authentic London experience.\\nWhether you are in London or on a budget or wanting to splash out The Bolton’s Hotel London Kensington is your ideal choice.\\n\\nAll rooms include free Wifi. Our modern rooms also boast air conditioning, flat screen televisions, ipod docking stations, 24 hour room service, as well as contemporary beds and modern fittings. Here at Best Western Boltons London Kensington we know how difficult it can be travelling with the family, which can be made even harder when trying to find family friendly accommodation. That is why we are proud to say that we are a family friendly hotel, and our rooms can comfortably fit a family of three.\\n\\nBest Western Boltons London Kensington Policies & Conditions:\\n\\nCancellation policy: 24 hours before arrival. \\n\\nCheck in from 14:00 to 23:00 .\\nCheck out before 12:00 .\\n\\nPayment upon arrival by cash, credit cards, debit cards. \\nThis property may pre-authorise your card before arrival.\\n\\nTaxes included.\\nBreakfast not included.\\n\\nGeneral:\\nReception is open 24 hours.\\nNo curfew.\\nChild friendly.\\nNon smoking.\\n\\nThere is a breakfast room, but this hotel does not serve lunch or dinner - there are plenty of places nearby to try! \\nChildren are welcome when sharing with an adult.\\nIn the unlikely event that you have any reason to complain or experience any problems, you must immediately inform staff in the hotel. Here at The Boltons we put your comfort first and take care of your every need throughout your stay.']"
      ]
     },
     "execution_count": 58,
     "metadata": {},
     "output_type": "execute_result"
    }
   ],
   "source": [
    "propertydescription"
   ]
  },
  {
   "cell_type": "code",
   "execution_count": 59,
   "id": "14e914b8",
   "metadata": {},
   "outputs": [],
   "source": [
    "driver.close()   # to close the driver at the end"
   ]
  },
  {
   "cell_type": "code",
   "execution_count": null,
   "id": "2a1a5f30",
   "metadata": {},
   "outputs": [],
   "source": []
  }
 ],
 "metadata": {
  "kernelspec": {
   "display_name": "Python 3 (ipykernel)",
   "language": "python",
   "name": "python3"
  },
  "language_info": {
   "codemirror_mode": {
    "name": "ipython",
    "version": 3
   },
   "file_extension": ".py",
   "mimetype": "text/x-python",
   "name": "python",
   "nbconvert_exporter": "python",
   "pygments_lexer": "ipython3",
   "version": "3.9.7"
  }
 },
 "nbformat": 4,
 "nbformat_minor": 5
}
