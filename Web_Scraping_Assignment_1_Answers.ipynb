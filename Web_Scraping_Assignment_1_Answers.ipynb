{
 "cells": [
  {
   "cell_type": "code",
   "execution_count": null,
   "id": "3eedc12d",
   "metadata": {},
   "outputs": [],
   "source": [
    "# installing required libraries\n",
    "!pip install bs4\n",
    "!pip install requests"
   ]
  },
  {
   "cell_type": "markdown",
   "id": "35841bfe",
   "metadata": {},
   "source": [
    "# Question 1 Answer --> program to display all the header tags from wikipedia.org"
   ]
  },
  {
   "cell_type": "code",
   "execution_count": 2,
   "id": "62f46ae9",
   "metadata": {},
   "outputs": [],
   "source": [
    "# importing required libraries\n",
    "from bs4 import BeautifulSoup\n",
    "import requests"
   ]
  },
  {
   "cell_type": "code",
   "execution_count": 3,
   "id": "4cb36cf4",
   "metadata": {},
   "outputs": [],
   "source": [
    "# getting url\n",
    "page = requests.get(\"https://en.wikipedia.org/wiki/Main_Page\")"
   ]
  },
  {
   "cell_type": "code",
   "execution_count": null,
   "id": "ee41807c",
   "metadata": {},
   "outputs": [],
   "source": [
    "# successful response code\n",
    "page"
   ]
  },
  {
   "cell_type": "code",
   "execution_count": null,
   "id": "dcae0926",
   "metadata": {},
   "outputs": [],
   "source": [
    "# Scraping webpage\n",
    "\n",
    "soup = BeautifulSoup(page.content)\n",
    "soup"
   ]
  },
  {
   "cell_type": "code",
   "execution_count": 6,
   "id": "d4e68e6e",
   "metadata": {},
   "outputs": [],
   "source": [
    "header_tags = []     # empty list for storing the data"
   ]
  },
  {
   "cell_type": "code",
   "execution_count": 7,
   "id": "f2694b80",
   "metadata": {},
   "outputs": [
    {
     "data": {
      "text/plain": [
       "['Main Page',\n",
       " 'Welcome to Wikipedia',\n",
       " \"From today's featured article\",\n",
       " 'Did you know\\xa0...',\n",
       " 'In the news',\n",
       " 'On this day',\n",
       " \"Today's featured picture\",\n",
       " 'Other areas of Wikipedia',\n",
       " \"Wikipedia's sister projects\",\n",
       " 'Wikipedia languages',\n",
       " 'Navigation menu',\n",
       " '\\nSearch\\n']"
      ]
     },
     "execution_count": 7,
     "metadata": {},
     "output_type": "execute_result"
    }
   ],
   "source": [
    "# Displaying and storing scraped header_tags data in list\n",
    "\n",
    "for i in soup.find_all(['h1','h2','h3']):\n",
    "    header_tags.append(i.text)\n",
    "    \n",
    "header_tags"
   ]
  },
  {
   "cell_type": "code",
   "execution_count": null,
   "id": "ce6ca3b5",
   "metadata": {},
   "outputs": [],
   "source": []
  },
  {
   "cell_type": "markdown",
   "id": "d157bd87",
   "metadata": {},
   "source": [
    "# Question 2 Answer --> program to display IMDB’s Top rated 100 movies’ data (i.e. name, rating, year of release) and make data frame."
   ]
  },
  {
   "cell_type": "code",
   "execution_count": 8,
   "id": "ba9151ee",
   "metadata": {},
   "outputs": [],
   "source": [
    "# importing required libraries\n",
    "from bs4 import BeautifulSoup\n",
    "import requests\n",
    "import pandas as pd\n",
    "import numpy as np"
   ]
  },
  {
   "cell_type": "code",
   "execution_count": null,
   "id": "ae1e29f2",
   "metadata": {},
   "outputs": [],
   "source": [
    "# getting url\n",
    "imdbpage = requests.get(\"https://www.imdb.com/chart/top/\")\n",
    "imdbpage"
   ]
  },
  {
   "cell_type": "code",
   "execution_count": null,
   "id": "3ec49aaa",
   "metadata": {},
   "outputs": [],
   "source": [
    "# Scraping webpage\n",
    "\n",
    "soup2 = BeautifulSoup(imdbpage.content)\n",
    "soup2"
   ]
  },
  {
   "cell_type": "code",
   "execution_count": null,
   "id": "a95782de",
   "metadata": {},
   "outputs": [],
   "source": [
    "movieframe = soup2.find_all(\"tbody\", class_=\"lister-list\")\n",
    "movieframe        #creating a sublist for name extraction purpose since there are a lot of \"a\" tags other than movie names present in the code \n",
    "                  #which would cause all those iterations to enter the list which would be difficult to remove"
   ]
  },
  {
   "cell_type": "code",
   "execution_count": null,
   "id": "ae27e671",
   "metadata": {},
   "outputs": [],
   "source": [
    "rating = []   # creating empty list to store the data\n",
    "\n",
    "for i in soup2.find_all('strong'):\n",
    "    rating.append(i.text)\n",
    "    \n",
    "rating         # 250 movie ratings stored which we will filter to 100 after creating data frame\n"
   ]
  },
  {
   "cell_type": "code",
   "execution_count": null,
   "id": "53a80520",
   "metadata": {},
   "outputs": [],
   "source": [
    "len(rating)  # after creating data frame we will filter till 100 movies"
   ]
  },
  {
   "cell_type": "code",
   "execution_count": null,
   "id": "8c260900",
   "metadata": {},
   "outputs": [],
   "source": [
    "names = []        # creating empty list to store the data\n",
    "\n",
    "for i in movieframe[0].find_all('a'):          #even inside movie frame ' \\n' comes cause 'a' tag\n",
    "    names.append(i.text)\n",
    "    \n",
    "names"
   ]
  },
  {
   "cell_type": "code",
   "execution_count": null,
   "id": "6ccbea80",
   "metadata": {},
   "outputs": [],
   "source": [
    "for i in names:           \n",
    "    names.remove(' \\n')     # removing the excess ' \\n' from the list\n",
    "    \n",
    "names"
   ]
  },
  {
   "cell_type": "code",
   "execution_count": null,
   "id": "a9b25c52",
   "metadata": {},
   "outputs": [],
   "source": [
    "len(names)"
   ]
  },
  {
   "cell_type": "code",
   "execution_count": null,
   "id": "8c905487",
   "metadata": {},
   "outputs": [],
   "source": [
    "year = []               # creating empty list to store the data\n",
    " \n",
    "for i in soup2.find_all('span',class_=\"secondaryInfo\"):\n",
    "    year.append(i.text.replace(\")\",'').replace(\"(\",''))   #replacing '()' in the year in the iteration itself\n",
    "   \n",
    "year"
   ]
  },
  {
   "cell_type": "code",
   "execution_count": null,
   "id": "83f78b97",
   "metadata": {},
   "outputs": [],
   "source": [
    "len(year)   "
   ]
  },
  {
   "cell_type": "code",
   "execution_count": null,
   "id": "8ce64d2c",
   "metadata": {},
   "outputs": [],
   "source": [
    "imdb250 = pd.DataFrame({'Names':names,'Ratings':rating,'year of release':year,})      #imdb top 250 movies data frame\n",
    "imdb250"
   ]
  },
  {
   "cell_type": "code",
   "execution_count": 20,
   "id": "a3e6ef59",
   "metadata": {},
   "outputs": [],
   "source": [
    "imdbtop100 = imdb250.iloc[0:100,:]         # filtered to top 100\n"
   ]
  },
  {
   "cell_type": "code",
   "execution_count": 21,
   "id": "2a8a45f5",
   "metadata": {},
   "outputs": [
    {
     "data": {
      "text/html": [
       "<div>\n",
       "<style scoped>\n",
       "    .dataframe tbody tr th:only-of-type {\n",
       "        vertical-align: middle;\n",
       "    }\n",
       "\n",
       "    .dataframe tbody tr th {\n",
       "        vertical-align: top;\n",
       "    }\n",
       "\n",
       "    .dataframe thead th {\n",
       "        text-align: right;\n",
       "    }\n",
       "</style>\n",
       "<table border=\"1\" class=\"dataframe\">\n",
       "  <thead>\n",
       "    <tr style=\"text-align: right;\">\n",
       "      <th></th>\n",
       "      <th>Names</th>\n",
       "      <th>Ratings</th>\n",
       "      <th>year of release</th>\n",
       "    </tr>\n",
       "  </thead>\n",
       "  <tbody>\n",
       "    <tr>\n",
       "      <th>0</th>\n",
       "      <td>The Shawshank Redemption</td>\n",
       "      <td>9.2</td>\n",
       "      <td>1994</td>\n",
       "    </tr>\n",
       "    <tr>\n",
       "      <th>1</th>\n",
       "      <td>The Godfather</td>\n",
       "      <td>9.2</td>\n",
       "      <td>1972</td>\n",
       "    </tr>\n",
       "    <tr>\n",
       "      <th>2</th>\n",
       "      <td>The Dark Knight</td>\n",
       "      <td>9.0</td>\n",
       "      <td>2008</td>\n",
       "    </tr>\n",
       "    <tr>\n",
       "      <th>3</th>\n",
       "      <td>The Godfather: Part II</td>\n",
       "      <td>9.0</td>\n",
       "      <td>1974</td>\n",
       "    </tr>\n",
       "    <tr>\n",
       "      <th>4</th>\n",
       "      <td>12 Angry Men</td>\n",
       "      <td>8.9</td>\n",
       "      <td>1957</td>\n",
       "    </tr>\n",
       "    <tr>\n",
       "      <th>...</th>\n",
       "      <td>...</td>\n",
       "      <td>...</td>\n",
       "      <td>...</td>\n",
       "    </tr>\n",
       "    <tr>\n",
       "      <th>95</th>\n",
       "      <td>Spider-Man: No Way Home</td>\n",
       "      <td>8.3</td>\n",
       "      <td>2021</td>\n",
       "    </tr>\n",
       "    <tr>\n",
       "      <th>96</th>\n",
       "      <td>M - Eine Stadt sucht einen Mörder</td>\n",
       "      <td>8.3</td>\n",
       "      <td>1931</td>\n",
       "    </tr>\n",
       "    <tr>\n",
       "      <th>97</th>\n",
       "      <td>North by Northwest</td>\n",
       "      <td>8.3</td>\n",
       "      <td>1959</td>\n",
       "    </tr>\n",
       "    <tr>\n",
       "      <th>98</th>\n",
       "      <td>Jagten</td>\n",
       "      <td>8.3</td>\n",
       "      <td>2012</td>\n",
       "    </tr>\n",
       "    <tr>\n",
       "      <th>99</th>\n",
       "      <td>Vertigo</td>\n",
       "      <td>8.2</td>\n",
       "      <td>1958</td>\n",
       "    </tr>\n",
       "  </tbody>\n",
       "</table>\n",
       "<p>100 rows × 3 columns</p>\n",
       "</div>"
      ],
      "text/plain": [
       "                                Names Ratings year of release\n",
       "0            The Shawshank Redemption     9.2            1994\n",
       "1                       The Godfather     9.2            1972\n",
       "2                     The Dark Knight     9.0            2008\n",
       "3              The Godfather: Part II     9.0            1974\n",
       "4                        12 Angry Men     8.9            1957\n",
       "..                                ...     ...             ...\n",
       "95            Spider-Man: No Way Home     8.3            2021\n",
       "96  M - Eine Stadt sucht einen Mörder     8.3            1931\n",
       "97                 North by Northwest     8.3            1959\n",
       "98                             Jagten     8.3            2012\n",
       "99                            Vertigo     8.2            1958\n",
       "\n",
       "[100 rows x 3 columns]"
      ]
     },
     "execution_count": 21,
     "metadata": {},
     "output_type": "execute_result"
    }
   ],
   "source": [
    "imdbtop100                                 # final DataFrame answer "
   ]
  },
  {
   "cell_type": "code",
   "execution_count": null,
   "id": "b1ca94b7",
   "metadata": {},
   "outputs": [],
   "source": []
  },
  {
   "cell_type": "markdown",
   "id": "a1c2b304",
   "metadata": {},
   "source": [
    "# Question 3 Answer --> program to display IMDB’s Top rated 100 Indian movies’ data (i.e. name, rating, year of release) and made data frame."
   ]
  },
  {
   "cell_type": "code",
   "execution_count": 22,
   "id": "4d9da760",
   "metadata": {},
   "outputs": [],
   "source": [
    "# importing required libraries\n",
    "from bs4 import BeautifulSoup\n",
    "import requests\n",
    "import pandas as pd\n",
    "import numpy as np"
   ]
  },
  {
   "cell_type": "code",
   "execution_count": null,
   "id": "b6c9c251",
   "metadata": {},
   "outputs": [],
   "source": [
    "# getting url\n",
    "imdbindian=requests.get(\"https://www.imdb.com/india/top-rated-indian-movies/\")\n",
    "imdbindian"
   ]
  },
  {
   "cell_type": "code",
   "execution_count": null,
   "id": "6af8575d",
   "metadata": {},
   "outputs": [],
   "source": [
    "# Scraping webpage\n",
    "\n",
    "soup3 = BeautifulSoup(imdbindian.content)\n",
    "soup3"
   ]
  },
  {
   "cell_type": "code",
   "execution_count": null,
   "id": "82baef26",
   "metadata": {},
   "outputs": [],
   "source": [
    "moviebody = soup3.find_all(\"tbody\", class_=\"lister-list\")\n",
    "moviebody    #creating a sublist for name extraction purpose since there are a lot of \"a\" tags other than movie names present in the code \n",
    "             #which would cause all those iterations to enter the list which would be difficult to remove"
   ]
  },
  {
   "cell_type": "code",
   "execution_count": null,
   "id": "27d20385",
   "metadata": {},
   "outputs": [],
   "source": [
    "names1 = []                      # creating empty list to store the data\n",
    "\n",
    "for i in moviebody[0].find_all('a'):       #even inside movie frame ' \\n' comes cause 'a' tag\n",
    "    names1.append(i.text)\n",
    "    \n",
    "names1"
   ]
  },
  {
   "cell_type": "code",
   "execution_count": null,
   "id": "aa0bfd5c",
   "metadata": {},
   "outputs": [],
   "source": [
    "for i in names1:\n",
    "    names1.remove(' \\n')             # removing the excess ' \\n' from the list\n",
    "    \n",
    "names1"
   ]
  },
  {
   "cell_type": "code",
   "execution_count": null,
   "id": "3ea068b5",
   "metadata": {},
   "outputs": [],
   "source": [
    "len(names1)              # 250 movie ratings stored which we will filter to 100 after creating data frame"
   ]
  },
  {
   "cell_type": "code",
   "execution_count": null,
   "id": "6556cd17",
   "metadata": {},
   "outputs": [],
   "source": [
    "rating1 = []              # creating empty list to store the data\n",
    "\n",
    "for i in soup3.find_all('strong'):\n",
    "    rating1.append(i.text)\n",
    "    \n",
    "rating1"
   ]
  },
  {
   "cell_type": "code",
   "execution_count": 30,
   "id": "a617421c",
   "metadata": {},
   "outputs": [
    {
     "data": {
      "text/plain": [
       "250"
      ]
     },
     "execution_count": 30,
     "metadata": {},
     "output_type": "execute_result"
    }
   ],
   "source": [
    "len(rating1)"
   ]
  },
  {
   "cell_type": "code",
   "execution_count": null,
   "id": "0527464a",
   "metadata": {},
   "outputs": [],
   "source": [
    "year1 = []                   # creating empty list to store the data\n",
    "\n",
    "for i in soup3.find_all('span',class_=\"secondaryInfo\"):\n",
    "    year1.append(i.text.replace(\")\",'').replace(\"(\",''))         #replacing '()' in the year in the iteration itself\n",
    "   \n",
    "year1"
   ]
  },
  {
   "cell_type": "code",
   "execution_count": 32,
   "id": "5018a734",
   "metadata": {},
   "outputs": [
    {
     "data": {
      "text/plain": [
       "250"
      ]
     },
     "execution_count": 32,
     "metadata": {},
     "output_type": "execute_result"
    }
   ],
   "source": [
    "len(year1)"
   ]
  },
  {
   "cell_type": "code",
   "execution_count": null,
   "id": "6a9e676b",
   "metadata": {},
   "outputs": [],
   "source": [
    "imdb250indian = pd.DataFrame({'Names':names1,'Ratings':rating1,'year of release':year1})    #imdb top 250 Indian movies data frame\n",
    "imdb250indian"
   ]
  },
  {
   "cell_type": "code",
   "execution_count": 34,
   "id": "802954ae",
   "metadata": {},
   "outputs": [],
   "source": [
    "imdbtop100indian = imdb250indian.iloc[0:100,:]         # filtered to top 100 Indian movies"
   ]
  },
  {
   "cell_type": "code",
   "execution_count": 35,
   "id": "c79c2952",
   "metadata": {},
   "outputs": [
    {
     "data": {
      "text/html": [
       "<div>\n",
       "<style scoped>\n",
       "    .dataframe tbody tr th:only-of-type {\n",
       "        vertical-align: middle;\n",
       "    }\n",
       "\n",
       "    .dataframe tbody tr th {\n",
       "        vertical-align: top;\n",
       "    }\n",
       "\n",
       "    .dataframe thead th {\n",
       "        text-align: right;\n",
       "    }\n",
       "</style>\n",
       "<table border=\"1\" class=\"dataframe\">\n",
       "  <thead>\n",
       "    <tr style=\"text-align: right;\">\n",
       "      <th></th>\n",
       "      <th>Names</th>\n",
       "      <th>Ratings</th>\n",
       "      <th>year of release</th>\n",
       "    </tr>\n",
       "  </thead>\n",
       "  <tbody>\n",
       "    <tr>\n",
       "      <th>0</th>\n",
       "      <td>Jai Bhim</td>\n",
       "      <td>8.4</td>\n",
       "      <td>2021</td>\n",
       "    </tr>\n",
       "    <tr>\n",
       "      <th>1</th>\n",
       "      <td>Anbe Sivam</td>\n",
       "      <td>8.4</td>\n",
       "      <td>2003</td>\n",
       "    </tr>\n",
       "    <tr>\n",
       "      <th>2</th>\n",
       "      <td>Golmaal</td>\n",
       "      <td>8.4</td>\n",
       "      <td>1979</td>\n",
       "    </tr>\n",
       "    <tr>\n",
       "      <th>3</th>\n",
       "      <td>K.G.F: Chapter 2</td>\n",
       "      <td>8.4</td>\n",
       "      <td>2022</td>\n",
       "    </tr>\n",
       "    <tr>\n",
       "      <th>4</th>\n",
       "      <td>Nayakan</td>\n",
       "      <td>8.4</td>\n",
       "      <td>1987</td>\n",
       "    </tr>\n",
       "    <tr>\n",
       "      <th>...</th>\n",
       "      <td>...</td>\n",
       "      <td>...</td>\n",
       "      <td>...</td>\n",
       "    </tr>\n",
       "    <tr>\n",
       "      <th>95</th>\n",
       "      <td>Baasha</td>\n",
       "      <td>8.0</td>\n",
       "      <td>1995</td>\n",
       "    </tr>\n",
       "    <tr>\n",
       "      <th>96</th>\n",
       "      <td>Masaan</td>\n",
       "      <td>8.0</td>\n",
       "      <td>2015</td>\n",
       "    </tr>\n",
       "    <tr>\n",
       "      <th>97</th>\n",
       "      <td>Dil Chahta Hai</td>\n",
       "      <td>8.0</td>\n",
       "      <td>2001</td>\n",
       "    </tr>\n",
       "    <tr>\n",
       "      <th>98</th>\n",
       "      <td>Kahaani</td>\n",
       "      <td>8.0</td>\n",
       "      <td>2012</td>\n",
       "    </tr>\n",
       "    <tr>\n",
       "      <th>99</th>\n",
       "      <td>Maheshinte Prathikaaram</td>\n",
       "      <td>8.0</td>\n",
       "      <td>2016</td>\n",
       "    </tr>\n",
       "  </tbody>\n",
       "</table>\n",
       "<p>100 rows × 3 columns</p>\n",
       "</div>"
      ],
      "text/plain": [
       "                      Names Ratings year of release\n",
       "0                  Jai Bhim     8.4            2021\n",
       "1                Anbe Sivam     8.4            2003\n",
       "2                   Golmaal     8.4            1979\n",
       "3          K.G.F: Chapter 2     8.4            2022\n",
       "4                   Nayakan     8.4            1987\n",
       "..                      ...     ...             ...\n",
       "95                   Baasha     8.0            1995\n",
       "96                   Masaan     8.0            2015\n",
       "97           Dil Chahta Hai     8.0            2001\n",
       "98                  Kahaani     8.0            2012\n",
       "99  Maheshinte Prathikaaram     8.0            2016\n",
       "\n",
       "[100 rows x 3 columns]"
      ]
     },
     "execution_count": 35,
     "metadata": {},
     "output_type": "execute_result"
    }
   ],
   "source": [
    "imdbtop100indian                                       # final DataFrame answer "
   ]
  },
  {
   "cell_type": "code",
   "execution_count": null,
   "id": "6dd47251",
   "metadata": {},
   "outputs": [],
   "source": []
  },
  {
   "cell_type": "markdown",
   "id": "be6b2ba4",
   "metadata": {},
   "source": [
    "# Question 4 Answer --> program to scrape product name, price and discounts from https://meesho.com/bags-ladies/pl/p7vbp"
   ]
  },
  {
   "cell_type": "code",
   "execution_count": 36,
   "id": "1d976384",
   "metadata": {},
   "outputs": [],
   "source": [
    "# importing required libraries\n",
    "from bs4 import BeautifulSoup\n",
    "import requests\n",
    "import pandas as pd\n",
    "import numpy as np"
   ]
  },
  {
   "cell_type": "code",
   "execution_count": null,
   "id": "065ec4a6",
   "metadata": {},
   "outputs": [],
   "source": [
    "# getting url\n",
    "meesho=requests.get(\"https://meesho.com/bags-ladies/pl/p7vbp\")\n",
    "meesho"
   ]
  },
  {
   "cell_type": "code",
   "execution_count": null,
   "id": "bdcaf540",
   "metadata": {},
   "outputs": [],
   "source": [
    "# Scraping webpage\n",
    "\n",
    "soup4 = BeautifulSoup(meesho.content)\n",
    "soup4"
   ]
  },
  {
   "cell_type": "code",
   "execution_count": null,
   "id": "9b58d1b9",
   "metadata": {},
   "outputs": [],
   "source": [
    "productdata = soup4.find_all('div',class_=\"sc-gsDKAQ Grid__Row-sc-4ki5nk-0 iQiJjX gfsqfL products\")\n",
    "productdata"
   ]
  },
  {
   "cell_type": "code",
   "execution_count": null,
   "id": "ff90a548",
   "metadata": {},
   "outputs": [],
   "source": [
    "productname = []              # creating empty list to store the data\n",
    "\n",
    "for i in productdata[0].find_all('p',class_=\"Text__StyledText-sc-oo0kvp-0 bWSOET NewProductCard__ProductTitle_Desktop-sc-j0e7tu-4 cQhePS NewProductCard__ProductTitle_Desktop-sc-j0e7tu-4 cQhePS\"):\n",
    "    productname.append(i.text)\n",
    "    \n",
    "productname"
   ]
  },
  {
   "cell_type": "code",
   "execution_count": null,
   "id": "d5034a06",
   "metadata": {},
   "outputs": [],
   "source": [
    "price = []              # creating empty list to store the data\n",
    "\n",
    "for i in productdata[0].find_all('p',class_=\"Text__StyledText-sc-oo0kvp-0 hpXvds Paragraph__StyledParagraphBody2StrikeThrough-sc-69qp0d-0 hEkmRy Paragraph__StyledParagraphBody2StrikeThrough-sc-69qp0d-0 hEkmRy\"):\n",
    "    price.append(i.text)\n",
    "    \n",
    "price"
   ]
  },
  {
   "cell_type": "code",
   "execution_count": null,
   "id": "5723e7cd",
   "metadata": {},
   "outputs": [],
   "source": [
    "discounts = []              # creating empty list to store the data\n",
    "\n",
    "for i in productdata[0].find_all('span',class_=\"Text__StyledText-sc-oo0kvp-0 lnonyH\"):\n",
    "    discounts.append(i.text)\n",
    "    \n",
    "discounts"
   ]
  },
  {
   "cell_type": "code",
   "execution_count": null,
   "id": "879415e3",
   "metadata": {},
   "outputs": [],
   "source": [
    "# printing length\n",
    "print(len(productname),len(price),len(discounts))"
   ]
  },
  {
   "cell_type": "code",
   "execution_count": 44,
   "id": "a3aa760f",
   "metadata": {},
   "outputs": [
    {
     "data": {
      "text/html": [
       "<div>\n",
       "<style scoped>\n",
       "    .dataframe tbody tr th:only-of-type {\n",
       "        vertical-align: middle;\n",
       "    }\n",
       "\n",
       "    .dataframe tbody tr th {\n",
       "        vertical-align: top;\n",
       "    }\n",
       "\n",
       "    .dataframe thead th {\n",
       "        text-align: right;\n",
       "    }\n",
       "</style>\n",
       "<table border=\"1\" class=\"dataframe\">\n",
       "  <thead>\n",
       "    <tr style=\"text-align: right;\">\n",
       "      <th></th>\n",
       "      <th>Product Name</th>\n",
       "      <th>Price</th>\n",
       "      <th>Discounts</th>\n",
       "    </tr>\n",
       "  </thead>\n",
       "  <tbody>\n",
       "    <tr>\n",
       "      <th>0</th>\n",
       "      <td>Graceful Fancy Women Handbags</td>\n",
       "      <td>₹578</td>\n",
       "      <td>9% off</td>\n",
       "    </tr>\n",
       "    <tr>\n",
       "      <th>1</th>\n",
       "      <td>Ravishing Classy Women Handbags</td>\n",
       "      <td>₹1000</td>\n",
       "      <td>5% off</td>\n",
       "    </tr>\n",
       "    <tr>\n",
       "      <th>2</th>\n",
       "      <td>Classic Versatile Women Handbags</td>\n",
       "      <td>₹1000</td>\n",
       "      <td>5% off</td>\n",
       "    </tr>\n",
       "    <tr>\n",
       "      <th>3</th>\n",
       "      <td>Voguish Fancy Women Handbags</td>\n",
       "      <td>₹1599</td>\n",
       "      <td>3% off</td>\n",
       "    </tr>\n",
       "    <tr>\n",
       "      <th>4</th>\n",
       "      <td>Ravishing Alluring Women Handbags</td>\n",
       "      <td>₹434</td>\n",
       "      <td>12% off</td>\n",
       "    </tr>\n",
       "    <tr>\n",
       "      <th>5</th>\n",
       "      <td>Graceful Versatile Women Handbags</td>\n",
       "      <td>₹1000</td>\n",
       "      <td>5% off</td>\n",
       "    </tr>\n",
       "    <tr>\n",
       "      <th>6</th>\n",
       "      <td>Classic Stylish Women Handbags</td>\n",
       "      <td>₹3252</td>\n",
       "      <td>2% off</td>\n",
       "    </tr>\n",
       "    <tr>\n",
       "      <th>7</th>\n",
       "      <td>Ravishing Fashionable Women Handbags</td>\n",
       "      <td>₹366</td>\n",
       "      <td>14% off</td>\n",
       "    </tr>\n",
       "    <tr>\n",
       "      <th>8</th>\n",
       "      <td>Elegant Classy Women Handbags</td>\n",
       "      <td>₹1000</td>\n",
       "      <td>5% off</td>\n",
       "    </tr>\n",
       "    <tr>\n",
       "      <th>9</th>\n",
       "      <td>Elegant Alluring Women Handbags</td>\n",
       "      <td>₹2387</td>\n",
       "      <td>2% off</td>\n",
       "    </tr>\n",
       "    <tr>\n",
       "      <th>10</th>\n",
       "      <td>Classic Alluring Women Handbags</td>\n",
       "      <td>₹568</td>\n",
       "      <td>9% off</td>\n",
       "    </tr>\n",
       "    <tr>\n",
       "      <th>11</th>\n",
       "      <td>Elegant Fashionable Women Handbags</td>\n",
       "      <td>₹775</td>\n",
       "      <td>6% off</td>\n",
       "    </tr>\n",
       "    <tr>\n",
       "      <th>12</th>\n",
       "      <td>Trendy Alluring Women Handbags</td>\n",
       "      <td>₹1370</td>\n",
       "      <td>4% off</td>\n",
       "    </tr>\n",
       "    <tr>\n",
       "      <th>13</th>\n",
       "      <td>Trendy Alluring Women Handbags</td>\n",
       "      <td>₹1000</td>\n",
       "      <td>5% off</td>\n",
       "    </tr>\n",
       "    <tr>\n",
       "      <th>14</th>\n",
       "      <td>Classic Fancy Women Handbags</td>\n",
       "      <td>₹696</td>\n",
       "      <td>7% off</td>\n",
       "    </tr>\n",
       "    <tr>\n",
       "      <th>15</th>\n",
       "      <td>Classic Fashionable Women Handbags</td>\n",
       "      <td>₹670</td>\n",
       "      <td>7% off</td>\n",
       "    </tr>\n",
       "  </tbody>\n",
       "</table>\n",
       "</div>"
      ],
      "text/plain": [
       "                            Product Name  Price Discounts\n",
       "0          Graceful Fancy Women Handbags   ₹578    9% off\n",
       "1        Ravishing Classy Women Handbags  ₹1000    5% off\n",
       "2       Classic Versatile Women Handbags  ₹1000    5% off\n",
       "3           Voguish Fancy Women Handbags  ₹1599    3% off\n",
       "4      Ravishing Alluring Women Handbags   ₹434   12% off\n",
       "5      Graceful Versatile Women Handbags  ₹1000    5% off\n",
       "6         Classic Stylish Women Handbags  ₹3252    2% off\n",
       "7   Ravishing Fashionable Women Handbags   ₹366   14% off\n",
       "8          Elegant Classy Women Handbags  ₹1000    5% off\n",
       "9        Elegant Alluring Women Handbags  ₹2387    2% off\n",
       "10       Classic Alluring Women Handbags   ₹568    9% off\n",
       "11    Elegant Fashionable Women Handbags   ₹775    6% off\n",
       "12        Trendy Alluring Women Handbags  ₹1370    4% off\n",
       "13        Trendy Alluring Women Handbags  ₹1000    5% off\n",
       "14          Classic Fancy Women Handbags   ₹696    7% off\n",
       "15    Classic Fashionable Women Handbags   ₹670    7% off"
      ]
     },
     "execution_count": 44,
     "metadata": {},
     "output_type": "execute_result"
    }
   ],
   "source": [
    "#making data frame\n",
    "\n",
    "meeshodetails = pd.DataFrame({'Product Name':productname,'Price':price,'Discounts':discounts})\n",
    "meeshodetails"
   ]
  },
  {
   "cell_type": "markdown",
   "id": "08ed63ab",
   "metadata": {},
   "source": [
    "# Question 5 Answer --> "
   ]
  },
  {
   "cell_type": "markdown",
   "id": "5d987184",
   "metadata": {},
   "source": [
    "# Question Number 5 (a) Top 10 ODI teams in men’s cricket along with the records for matches, points and rating."
   ]
  },
  {
   "cell_type": "code",
   "execution_count": 45,
   "id": "598a5f7b",
   "metadata": {},
   "outputs": [],
   "source": [
    "# importing required libraries\n",
    "from bs4 import BeautifulSoup\n",
    "import requests\n",
    "import pandas as pd\n",
    "import numpy as np"
   ]
  },
  {
   "cell_type": "code",
   "execution_count": null,
   "id": "9e42ab52",
   "metadata": {},
   "outputs": [],
   "source": [
    "# getting url\n",
    "mensoditeam=requests.get(\"https://www.icc-cricket.com/rankings/mens/team-rankings/odi\")\n",
    "mensoditeam"
   ]
  },
  {
   "cell_type": "code",
   "execution_count": null,
   "id": "27ec6e33",
   "metadata": {},
   "outputs": [],
   "source": [
    "# Scraping webpage\n",
    "\n",
    "soup5 = BeautifulSoup(mensoditeam.content)\n",
    "soup5"
   ]
  },
  {
   "cell_type": "code",
   "execution_count": null,
   "id": "7d56b97c",
   "metadata": {},
   "outputs": [],
   "source": [
    "table = soup5.find_all('table',class_=\"table\")\n",
    "table                                     #spliting it into only necessary elements list"
   ]
  },
  {
   "cell_type": "code",
   "execution_count": null,
   "id": "a2e01195",
   "metadata": {},
   "outputs": [],
   "source": [
    "teamnames = []\n",
    "\n",
    "for i in table[0].find_all('span',class_=\"u-show-phablet\"):\n",
    "    teamnames.append(i.text)\n",
    "    \n",
    "teamnames        # will filter all names, matches, points and rating together to top 10 at the end after creating data frame"
   ]
  },
  {
   "cell_type": "code",
   "execution_count": null,
   "id": "1fd2f122",
   "metadata": {},
   "outputs": [],
   "source": [
    "matches1 = [table[0].find('td',class_=\"rankings-block__banner--matches\").text] \n",
    "matches1    # since the first newzealand team has a different class than the rest of 2-10 teams classes but with same 'td' tag"
   ]
  },
  {
   "cell_type": "code",
   "execution_count": null,
   "id": "e74e8629",
   "metadata": {},
   "outputs": [],
   "source": [
    "points1 = [table[0].find('td',class_=\"rankings-block__banner--points\").text] \n",
    "points1     # since the first newzealand team has a different class than the rest of 2-10 teams classes but with same 'td' tag"
   ]
  },
  {
   "cell_type": "code",
   "execution_count": null,
   "id": "f83f9681",
   "metadata": {},
   "outputs": [],
   "source": [
    "matches = []\n",
    "\n",
    "for i in table[0].find_all('td',class_=\"table-body__cell u-center-text\"):\n",
    "    matches.append(i.text)\n",
    "    \n",
    "matches  # both the matches and points are having the same tag and the same class name hence both come together when iterated\n"
   ]
  },
  {
   "cell_type": "code",
   "execution_count": null,
   "id": "9a9785d5",
   "metadata": {},
   "outputs": [],
   "source": [
    "points2 = [matches[i] for i in range(len(matches)) if i % 2 != 0]\n",
    "points2                  # from 2 - 20 teams points"
   ]
  },
  {
   "cell_type": "code",
   "execution_count": null,
   "id": "ec292965",
   "metadata": {},
   "outputs": [],
   "source": [
    "matches2 = matches[0::2]\n",
    "matches2                # from 2 - 20 teams matches"
   ]
  },
  {
   "cell_type": "code",
   "execution_count": null,
   "id": "ce0481ed",
   "metadata": {},
   "outputs": [],
   "source": [
    "matchesfinal= matches1 + matches2\n",
    "matchesfinal              # teams 1 - 20 final matches"
   ]
  },
  {
   "cell_type": "code",
   "execution_count": null,
   "id": "cb6b23bb",
   "metadata": {},
   "outputs": [],
   "source": [
    "pointsfinal= points1 + points2\n",
    "pointsfinal       # teams 1 - 20 final points"
   ]
  },
  {
   "cell_type": "code",
   "execution_count": null,
   "id": "b16250f0",
   "metadata": {},
   "outputs": [],
   "source": [
    "ratings1 = [table[0].find('td',class_=\"rankings-block__banner--rating u-text-right\").text.replace('\\n                            ','').replace('\\n                            \\n\\n','').replace('\\n\\n','')]     \n",
    "ratings1    # since the first newzealand team has a different class than the rest of 2-10 teams classes but with same 'td' tag\n"
   ]
  },
  {
   "cell_type": "code",
   "execution_count": null,
   "id": "aa71bf3d",
   "metadata": {},
   "outputs": [],
   "source": [
    "ratings2 = []\n",
    "\n",
    "for i in table[0].find_all('td',class_=\"table-body__cell u-text-right rating\"):\n",
    "    ratings2.append(i.text)\n",
    "\n",
    "ratings2     # from 2 - 20 teams ratings"
   ]
  },
  {
   "cell_type": "code",
   "execution_count": null,
   "id": "334d8bec",
   "metadata": {},
   "outputs": [],
   "source": [
    "ratings = ratings1 + ratings2\n",
    "ratings                           # teams 1 - 20 final ratings"
   ]
  },
  {
   "cell_type": "code",
   "execution_count": null,
   "id": "fb535313",
   "metadata": {},
   "outputs": [],
   "source": [
    "# printing length\n",
    "print(len(teamnames),len(matchesfinal),len(pointsfinal),len(ratings))\n"
   ]
  },
  {
   "cell_type": "code",
   "execution_count": null,
   "id": "95a03082",
   "metadata": {},
   "outputs": [],
   "source": [
    "# Making dataframe\n",
    "\n",
    "top20mensoditeam = pd.DataFrame({'Team Names':teamnames,'Matches':matchesfinal,'Points':pointsfinal,'Ratings':ratings})\n",
    "top20mensoditeam                 # top 20 teams"
   ]
  },
  {
   "cell_type": "code",
   "execution_count": 62,
   "id": "c13a0fa5",
   "metadata": {},
   "outputs": [
    {
     "data": {
      "text/html": [
       "<div>\n",
       "<style scoped>\n",
       "    .dataframe tbody tr th:only-of-type {\n",
       "        vertical-align: middle;\n",
       "    }\n",
       "\n",
       "    .dataframe tbody tr th {\n",
       "        vertical-align: top;\n",
       "    }\n",
       "\n",
       "    .dataframe thead th {\n",
       "        text-align: right;\n",
       "    }\n",
       "</style>\n",
       "<table border=\"1\" class=\"dataframe\">\n",
       "  <thead>\n",
       "    <tr style=\"text-align: right;\">\n",
       "      <th></th>\n",
       "      <th>Team Names</th>\n",
       "      <th>Matches</th>\n",
       "      <th>Points</th>\n",
       "      <th>Ratings</th>\n",
       "    </tr>\n",
       "  </thead>\n",
       "  <tbody>\n",
       "    <tr>\n",
       "      <th>0</th>\n",
       "      <td>NZ</td>\n",
       "      <td>20</td>\n",
       "      <td>2,448</td>\n",
       "      <td>122</td>\n",
       "    </tr>\n",
       "    <tr>\n",
       "      <th>1</th>\n",
       "      <td>ENG</td>\n",
       "      <td>32</td>\n",
       "      <td>3,793</td>\n",
       "      <td>119</td>\n",
       "    </tr>\n",
       "    <tr>\n",
       "      <th>2</th>\n",
       "      <td>AUS</td>\n",
       "      <td>31</td>\n",
       "      <td>3,475</td>\n",
       "      <td>112</td>\n",
       "    </tr>\n",
       "    <tr>\n",
       "      <th>3</th>\n",
       "      <td>IND</td>\n",
       "      <td>38</td>\n",
       "      <td>4,162</td>\n",
       "      <td>110</td>\n",
       "    </tr>\n",
       "    <tr>\n",
       "      <th>4</th>\n",
       "      <td>SA</td>\n",
       "      <td>31</td>\n",
       "      <td>3,167</td>\n",
       "      <td>102</td>\n",
       "    </tr>\n",
       "    <tr>\n",
       "      <th>5</th>\n",
       "      <td>PAK</td>\n",
       "      <td>30</td>\n",
       "      <td>2,921</td>\n",
       "      <td>97</td>\n",
       "    </tr>\n",
       "    <tr>\n",
       "      <th>6</th>\n",
       "      <td>BAN</td>\n",
       "      <td>36</td>\n",
       "      <td>3,350</td>\n",
       "      <td>93</td>\n",
       "    </tr>\n",
       "    <tr>\n",
       "      <th>7</th>\n",
       "      <td>SL</td>\n",
       "      <td>35</td>\n",
       "      <td>2,835</td>\n",
       "      <td>81</td>\n",
       "    </tr>\n",
       "    <tr>\n",
       "      <th>8</th>\n",
       "      <td>WI</td>\n",
       "      <td>36</td>\n",
       "      <td>2,788</td>\n",
       "      <td>77</td>\n",
       "    </tr>\n",
       "    <tr>\n",
       "      <th>9</th>\n",
       "      <td>AFG</td>\n",
       "      <td>23</td>\n",
       "      <td>1,562</td>\n",
       "      <td>68</td>\n",
       "    </tr>\n",
       "  </tbody>\n",
       "</table>\n",
       "</div>"
      ],
      "text/plain": [
       "  Team Names Matches Points Ratings\n",
       "0         NZ      20  2,448     122\n",
       "1        ENG      32  3,793     119\n",
       "2        AUS      31  3,475     112\n",
       "3        IND      38  4,162     110\n",
       "4         SA      31  3,167     102\n",
       "5        PAK      30  2,921      97\n",
       "6        BAN      36  3,350      93\n",
       "7         SL      35  2,835      81\n",
       "8         WI      36  2,788      77\n",
       "9        AFG      23  1,562      68"
      ]
     },
     "execution_count": 62,
     "metadata": {},
     "output_type": "execute_result"
    }
   ],
   "source": [
    "top10mensoditeam = top20mensoditeam.iloc[0:10,:]         # filtered to top 10 mens odi team\n",
    "top10mensoditeam"
   ]
  },
  {
   "cell_type": "code",
   "execution_count": null,
   "id": "b0982d36",
   "metadata": {},
   "outputs": [],
   "source": []
  },
  {
   "cell_type": "markdown",
   "id": "7699a7f9",
   "metadata": {},
   "source": [
    "# Question 5 b) Answer Top 10 ODI Batsmen along with the records of their team and rating."
   ]
  },
  {
   "cell_type": "code",
   "execution_count": 63,
   "id": "32ac7bd0",
   "metadata": {},
   "outputs": [],
   "source": [
    "# importing required libraries\n",
    "from bs4 import BeautifulSoup\n",
    "import requests\n",
    "import pandas as pd\n",
    "import numpy as np"
   ]
  },
  {
   "cell_type": "code",
   "execution_count": null,
   "id": "2779b86e",
   "metadata": {},
   "outputs": [],
   "source": [
    "# getting url\n",
    "odibatsmen = requests.get(\"https://www.icc-cricket.com/rankings/mens/player-rankings/odi\")\n",
    "odibatsmen"
   ]
  },
  {
   "cell_type": "code",
   "execution_count": null,
   "id": "b6b20b75",
   "metadata": {},
   "outputs": [],
   "source": [
    "# Scraping webpage\n",
    "\n",
    "soup6 = BeautifulSoup(odibatsmen.content)\n",
    "soup6"
   ]
  },
  {
   "cell_type": "code",
   "execution_count": null,
   "id": "86f85c44",
   "metadata": {},
   "outputs": [],
   "source": [
    "table6 = soup6.find_all('div',class_=\"rankings-block__container\")\n",
    "table6                                     #spliting it into only necessary elements list"
   ]
  },
  {
   "cell_type": "code",
   "execution_count": null,
   "id": "5d218787",
   "metadata": {},
   "outputs": [],
   "source": [
    "batsmennames1 = [table6[0].find('div',class_=\"rankings-block__banner--name\").text]\n",
    "    \n",
    "batsmennames1       # 1st batsmen seperately since classes of the rest are different"
   ]
  },
  {
   "cell_type": "code",
   "execution_count": null,
   "id": "41fa10c0",
   "metadata": {},
   "outputs": [],
   "source": [
    "batsmennames2 = []\n",
    "\n",
    "for i in table6[0].find_all('td',class_=\"table-body__cell name\"):\n",
    "    batsmennames2.append(i.text.replace('\\n',''))\n",
    "    \n",
    "batsmennames2"
   ]
  },
  {
   "cell_type": "code",
   "execution_count": null,
   "id": "aaace90c",
   "metadata": {},
   "outputs": [],
   "source": [
    "batsmennames = batsmennames1 + batsmennames2\n",
    "batsmennames"
   ]
  },
  {
   "cell_type": "code",
   "execution_count": null,
   "id": "1529aa24",
   "metadata": {},
   "outputs": [],
   "source": [
    "teamnamesa = []\n",
    "\n",
    "for i in table6[0].find_all('div',class_=\"rankings-block__banner--nationality\"):\n",
    "    teamnamesa.append(i.text.replace('\\n','').replace('                            891',''))\n",
    "\n",
    "teamnamesa"
   ]
  },
  {
   "cell_type": "code",
   "execution_count": null,
   "id": "c24df8ad",
   "metadata": {},
   "outputs": [],
   "source": [
    "teamnamesb = []\n",
    "\n",
    "for i in table6[0].find_all('span',class_=\"table-body__logo-text\"):\n",
    "    teamnamesb.append(i.text)\n",
    "\n",
    "teamnamesb"
   ]
  },
  {
   "cell_type": "code",
   "execution_count": null,
   "id": "7eeec91d",
   "metadata": {},
   "outputs": [],
   "source": [
    "teamnamesc = teamnamesa + teamnamesb\n",
    "teamnamesc"
   ]
  },
  {
   "cell_type": "code",
   "execution_count": null,
   "id": "9dea1e50",
   "metadata": {},
   "outputs": [],
   "source": [
    "ratingsa = []\n",
    "\n",
    "for i in table6[0].find_all('div',class_=\"rankings-block__banner--rating\"):\n",
    "    ratingsa.append(i.text)\n",
    "\n",
    "ratingsa"
   ]
  },
  {
   "cell_type": "code",
   "execution_count": null,
   "id": "aaa549ac",
   "metadata": {},
   "outputs": [],
   "source": [
    "ratingsb = []\n",
    "\n",
    "for i in table6[0].find_all('td',class_=\"table-body__cell u-text-right rating\"):\n",
    "    ratingsb.append(i.text)\n",
    "\n",
    "ratingsb"
   ]
  },
  {
   "cell_type": "code",
   "execution_count": null,
   "id": "7685ed29",
   "metadata": {},
   "outputs": [],
   "source": [
    "ratingsc = ratingsa + ratingsb\n",
    "ratingsc"
   ]
  },
  {
   "cell_type": "code",
   "execution_count": null,
   "id": "e0b33f3b",
   "metadata": {},
   "outputs": [],
   "source": [
    "# printing length\n",
    "print(len(batsmennames),len(teamnamesc),len(ratingsc))"
   ]
  },
  {
   "cell_type": "code",
   "execution_count": 77,
   "id": "3f386a4f",
   "metadata": {},
   "outputs": [
    {
     "data": {
      "text/html": [
       "<div>\n",
       "<style scoped>\n",
       "    .dataframe tbody tr th:only-of-type {\n",
       "        vertical-align: middle;\n",
       "    }\n",
       "\n",
       "    .dataframe tbody tr th {\n",
       "        vertical-align: top;\n",
       "    }\n",
       "\n",
       "    .dataframe thead th {\n",
       "        text-align: right;\n",
       "    }\n",
       "</style>\n",
       "<table border=\"1\" class=\"dataframe\">\n",
       "  <thead>\n",
       "    <tr style=\"text-align: right;\">\n",
       "      <th></th>\n",
       "      <th>Batsmen Names</th>\n",
       "      <th>Teamnames</th>\n",
       "      <th>Ratings</th>\n",
       "    </tr>\n",
       "  </thead>\n",
       "  <tbody>\n",
       "    <tr>\n",
       "      <th>0</th>\n",
       "      <td>Babar Azam</td>\n",
       "      <td>PAK</td>\n",
       "      <td>891</td>\n",
       "    </tr>\n",
       "    <tr>\n",
       "      <th>1</th>\n",
       "      <td>Virat Kohli</td>\n",
       "      <td>IND</td>\n",
       "      <td>811</td>\n",
       "    </tr>\n",
       "    <tr>\n",
       "      <th>2</th>\n",
       "      <td>Imam-ul-Haq</td>\n",
       "      <td>PAK</td>\n",
       "      <td>795</td>\n",
       "    </tr>\n",
       "    <tr>\n",
       "      <th>3</th>\n",
       "      <td>Rohit Sharma</td>\n",
       "      <td>IND</td>\n",
       "      <td>791</td>\n",
       "    </tr>\n",
       "    <tr>\n",
       "      <th>4</th>\n",
       "      <td>Quinton de Kock</td>\n",
       "      <td>SA</td>\n",
       "      <td>789</td>\n",
       "    </tr>\n",
       "    <tr>\n",
       "      <th>5</th>\n",
       "      <td>Jonny Bairstow</td>\n",
       "      <td>ENG</td>\n",
       "      <td>775</td>\n",
       "    </tr>\n",
       "    <tr>\n",
       "      <th>6</th>\n",
       "      <td>Ross Taylor</td>\n",
       "      <td>NZ</td>\n",
       "      <td>775</td>\n",
       "    </tr>\n",
       "    <tr>\n",
       "      <th>7</th>\n",
       "      <td>Rassie van der Dussen</td>\n",
       "      <td>SA</td>\n",
       "      <td>769</td>\n",
       "    </tr>\n",
       "    <tr>\n",
       "      <th>8</th>\n",
       "      <td>David Warner</td>\n",
       "      <td>AUS</td>\n",
       "      <td>750</td>\n",
       "    </tr>\n",
       "    <tr>\n",
       "      <th>9</th>\n",
       "      <td>Aaron Finch</td>\n",
       "      <td>AUS</td>\n",
       "      <td>745</td>\n",
       "    </tr>\n",
       "  </tbody>\n",
       "</table>\n",
       "</div>"
      ],
      "text/plain": [
       "           Batsmen Names Teamnames Ratings\n",
       "0             Babar Azam       PAK     891\n",
       "1            Virat Kohli       IND     811\n",
       "2            Imam-ul-Haq       PAK     795\n",
       "3           Rohit Sharma       IND     791\n",
       "4        Quinton de Kock        SA     789\n",
       "5         Jonny Bairstow       ENG     775\n",
       "6            Ross Taylor        NZ     775\n",
       "7  Rassie van der Dussen        SA     769\n",
       "8           David Warner       AUS     750\n",
       "9            Aaron Finch       AUS     745"
      ]
     },
     "execution_count": 77,
     "metadata": {},
     "output_type": "execute_result"
    }
   ],
   "source": [
    "# Making dataframe\n",
    "\n",
    "top10mensodibatsmen = pd.DataFrame({'Batsmen Names':batsmennames,'Teamnames':teamnamesc,'Ratings':ratingsc})\n",
    "top10mensodibatsmen                # top 10 ODI Batsmen along with team names and Ratings"
   ]
  },
  {
   "cell_type": "code",
   "execution_count": null,
   "id": "a28bb1e7",
   "metadata": {},
   "outputs": [],
   "source": []
  },
  {
   "cell_type": "markdown",
   "id": "4ae1212a",
   "metadata": {},
   "source": [
    "# Question 5 c) Answer Top 10 ODI bowlers along with the records of their team and ratings"
   ]
  },
  {
   "cell_type": "code",
   "execution_count": 78,
   "id": "2c54bec9",
   "metadata": {},
   "outputs": [],
   "source": [
    "# importing required libraries\n",
    "from bs4 import BeautifulSoup\n",
    "import requests\n",
    "import pandas as pd\n",
    "import numpy as np"
   ]
  },
  {
   "cell_type": "code",
   "execution_count": 79,
   "id": "dabdfe74",
   "metadata": {},
   "outputs": [
    {
     "data": {
      "text/plain": [
       "<Response [200]>"
      ]
     },
     "execution_count": 79,
     "metadata": {},
     "output_type": "execute_result"
    }
   ],
   "source": [
    "# getting url\n",
    "odibowlers = requests.get(\"https://www.icc-cricket.com/rankings/mens/player-rankings/odi\")\n",
    "odibowlers"
   ]
  },
  {
   "cell_type": "code",
   "execution_count": null,
   "id": "e1fee794",
   "metadata": {},
   "outputs": [],
   "source": [
    "# Scraping webpage\n",
    "\n",
    "soup7 = BeautifulSoup(odibowlers.content)\n",
    "soup7"
   ]
  },
  {
   "cell_type": "code",
   "execution_count": null,
   "id": "d899d680",
   "metadata": {},
   "outputs": [],
   "source": [
    "table7 = soup7.find_all('div',class_=\"col-4 col-12-desk touch-scroll-list__element\")\n",
    "table7                                     #spliting it into only necessary elements list"
   ]
  },
  {
   "cell_type": "code",
   "execution_count": null,
   "id": "7e985092",
   "metadata": {},
   "outputs": [],
   "source": [
    "bowlernames1 = [table7[-2].find('div',class_=\"rankings-block__banner--name\").text]\n",
    "    \n",
    "bowlernames1       # 1st bowler seperately since classes of the rest are different"
   ]
  },
  {
   "cell_type": "code",
   "execution_count": null,
   "id": "425a7a49",
   "metadata": {},
   "outputs": [],
   "source": [
    "teamnamesd = [table7[-2].find('div',class_=\"rankings-block__banner--nationality\").text.replace('\\n','').replace('                            726','')]\n",
    "    \n",
    "teamnamesd      # 1st bowler team seperately since classes of the rest are different"
   ]
  },
  {
   "cell_type": "code",
   "execution_count": null,
   "id": "35ff2a59",
   "metadata": {},
   "outputs": [],
   "source": [
    "ratingsd = [table7[-2].find('div',class_=\"rankings-block__banner--nationality\").text.replace('\\n','').replace('NZ                            ','')]\n",
    "    \n",
    "ratingsd      # 1st bowler team seperately since classes of the rest are different"
   ]
  },
  {
   "cell_type": "code",
   "execution_count": null,
   "id": "9a0c0845",
   "metadata": {},
   "outputs": [],
   "source": [
    "bowlernames2 = []\n",
    "\n",
    "for i in table7[-2].find_all('td',class_=\"table-body__cell name\"):\n",
    "    bowlernames2.append(i.text.replace('\\n',''))\n",
    "    \n",
    "bowlernames2"
   ]
  },
  {
   "cell_type": "code",
   "execution_count": null,
   "id": "f4bb9782",
   "metadata": {},
   "outputs": [],
   "source": [
    "bowlernames = bowlernames1 + bowlernames2\n",
    "bowlernames            # total top 10 "
   ]
  },
  {
   "cell_type": "code",
   "execution_count": null,
   "id": "457ac346",
   "metadata": {},
   "outputs": [],
   "source": [
    "teamnamese = []\n",
    "\n",
    "for i in table7[-2].find_all('span',class_=\"table-body__logo-text\"):\n",
    "    teamnamese.append(i.text)\n",
    "    \n",
    "teamnamese"
   ]
  },
  {
   "cell_type": "code",
   "execution_count": null,
   "id": "33f81e33",
   "metadata": {},
   "outputs": [],
   "source": [
    "teamnamesf = teamnamesd + teamnamese\n",
    "teamnamesf              # total top 10 "
   ]
  },
  {
   "cell_type": "code",
   "execution_count": null,
   "id": "30af6f78",
   "metadata": {},
   "outputs": [],
   "source": [
    "ratingse = []\n",
    "\n",
    "for i in table7[-2].find_all('td',class_=\"table-body__cell u-text-right rating\"):\n",
    "    ratingse.append(i.text)\n",
    "    \n",
    "ratingse"
   ]
  },
  {
   "cell_type": "code",
   "execution_count": null,
   "id": "e77c06e6",
   "metadata": {},
   "outputs": [],
   "source": [
    "ratingsf = ratingsd + ratingse\n",
    "ratingsf               # total top 10 "
   ]
  },
  {
   "cell_type": "code",
   "execution_count": null,
   "id": "ab2d2e89",
   "metadata": {},
   "outputs": [],
   "source": [
    "# printing length\n",
    "print(len(batsmennames),len(teamnamesc),len(ratingsc))"
   ]
  },
  {
   "cell_type": "code",
   "execution_count": 92,
   "id": "d9ef4618",
   "metadata": {},
   "outputs": [
    {
     "data": {
      "text/html": [
       "<div>\n",
       "<style scoped>\n",
       "    .dataframe tbody tr th:only-of-type {\n",
       "        vertical-align: middle;\n",
       "    }\n",
       "\n",
       "    .dataframe tbody tr th {\n",
       "        vertical-align: top;\n",
       "    }\n",
       "\n",
       "    .dataframe thead th {\n",
       "        text-align: right;\n",
       "    }\n",
       "</style>\n",
       "<table border=\"1\" class=\"dataframe\">\n",
       "  <thead>\n",
       "    <tr style=\"text-align: right;\">\n",
       "      <th></th>\n",
       "      <th>Bowler Names</th>\n",
       "      <th>Teamnames</th>\n",
       "      <th>Ratings</th>\n",
       "    </tr>\n",
       "  </thead>\n",
       "  <tbody>\n",
       "    <tr>\n",
       "      <th>0</th>\n",
       "      <td>Trent Boult</td>\n",
       "      <td>NZ</td>\n",
       "      <td>726</td>\n",
       "    </tr>\n",
       "    <tr>\n",
       "      <th>1</th>\n",
       "      <td>Chris Woakes</td>\n",
       "      <td>ENG</td>\n",
       "      <td>700</td>\n",
       "    </tr>\n",
       "    <tr>\n",
       "      <th>2</th>\n",
       "      <td>Josh Hazlewood</td>\n",
       "      <td>AUS</td>\n",
       "      <td>698</td>\n",
       "    </tr>\n",
       "    <tr>\n",
       "      <th>3</th>\n",
       "      <td>Matt Henry</td>\n",
       "      <td>NZ</td>\n",
       "      <td>683</td>\n",
       "    </tr>\n",
       "    <tr>\n",
       "      <th>4</th>\n",
       "      <td>Mujeeb Ur Rahman</td>\n",
       "      <td>AFG</td>\n",
       "      <td>681</td>\n",
       "    </tr>\n",
       "    <tr>\n",
       "      <th>5</th>\n",
       "      <td>Jasprit Bumrah</td>\n",
       "      <td>IND</td>\n",
       "      <td>679</td>\n",
       "    </tr>\n",
       "    <tr>\n",
       "      <th>6</th>\n",
       "      <td>Shaheen Afridi</td>\n",
       "      <td>PAK</td>\n",
       "      <td>671</td>\n",
       "    </tr>\n",
       "    <tr>\n",
       "      <th>7</th>\n",
       "      <td>Mehedi Hasan</td>\n",
       "      <td>BAN</td>\n",
       "      <td>661</td>\n",
       "    </tr>\n",
       "    <tr>\n",
       "      <th>8</th>\n",
       "      <td>Shakib Al Hasan</td>\n",
       "      <td>BAN</td>\n",
       "      <td>657</td>\n",
       "    </tr>\n",
       "    <tr>\n",
       "      <th>9</th>\n",
       "      <td>Rashid Khan</td>\n",
       "      <td>AFG</td>\n",
       "      <td>650</td>\n",
       "    </tr>\n",
       "  </tbody>\n",
       "</table>\n",
       "</div>"
      ],
      "text/plain": [
       "       Bowler Names Teamnames Ratings\n",
       "0       Trent Boult        NZ     726\n",
       "1      Chris Woakes       ENG     700\n",
       "2    Josh Hazlewood       AUS     698\n",
       "3        Matt Henry        NZ     683\n",
       "4  Mujeeb Ur Rahman       AFG     681\n",
       "5    Jasprit Bumrah       IND     679\n",
       "6    Shaheen Afridi       PAK     671\n",
       "7      Mehedi Hasan       BAN     661\n",
       "8   Shakib Al Hasan       BAN     657\n",
       "9       Rashid Khan       AFG     650"
      ]
     },
     "execution_count": 92,
     "metadata": {},
     "output_type": "execute_result"
    }
   ],
   "source": [
    "# Making dataframe\n",
    "\n",
    "top10mensodibowlers = pd.DataFrame({'Bowler Names':bowlernames,'Teamnames':teamnamesf,'Ratings':ratingsf})\n",
    "top10mensodibowlers               # top 10 ODI bowlers along with team names and Ratings"
   ]
  },
  {
   "cell_type": "code",
   "execution_count": null,
   "id": "f27ca964",
   "metadata": {},
   "outputs": [],
   "source": []
  },
  {
   "cell_type": "markdown",
   "id": "d918a913",
   "metadata": {},
   "source": [
    "# Question 6 Answer --> "
   ]
  },
  {
   "cell_type": "markdown",
   "id": "2f55b4b1",
   "metadata": {},
   "source": [
    "# Question Number 6 (a) Top 10 ODI teams in women’s cricket along with the records for matches, points and rating."
   ]
  },
  {
   "cell_type": "code",
   "execution_count": 93,
   "id": "e4623c8d",
   "metadata": {},
   "outputs": [],
   "source": [
    "# importing required libraries\n",
    "from bs4 import BeautifulSoup\n",
    "import requests\n",
    "import pandas as pd\n",
    "import numpy as np"
   ]
  },
  {
   "cell_type": "code",
   "execution_count": null,
   "id": "9ee48cc3",
   "metadata": {},
   "outputs": [],
   "source": [
    "# getting url\n",
    "womenoditeam = requests.get(\"https://www.icc-cricket.com/rankings/womens/team-rankings/odi\")\n",
    "womenoditeam"
   ]
  },
  {
   "cell_type": "code",
   "execution_count": null,
   "id": "b3862b6b",
   "metadata": {},
   "outputs": [],
   "source": [
    "# Scraping webpage\n",
    "\n",
    "soup8 = BeautifulSoup(womenoditeam.content)\n",
    "soup8"
   ]
  },
  {
   "cell_type": "code",
   "execution_count": null,
   "id": "d6e172da",
   "metadata": {},
   "outputs": [],
   "source": [
    "table8 = soup8.find_all('table',class_=\"table\")\n",
    "table8                                     #spliting it into only necessary elements list"
   ]
  },
  {
   "cell_type": "code",
   "execution_count": null,
   "id": "8cafd3da",
   "metadata": {},
   "outputs": [],
   "source": [
    "womenmatches1 = [table8[0].find('td',class_=\"rankings-block__banner--matches\").text]\n",
    "\n",
    "womenmatches1   # 1st womens matches seperately since classes of the rest are different"
   ]
  },
  {
   "cell_type": "code",
   "execution_count": null,
   "id": "fdf6ab61",
   "metadata": {},
   "outputs": [],
   "source": [
    "womenpoints1 = [table8[0].find('td',class_=\"rankings-block__banner--points\").text]\n",
    "\n",
    "womenpoints1   # 1st womens points seperately since classes of the rest are different"
   ]
  },
  {
   "cell_type": "code",
   "execution_count": null,
   "id": "411938fc",
   "metadata": {},
   "outputs": [],
   "source": [
    "womenratings1 = [table8[0].find('td',class_=\"rankings-block__banner--rating u-text-right\").text.replace('\\n','').replace('                            ','')]\n",
    "\n",
    "womenratings1   # 1st womens ratings seperately since classes of the rest are different"
   ]
  },
  {
   "cell_type": "code",
   "execution_count": null,
   "id": "9a659804",
   "metadata": {},
   "outputs": [],
   "source": [
    "womenteamnames = []\n",
    "\n",
    "for i in table8[0].find_all('span',class_=\"u-hide-phablet\"):\n",
    "    womenteamnames.append(i.text)\n",
    "    \n",
    "womenteamnames               # total team names"
   ]
  },
  {
   "cell_type": "code",
   "execution_count": null,
   "id": "22f7eeb2",
   "metadata": {},
   "outputs": [],
   "source": [
    "womenmixed = []\n",
    "\n",
    "for i in table8[0].find_all('td',class_=\"table-body__cell u-center-text\"):\n",
    "    womenmixed.append(i.text)\n",
    "    \n",
    "womenmixed"
   ]
  },
  {
   "cell_type": "code",
   "execution_count": null,
   "id": "4ead0f57",
   "metadata": {},
   "outputs": [],
   "source": [
    "womenmatches2 = womenmixed[0::2]\n",
    "womenmatches2 "
   ]
  },
  {
   "cell_type": "code",
   "execution_count": null,
   "id": "2e21b37f",
   "metadata": {},
   "outputs": [],
   "source": [
    "womenpoints2 = womenmixed[1::2]\n",
    "womenpoints2"
   ]
  },
  {
   "cell_type": "code",
   "execution_count": null,
   "id": "51b546c8",
   "metadata": {},
   "outputs": [],
   "source": [
    "womenratings2 = []\n",
    "\n",
    "for i in table8[0].find_all('td',class_=\"table-body__cell u-text-right rating\"):\n",
    "    womenratings2.append(i.text)\n",
    "    \n",
    "womenratings2"
   ]
  },
  {
   "cell_type": "code",
   "execution_count": null,
   "id": "ad4253e2",
   "metadata": {},
   "outputs": [],
   "source": [
    "womenmatches = womenmatches1 + womenmatches2\n",
    "womenmatches"
   ]
  },
  {
   "cell_type": "code",
   "execution_count": null,
   "id": "2aaf23aa",
   "metadata": {},
   "outputs": [],
   "source": [
    "womenpoints = womenpoints1 + womenpoints2\n",
    "womenpoints"
   ]
  },
  {
   "cell_type": "code",
   "execution_count": null,
   "id": "0a70bd8d",
   "metadata": {},
   "outputs": [],
   "source": [
    "womenratings = womenratings1 + womenratings2\n",
    "womenratings"
   ]
  },
  {
   "cell_type": "code",
   "execution_count": null,
   "id": "72107235",
   "metadata": {},
   "outputs": [],
   "source": [
    "# printing length\n",
    "print(len(womenteamnames),len(womenmatches),len(womenpoints),len(womenratings))"
   ]
  },
  {
   "cell_type": "code",
   "execution_count": null,
   "id": "66ba72ea",
   "metadata": {},
   "outputs": [],
   "source": [
    "# Making dataframe\n",
    "\n",
    "top11womensoditeams = pd.DataFrame({'Team Names':womenteamnames,'Matches':womenmatches,'Points':womenpoints,'Ratings':womenratings})\n",
    "top11womensoditeams               # Top 11 ODI teams in women’s cricket along with the records for matches, points and rating"
   ]
  },
  {
   "cell_type": "code",
   "execution_count": 110,
   "id": "a1399ce7",
   "metadata": {},
   "outputs": [
    {
     "data": {
      "text/html": [
       "<div>\n",
       "<style scoped>\n",
       "    .dataframe tbody tr th:only-of-type {\n",
       "        vertical-align: middle;\n",
       "    }\n",
       "\n",
       "    .dataframe tbody tr th {\n",
       "        vertical-align: top;\n",
       "    }\n",
       "\n",
       "    .dataframe thead th {\n",
       "        text-align: right;\n",
       "    }\n",
       "</style>\n",
       "<table border=\"1\" class=\"dataframe\">\n",
       "  <thead>\n",
       "    <tr style=\"text-align: right;\">\n",
       "      <th></th>\n",
       "      <th>Team Names</th>\n",
       "      <th>Matches</th>\n",
       "      <th>Points</th>\n",
       "      <th>Ratings</th>\n",
       "    </tr>\n",
       "  </thead>\n",
       "  <tbody>\n",
       "    <tr>\n",
       "      <th>0</th>\n",
       "      <td>Australia</td>\n",
       "      <td>29</td>\n",
       "      <td>4,840</td>\n",
       "      <td>167</td>\n",
       "    </tr>\n",
       "    <tr>\n",
       "      <th>1</th>\n",
       "      <td>South Africa</td>\n",
       "      <td>28</td>\n",
       "      <td>3,504</td>\n",
       "      <td>125</td>\n",
       "    </tr>\n",
       "    <tr>\n",
       "      <th>2</th>\n",
       "      <td>England</td>\n",
       "      <td>30</td>\n",
       "      <td>3,533</td>\n",
       "      <td>118</td>\n",
       "    </tr>\n",
       "    <tr>\n",
       "      <th>3</th>\n",
       "      <td>India</td>\n",
       "      <td>29</td>\n",
       "      <td>2,878</td>\n",
       "      <td>99</td>\n",
       "    </tr>\n",
       "    <tr>\n",
       "      <th>4</th>\n",
       "      <td>New Zealand</td>\n",
       "      <td>31</td>\n",
       "      <td>3,030</td>\n",
       "      <td>98</td>\n",
       "    </tr>\n",
       "    <tr>\n",
       "      <th>5</th>\n",
       "      <td>West Indies</td>\n",
       "      <td>28</td>\n",
       "      <td>2,481</td>\n",
       "      <td>89</td>\n",
       "    </tr>\n",
       "    <tr>\n",
       "      <th>6</th>\n",
       "      <td>Bangladesh</td>\n",
       "      <td>12</td>\n",
       "      <td>936</td>\n",
       "      <td>78</td>\n",
       "    </tr>\n",
       "    <tr>\n",
       "      <th>7</th>\n",
       "      <td>Pakistan</td>\n",
       "      <td>26</td>\n",
       "      <td>1,752</td>\n",
       "      <td>67</td>\n",
       "    </tr>\n",
       "    <tr>\n",
       "      <th>8</th>\n",
       "      <td>Ireland</td>\n",
       "      <td>5</td>\n",
       "      <td>240</td>\n",
       "      <td>48</td>\n",
       "    </tr>\n",
       "    <tr>\n",
       "      <th>9</th>\n",
       "      <td>Sri Lanka</td>\n",
       "      <td>5</td>\n",
       "      <td>233</td>\n",
       "      <td>47</td>\n",
       "    </tr>\n",
       "  </tbody>\n",
       "</table>\n",
       "</div>"
      ],
      "text/plain": [
       "     Team Names Matches Points Ratings\n",
       "0     Australia      29  4,840     167\n",
       "1  South Africa      28  3,504     125\n",
       "2       England      30  3,533     118\n",
       "3         India      29  2,878      99\n",
       "4   New Zealand      31  3,030      98\n",
       "5   West Indies      28  2,481      89\n",
       "6    Bangladesh      12    936      78\n",
       "7      Pakistan      26  1,752      67\n",
       "8       Ireland       5    240      48\n",
       "9     Sri Lanka       5    233      47"
      ]
     },
     "execution_count": 110,
     "metadata": {},
     "output_type": "execute_result"
    }
   ],
   "source": [
    "top10womensoditeams = top11womensoditeams.iloc[0:10,:] \n",
    "top10womensoditeams# Final Top 10 ODI teams in women’s cricket along with the records for matches, points and rating"
   ]
  },
  {
   "cell_type": "code",
   "execution_count": null,
   "id": "7fbff276",
   "metadata": {},
   "outputs": [],
   "source": []
  },
  {
   "cell_type": "markdown",
   "id": "8fb3d8a9",
   "metadata": {},
   "source": [
    "# Question Number 6 (b) Top 10 women’s ODI Batting players along with the records of their team and ratings."
   ]
  },
  {
   "cell_type": "code",
   "execution_count": 111,
   "id": "306de8bb",
   "metadata": {},
   "outputs": [],
   "source": [
    "# importing required libraries\n",
    "from bs4 import BeautifulSoup\n",
    "import requests\n",
    "import pandas as pd\n",
    "import numpy as np"
   ]
  },
  {
   "cell_type": "code",
   "execution_count": null,
   "id": "7fcb652e",
   "metadata": {},
   "outputs": [],
   "source": [
    "# getting url\n",
    "womenodibatting = requests.get(\"https://www.icc-cricket.com/rankings/womens/player-rankings/odi\")\n",
    "womenodibatting"
   ]
  },
  {
   "cell_type": "code",
   "execution_count": null,
   "id": "d39d3607",
   "metadata": {},
   "outputs": [],
   "source": [
    "# Scraping webpage\n",
    "\n",
    "soup9 = BeautifulSoup(womenodibatting.content)\n",
    "soup9"
   ]
  },
  {
   "cell_type": "code",
   "execution_count": null,
   "id": "09d0167d",
   "metadata": {},
   "outputs": [],
   "source": [
    "table9 = soup9.find_all('div',class_=\"rankings-block__container\")\n",
    "table9                                     #spliting it into only necessary elements list"
   ]
  },
  {
   "cell_type": "code",
   "execution_count": null,
   "id": "7948ae32",
   "metadata": {},
   "outputs": [],
   "source": [
    "namesg = [table9[0].find('div',class_=\"rankings-block__banner--name\").text]\n",
    "\n",
    "namesg   # 1st womens names seperately since classes of the rest are different"
   ]
  },
  {
   "cell_type": "code",
   "execution_count": null,
   "id": "4f674ae4",
   "metadata": {},
   "outputs": [],
   "source": [
    "teamsg = [table9[0].find('div',class_=\"rankings-block__banner--nationality\").text.replace('\\n','').replace('                            785','')]\n",
    "\n",
    "teamsg   # 1st womens team seperately since classes of the rest are different"
   ]
  },
  {
   "cell_type": "code",
   "execution_count": null,
   "id": "06da1b79",
   "metadata": {},
   "outputs": [],
   "source": [
    "ratingsg = [table9[0].find('div',class_=\"rankings-block__banner--nationality\").text.replace('\\n','').replace('AUS                            ','')]\n",
    "\n",
    "ratingsg   # 1st womens team seperately since classes of the rest are different"
   ]
  },
  {
   "cell_type": "code",
   "execution_count": null,
   "id": "de7b3d82",
   "metadata": {},
   "outputs": [],
   "source": [
    "namesh = []\n",
    "\n",
    "for i in table9[0].find_all('td',class_=\"table-body__cell name\"):\n",
    "    namesh.append(i.text.replace('\\n',''))\n",
    "    \n",
    "namesh"
   ]
  },
  {
   "cell_type": "code",
   "execution_count": null,
   "id": "8db069cb",
   "metadata": {},
   "outputs": [],
   "source": [
    "teamsh = []\n",
    "\n",
    "for i in table9[0].find_all('span',class_=\"table-body__logo-text\"):\n",
    "    teamsh.append(i.text)\n",
    "    \n",
    "teamsh"
   ]
  },
  {
   "cell_type": "code",
   "execution_count": null,
   "id": "82f8eea5",
   "metadata": {},
   "outputs": [],
   "source": [
    "ratingsh = []\n",
    "\n",
    "for i in table9[0].find_all('td',class_=\"table-body__cell u-text-right rating\"):\n",
    "    ratingsh.append(i.text)\n",
    "    \n",
    "ratingsh"
   ]
  },
  {
   "cell_type": "code",
   "execution_count": null,
   "id": "bb549f8b",
   "metadata": {},
   "outputs": [],
   "source": [
    "namesi = namesg + namesh\n",
    "namesi"
   ]
  },
  {
   "cell_type": "code",
   "execution_count": null,
   "id": "d9d22c7a",
   "metadata": {},
   "outputs": [],
   "source": [
    "teamsi = teamsg + teamsh\n",
    "teamsi"
   ]
  },
  {
   "cell_type": "code",
   "execution_count": null,
   "id": "7d3f4085",
   "metadata": {},
   "outputs": [],
   "source": [
    "ratingsi = ratingsg + ratingsh\n",
    "ratingsi"
   ]
  },
  {
   "cell_type": "code",
   "execution_count": null,
   "id": "357a9bd0",
   "metadata": {},
   "outputs": [],
   "source": [
    "print(len(namesi),len(teamsi),len(ratingsi))"
   ]
  },
  {
   "cell_type": "code",
   "execution_count": 125,
   "id": "c5aa76bd",
   "metadata": {},
   "outputs": [
    {
     "data": {
      "text/html": [
       "<div>\n",
       "<style scoped>\n",
       "    .dataframe tbody tr th:only-of-type {\n",
       "        vertical-align: middle;\n",
       "    }\n",
       "\n",
       "    .dataframe tbody tr th {\n",
       "        vertical-align: top;\n",
       "    }\n",
       "\n",
       "    .dataframe thead th {\n",
       "        text-align: right;\n",
       "    }\n",
       "</style>\n",
       "<table border=\"1\" class=\"dataframe\">\n",
       "  <thead>\n",
       "    <tr style=\"text-align: right;\">\n",
       "      <th></th>\n",
       "      <th>Womens Batting Players</th>\n",
       "      <th>Team Names</th>\n",
       "      <th>Ratings</th>\n",
       "    </tr>\n",
       "  </thead>\n",
       "  <tbody>\n",
       "    <tr>\n",
       "      <th>0</th>\n",
       "      <td>Alyssa Healy</td>\n",
       "      <td>AUS</td>\n",
       "      <td>785</td>\n",
       "    </tr>\n",
       "    <tr>\n",
       "      <th>1</th>\n",
       "      <td>Natalie Sciver</td>\n",
       "      <td>ENG</td>\n",
       "      <td>750</td>\n",
       "    </tr>\n",
       "    <tr>\n",
       "      <th>2</th>\n",
       "      <td>Beth Mooney</td>\n",
       "      <td>AUS</td>\n",
       "      <td>748</td>\n",
       "    </tr>\n",
       "    <tr>\n",
       "      <th>3</th>\n",
       "      <td>Laura Wolvaardt</td>\n",
       "      <td>SA</td>\n",
       "      <td>722</td>\n",
       "    </tr>\n",
       "    <tr>\n",
       "      <th>4</th>\n",
       "      <td>Meg Lanning</td>\n",
       "      <td>AUS</td>\n",
       "      <td>710</td>\n",
       "    </tr>\n",
       "    <tr>\n",
       "      <th>5</th>\n",
       "      <td>Rachael Haynes</td>\n",
       "      <td>AUS</td>\n",
       "      <td>701</td>\n",
       "    </tr>\n",
       "    <tr>\n",
       "      <th>6</th>\n",
       "      <td>Mithali Raj</td>\n",
       "      <td>IND</td>\n",
       "      <td>686</td>\n",
       "    </tr>\n",
       "    <tr>\n",
       "      <th>7</th>\n",
       "      <td>Amy Satterthwaite</td>\n",
       "      <td>NZ</td>\n",
       "      <td>681</td>\n",
       "    </tr>\n",
       "    <tr>\n",
       "      <th>8</th>\n",
       "      <td>Smriti Mandhana</td>\n",
       "      <td>IND</td>\n",
       "      <td>669</td>\n",
       "    </tr>\n",
       "    <tr>\n",
       "      <th>9</th>\n",
       "      <td>Tammy Beaumont</td>\n",
       "      <td>ENG</td>\n",
       "      <td>659</td>\n",
       "    </tr>\n",
       "  </tbody>\n",
       "</table>\n",
       "</div>"
      ],
      "text/plain": [
       "  Womens Batting Players Team Names Ratings\n",
       "0           Alyssa Healy        AUS     785\n",
       "1         Natalie Sciver        ENG     750\n",
       "2            Beth Mooney        AUS     748\n",
       "3        Laura Wolvaardt         SA     722\n",
       "4            Meg Lanning        AUS     710\n",
       "5         Rachael Haynes        AUS     701\n",
       "6            Mithali Raj        IND     686\n",
       "7      Amy Satterthwaite         NZ     681\n",
       "8        Smriti Mandhana        IND     669\n",
       "9         Tammy Beaumont        ENG     659"
      ]
     },
     "execution_count": 125,
     "metadata": {},
     "output_type": "execute_result"
    }
   ],
   "source": [
    "#making dataFrame\n",
    "\n",
    "top10womensodibatting = pd.DataFrame({'Womens Batting Players':namesi,'Team Names':teamsi,'Ratings':ratingsi})\n",
    "top10womensodibatting   # Top 10 women’s ODI Batting players along with the records of their team and ratings."
   ]
  },
  {
   "cell_type": "code",
   "execution_count": null,
   "id": "c8acd52b",
   "metadata": {},
   "outputs": [],
   "source": []
  },
  {
   "cell_type": "markdown",
   "id": "66e3682c",
   "metadata": {},
   "source": [
    "# Question Number 6 (c) Top 10 women’s ODI all-rounder along with the records of their team and ratings."
   ]
  },
  {
   "cell_type": "code",
   "execution_count": 126,
   "id": "143fa57d",
   "metadata": {},
   "outputs": [],
   "source": [
    "# importing required libraries\n",
    "from bs4 import BeautifulSoup\n",
    "import requests\n",
    "import pandas as pd\n",
    "import numpy as np"
   ]
  },
  {
   "cell_type": "code",
   "execution_count": null,
   "id": "98063fdd",
   "metadata": {},
   "outputs": [],
   "source": [
    "# getting url\n",
    "womenodiallrounder = requests.get(\"https://www.icc-cricket.com/rankings/womens/player-rankings/odi\")\n",
    "womenodiallrounder"
   ]
  },
  {
   "cell_type": "code",
   "execution_count": null,
   "id": "b2fffe7f",
   "metadata": {},
   "outputs": [],
   "source": [
    "# Scraping webpage\n",
    "\n",
    "soup10 = BeautifulSoup(womenodiallrounder.content)\n",
    "soup10"
   ]
  },
  {
   "cell_type": "code",
   "execution_count": null,
   "id": "3d6d28c0",
   "metadata": {},
   "outputs": [],
   "source": [
    "table10 = soup10.find_all('div',class_=\"rankings-block__container\")\n",
    "table10                                     #spliting it into only necessary elements list"
   ]
  },
  {
   "cell_type": "code",
   "execution_count": null,
   "id": "6b5f09ac",
   "metadata": {},
   "outputs": [],
   "source": [
    "namesj = [table10[-1].find('div',class_=\"rankings-block__banner--name\").text]\n",
    "\n",
    "namesj   # 1st womens allrounder names seperately since classes of the rest are different"
   ]
  },
  {
   "cell_type": "code",
   "execution_count": null,
   "id": "8f46113e",
   "metadata": {},
   "outputs": [],
   "source": [
    "teamsj = [table10[-1].find('div',class_=\"rankings-block__banner--nationality\").text.replace('\\n','').replace('                            393','')]\n",
    "\n",
    "teamsj   # 1st womens names seperately since classes of the rest are different"
   ]
  },
  {
   "cell_type": "code",
   "execution_count": null,
   "id": "8b68d72d",
   "metadata": {},
   "outputs": [],
   "source": [
    "ratingj = [table10[-1].find('div',class_=\"rankings-block__banner--rating\").text]\n",
    "\n",
    "ratingj   # 1st womens names seperately since classes of the rest are different"
   ]
  },
  {
   "cell_type": "code",
   "execution_count": null,
   "id": "9df78577",
   "metadata": {},
   "outputs": [],
   "source": [
    "namesk = []\n",
    "\n",
    "for i in table10[-1].find_all('td',class_=\"table-body__cell name\"):\n",
    "    namesk.append(i.text.replace('\\n',''))\n",
    "    \n",
    "namesk"
   ]
  },
  {
   "cell_type": "code",
   "execution_count": null,
   "id": "32c548e0",
   "metadata": {},
   "outputs": [],
   "source": [
    "teamsk = []\n",
    "\n",
    "for i in table10[-1].find_all('span',class_=\"table-body__logo-text\"):\n",
    "    teamsk.append(i.text.replace('\\n',''))\n",
    "    \n",
    "teamsk"
   ]
  },
  {
   "cell_type": "code",
   "execution_count": null,
   "id": "b50ed392",
   "metadata": {},
   "outputs": [],
   "source": [
    "ratingk = []\n",
    "\n",
    "for i in table10[-1].find_all('td',class_=\"table-body__cell u-text-right rating\"):\n",
    "    ratingk.append(i.text)\n",
    "    \n",
    "ratingk"
   ]
  },
  {
   "cell_type": "code",
   "execution_count": null,
   "id": "bccc6543",
   "metadata": {},
   "outputs": [],
   "source": [
    "namesl = namesj + namesk\n",
    "namesl       # top 10 names"
   ]
  },
  {
   "cell_type": "code",
   "execution_count": null,
   "id": "3fb7868f",
   "metadata": {},
   "outputs": [],
   "source": [
    "teamsl = teamsj + teamsk\n",
    "teamsl       # top 10 teams"
   ]
  },
  {
   "cell_type": "code",
   "execution_count": null,
   "id": "31ddc093",
   "metadata": {},
   "outputs": [],
   "source": [
    "ratingl = ratingj + ratingk\n",
    "ratingl       # top 10 rating"
   ]
  },
  {
   "cell_type": "code",
   "execution_count": null,
   "id": "76e76c0a",
   "metadata": {},
   "outputs": [],
   "source": [
    "print(len(namesl),len(teamsl),len(ratingl))"
   ]
  },
  {
   "cell_type": "code",
   "execution_count": 140,
   "id": "7a926672",
   "metadata": {},
   "outputs": [
    {
     "data": {
      "text/html": [
       "<div>\n",
       "<style scoped>\n",
       "    .dataframe tbody tr th:only-of-type {\n",
       "        vertical-align: middle;\n",
       "    }\n",
       "\n",
       "    .dataframe tbody tr th {\n",
       "        vertical-align: top;\n",
       "    }\n",
       "\n",
       "    .dataframe thead th {\n",
       "        text-align: right;\n",
       "    }\n",
       "</style>\n",
       "<table border=\"1\" class=\"dataframe\">\n",
       "  <thead>\n",
       "    <tr style=\"text-align: right;\">\n",
       "      <th></th>\n",
       "      <th>Womens All Rounder Players</th>\n",
       "      <th>Team Names</th>\n",
       "      <th>Ratings</th>\n",
       "    </tr>\n",
       "  </thead>\n",
       "  <tbody>\n",
       "    <tr>\n",
       "      <th>0</th>\n",
       "      <td>Natalie Sciver</td>\n",
       "      <td>ENG</td>\n",
       "      <td>393</td>\n",
       "    </tr>\n",
       "    <tr>\n",
       "      <th>1</th>\n",
       "      <td>Ellyse Perry</td>\n",
       "      <td>AUS</td>\n",
       "      <td>374</td>\n",
       "    </tr>\n",
       "    <tr>\n",
       "      <th>2</th>\n",
       "      <td>Marizanne Kapp</td>\n",
       "      <td>SA</td>\n",
       "      <td>359</td>\n",
       "    </tr>\n",
       "    <tr>\n",
       "      <th>3</th>\n",
       "      <td>Hayley Matthews</td>\n",
       "      <td>WI</td>\n",
       "      <td>338</td>\n",
       "    </tr>\n",
       "    <tr>\n",
       "      <th>4</th>\n",
       "      <td>Amelia Kerr</td>\n",
       "      <td>NZ</td>\n",
       "      <td>335</td>\n",
       "    </tr>\n",
       "    <tr>\n",
       "      <th>5</th>\n",
       "      <td>Ashleigh Gardner</td>\n",
       "      <td>AUS</td>\n",
       "      <td>269</td>\n",
       "    </tr>\n",
       "    <tr>\n",
       "      <th>6</th>\n",
       "      <td>Deepti Sharma</td>\n",
       "      <td>IND</td>\n",
       "      <td>249</td>\n",
       "    </tr>\n",
       "    <tr>\n",
       "      <th>7</th>\n",
       "      <td>Jess Jonassen</td>\n",
       "      <td>AUS</td>\n",
       "      <td>245</td>\n",
       "    </tr>\n",
       "    <tr>\n",
       "      <th>8</th>\n",
       "      <td>Katherine Brunt</td>\n",
       "      <td>ENG</td>\n",
       "      <td>221</td>\n",
       "    </tr>\n",
       "    <tr>\n",
       "      <th>9</th>\n",
       "      <td>Jhulan Goswami</td>\n",
       "      <td>IND</td>\n",
       "      <td>217</td>\n",
       "    </tr>\n",
       "  </tbody>\n",
       "</table>\n",
       "</div>"
      ],
      "text/plain": [
       "  Womens All Rounder Players Team Names Ratings\n",
       "0             Natalie Sciver        ENG     393\n",
       "1               Ellyse Perry        AUS     374\n",
       "2             Marizanne Kapp         SA     359\n",
       "3            Hayley Matthews         WI     338\n",
       "4                Amelia Kerr         NZ     335\n",
       "5           Ashleigh Gardner        AUS     269\n",
       "6              Deepti Sharma        IND     249\n",
       "7              Jess Jonassen        AUS     245\n",
       "8            Katherine Brunt        ENG     221\n",
       "9             Jhulan Goswami        IND     217"
      ]
     },
     "execution_count": 140,
     "metadata": {},
     "output_type": "execute_result"
    }
   ],
   "source": [
    "#making dataFrame\n",
    "\n",
    "top10womensodiallrounder = pd.DataFrame({'Womens All Rounder Players':namesl,'Team Names':teamsl,'Ratings':ratingl})\n",
    "top10womensodiallrounder   # Top 10 women’s ODI Batting players along with the records of their team and ratings."
   ]
  },
  {
   "cell_type": "code",
   "execution_count": null,
   "id": "896bf2f8",
   "metadata": {},
   "outputs": [],
   "source": []
  },
  {
   "cell_type": "markdown",
   "id": "a586f3c3",
   "metadata": {},
   "source": [
    "# Question 7 Answer --> heading, date, content and the link for the youtube video from the post from coreyMS"
   ]
  },
  {
   "cell_type": "code",
   "execution_count": 7,
   "id": "e9f94a84",
   "metadata": {},
   "outputs": [],
   "source": [
    "# importing required libraries\n",
    "from bs4 import BeautifulSoup\n",
    "import requests\n",
    "import pandas as pd\n",
    "import numpy as np"
   ]
  },
  {
   "cell_type": "code",
   "execution_count": null,
   "id": "4edcfbd4",
   "metadata": {},
   "outputs": [],
   "source": [
    "# getting url\n",
    "coreyms = requests.get(\"https://coreyms.com/\")\n",
    "coreyms"
   ]
  },
  {
   "cell_type": "code",
   "execution_count": null,
   "id": "396f2583",
   "metadata": {},
   "outputs": [],
   "source": [
    "# Scraping webpage\n",
    "\n",
    "soup11 = BeautifulSoup(coreyms.content)\n",
    "soup11"
   ]
  },
  {
   "cell_type": "code",
   "execution_count": null,
   "id": "f20558bd",
   "metadata": {},
   "outputs": [],
   "source": [
    "table11 = soup11.find_all('main',class_=\"content\")\n",
    "table11                                     #spliting it into only necessary elements list"
   ]
  },
  {
   "cell_type": "code",
   "execution_count": 11,
   "id": "509909ac",
   "metadata": {},
   "outputs": [
    {
     "data": {
      "text/plain": [
       "['Python Tutorial: Zip Files – Creating and Extracting Zip Archives',\n",
       " 'Python Data Science Tutorial: Analyzing the 2019 Stack Overflow Developer Survey',\n",
       " 'Python Multiprocessing Tutorial: Run Code in Parallel Using the Multiprocessing Module',\n",
       " 'Python Threading Tutorial: Run Code Concurrently Using the Threading Module',\n",
       " 'Update (2019-09-03)',\n",
       " 'Python Quick Tip: The Difference Between “==” and “is” (Equality vs Identity)',\n",
       " 'Python Tutorial: Calling External Commands Using the Subprocess Module',\n",
       " 'Visual Studio Code (Windows) – Setting up a Python Development Environment and Complete Overview',\n",
       " 'Visual Studio Code (Mac) – Setting up a Python Development Environment and Complete Overview',\n",
       " 'Clarifying the Issues with Mutable Default Arguments']"
      ]
     },
     "execution_count": 11,
     "metadata": {},
     "output_type": "execute_result"
    }
   ],
   "source": [
    "heading = []\n",
    "\n",
    "for i in table11[0].find_all('a',class_=\"entry-title-link\"):\n",
    "    heading.append(i.text)\n",
    "    \n",
    "heading          # the headings from the post"
   ]
  },
  {
   "cell_type": "code",
   "execution_count": 6,
   "id": "663e9b8b",
   "metadata": {},
   "outputs": [
    {
     "data": {
      "text/plain": [
       "['November 19, 2019',\n",
       " 'October 17, 2019',\n",
       " 'September 21, 2019',\n",
       " 'September 12, 2019',\n",
       " 'September 3, 2019',\n",
       " 'August 6, 2019',\n",
       " 'July 24, 2019',\n",
       " 'May 1, 2019',\n",
       " 'May 1, 2019',\n",
       " 'April 24, 2019']"
      ]
     },
     "execution_count": 6,
     "metadata": {},
     "output_type": "execute_result"
    }
   ],
   "source": [
    "date = []\n",
    "\n",
    "for i in table11[0].find_all('time',class_=\"entry-time\"):\n",
    "    date.append(i.text)\n",
    "    \n",
    "date         # the dates from the post"
   ]
  },
  {
   "cell_type": "code",
   "execution_count": 147,
   "id": "5e3f244b",
   "metadata": {},
   "outputs": [
    {
     "data": {
      "text/plain": [
       "['In this video, we will be learning how to create and extract zip archives. We will start by using the zipfile module, and then we will see how to do this using the shutil module. We will learn how to do this with single files and directories, as well as learning how to use gzip as well. Let’s get started…',\n",
       " 'In this Python Programming video, we will be learning how to download and analyze real-world data from the 2019 Stack Overflow Developer Survey. This is terrific practice for anyone getting into the data science field. We will learn different ways to analyze this data and also some best practices. Let’s get started…',\n",
       " 'In this Python Programming video, we will be learning how to run code in parallel using the multiprocessing module. We will also look at how to process multiple high-resolution images at the same time using a ProcessPoolExecutor from the concurrent.futures module. Let’s get started…',\n",
       " 'In this Python Programming video, we will be learning how to run threads concurrently using the threading module. We will also look at how to download multiple high-resolution images online using a ThreadPoolExecutor from the concurrent.futures module. Let’s get started…',\n",
       " 'Hey everyone. I wanted to give you an update on my videos. I will be releasing videos on threading and multiprocessing within the next week. Thanks so much for your patience. I currently have a temporary recording studio setup at my Airbnb that will allow me to record and edit the threading/multiprocessing videos. I am going to be moving into my new house in 10 days and once I have my recording studio setup then you can expect much faster video releases. I really appreciate how patient everyone has been while I go through this move, especially those of you who are contributing monthly through YouTube ',\n",
       " 'In this Python Programming Tutorial, we will be learning the difference between using “==” and the “is” keyword when doing comparisons. The difference between these is that “==” checks to see if values are equal, and the “is” keyword checks their identity, which means it’s going to check if the values are identical in terms of being the same object in memory. We’ll learn more in the video. Let’s get started…',\n",
       " 'In this Python Programming Tutorial, we will be learning how to run external commands using the subprocess module from the standard library. We will learn how to run commands, capture the output, handle errors, and also how to pipe output into other commands. Let’s get started…',\n",
       " 'In this Python Programming Tutorial, we will be learning how to set up a Python development environment in VSCode on Windows. VSCode is a very nice free editor for writing Python applications and many developers are now switching over to this editor. In this video, we will learn how to install VSCode, get the Python extension installed, how to change Python interpreters, create virtual environments, format/lint our code, how to use Git within VSCode, how to debug our programs, how unit testing works, and more. We have a lot to cover, so let’s go ahead and get started…VSCode on MacOS – https://youtu.be/06I63_p-2A4Timestamps for topics in this tutorial: Installation – 1:13 Python Extension – 5:48 Switching Interpreters – 10:04 Changing Color Themes – 12:35 VSCode Settings – 16:16 Set Default Python – 21:33 Using Virtual Environments – 25:10 IntelliSense – 29:45 Code Formatting – 32:13 Code Linting – 37:06 Code Runner Extension – 39:42 Git Integration – 47:44 Use Different Terminal – 51:07 Debugging – 58:45 Unit Testing – 1:03:25 Zen Mode – 1:09:55',\n",
       " 'In this Python Programming Tutorial, we will be learning how to set up a Python development environment in VSCode on MacOS. VSCode is a very nice free editor for writing Python applications and many developers are now switching over to this editor. In this video, we will learn how to install VSCode, get the Python extension installed, how to change Python interpreters, create virtual environments, format/lint our code, how to use Git within VSCode, how to debug our programs, how unit testing works, and more. We have a lot to cover, so let’s go ahead and get started…VSCode on Windows – https://youtu.be/-nh9rCzPJ20Timestamps for topics in this tutorial: Installation – 1:11 Python Extension – 6:21 Switching Interpreters – 10:16 Changing Color Themes – 13:08 VSCode Settings – 17:12 Set Default Python – 22:24 Using Virtual Environments – 25:52 IntelliSense – 30:28 Code Formatting – 33:08 Code Linting – 38:01 Code Runner Extension – 40:45 Git Integration – 49:05 Debugging – 58:15 Unit Testing – 1:02:38 Zen Mode – 1:10:42 ',\n",
       " 'In this Python Programming Tutorial, we will be clarifying the issues with mutable default arguments. We discussed this in my last video titled “5 Common Python Mistakes and How to Fix Them”, but I received many comments from people who were still confused. So we will be doing a deeper dive to explain exactly what is going on here. Let’s get started…']"
      ]
     },
     "execution_count": 147,
     "metadata": {},
     "output_type": "execute_result"
    }
   ],
   "source": [
    "content = []\n",
    "\n",
    "for i in table11[0].find_all('div',class_=\"entry-content\"):\n",
    "    content.append(i.text.replace('\\n',''))\n",
    "    \n",
    "content        # the contents from the post"
   ]
  },
  {
   "cell_type": "code",
   "execution_count": 148,
   "id": "963524c1",
   "metadata": {},
   "outputs": [
    {
     "data": {
      "text/plain": [
       "[<iframe allowfullscreen=\"true\" class=\"youtube-player\" height=\"360\" sandbox=\"allow-scripts allow-same-origin allow-popups allow-presentation\" src=\"https://www.youtube.com/embed/z0gguhEmWiY?version=3&amp;rel=1&amp;showsearch=0&amp;showinfo=1&amp;iv_load_policy=1&amp;fs=1&amp;hl=en-US&amp;autohide=2&amp;wmode=transparent\" style=\"border:0;\" width=\"640\"></iframe>,\n",
       " <iframe allowfullscreen=\"true\" class=\"youtube-player\" height=\"360\" sandbox=\"allow-scripts allow-same-origin allow-popups allow-presentation\" src=\"https://www.youtube.com/embed/_P7X8tMplsw?version=3&amp;rel=1&amp;showsearch=0&amp;showinfo=1&amp;iv_load_policy=1&amp;fs=1&amp;hl=en-US&amp;autohide=2&amp;wmode=transparent\" style=\"border:0;\" width=\"640\"></iframe>,\n",
       " <iframe allowfullscreen=\"true\" class=\"youtube-player\" height=\"360\" sandbox=\"allow-scripts allow-same-origin allow-popups allow-presentation\" src=\"https://www.youtube.com/embed/fKl2JW_qrso?version=3&amp;rel=1&amp;showsearch=0&amp;showinfo=1&amp;iv_load_policy=1&amp;fs=1&amp;hl=en-US&amp;autohide=2&amp;wmode=transparent\" style=\"border:0;\" width=\"640\"></iframe>,\n",
       " <iframe allowfullscreen=\"true\" class=\"youtube-player\" height=\"360\" sandbox=\"allow-scripts allow-same-origin allow-popups allow-presentation\" src=\"https://www.youtube.com/embed/IEEhzQoKtQU?version=3&amp;rel=1&amp;showsearch=0&amp;showinfo=1&amp;iv_load_policy=1&amp;fs=1&amp;hl=en-US&amp;autohide=2&amp;wmode=transparent\" style=\"border:0;\" width=\"640\"></iframe>,\n",
       " <iframe allowfullscreen=\"true\" class=\"youtube-player\" height=\"360\" sandbox=\"allow-scripts allow-same-origin allow-popups allow-presentation\" src=\"https://www.youtube.com/embed/mO_dS3rXDIs?version=3&amp;rel=1&amp;showsearch=0&amp;showinfo=1&amp;iv_load_policy=1&amp;fs=1&amp;hl=en-US&amp;autohide=2&amp;wmode=transparent\" style=\"border:0;\" width=\"640\"></iframe>,\n",
       " <iframe allowfullscreen=\"true\" class=\"youtube-player\" height=\"360\" sandbox=\"allow-scripts allow-same-origin allow-popups allow-presentation\" src=\"https://www.youtube.com/embed/2Fp1N6dof0Y?version=3&amp;rel=1&amp;showsearch=0&amp;showinfo=1&amp;iv_load_policy=1&amp;fs=1&amp;hl=en-US&amp;autohide=2&amp;wmode=transparent\" style=\"border:0;\" width=\"640\"></iframe>,\n",
       " <iframe allowfullscreen=\"true\" class=\"youtube-player\" height=\"360\" sandbox=\"allow-scripts allow-same-origin allow-popups allow-presentation\" src=\"https://www.youtube.com/embed/-nh9rCzPJ20?version=3&amp;rel=1&amp;showsearch=0&amp;showinfo=1&amp;iv_load_policy=1&amp;fs=1&amp;hl=en-US&amp;autohide=2&amp;wmode=transparent\" style=\"border:0;\" width=\"640\"></iframe>,\n",
       " <iframe allowfullscreen=\"true\" class=\"youtube-player\" height=\"360\" sandbox=\"allow-scripts allow-same-origin allow-popups allow-presentation\" src=\"https://www.youtube.com/embed/06I63_p-2A4?version=3&amp;rel=1&amp;showsearch=0&amp;showinfo=1&amp;iv_load_policy=1&amp;fs=1&amp;hl=en-US&amp;autohide=2&amp;wmode=transparent\" style=\"border:0;\" width=\"640\"></iframe>,\n",
       " <iframe allowfullscreen=\"true\" class=\"youtube-player\" height=\"360\" sandbox=\"allow-scripts allow-same-origin allow-popups allow-presentation\" src=\"https://www.youtube.com/embed/_JGmemuINww?version=3&amp;rel=1&amp;showsearch=0&amp;showinfo=1&amp;iv_load_policy=1&amp;fs=1&amp;hl=en-US&amp;autohide=2&amp;wmode=transparent\" style=\"border:0;\" width=\"640\"></iframe>]"
      ]
     },
     "execution_count": 148,
     "metadata": {},
     "output_type": "execute_result"
    }
   ],
   "source": [
    "code = []\n",
    "\n",
    "for i in table11[0].find_all('iframe',class_=\"youtube-player\"):\n",
    "    code.append(i)\n",
    "    \n",
    "code       # codes for the video from the link for the youtube video from the post"
   ]
  },
  {
   "cell_type": "code",
   "execution_count": 149,
   "id": "df8063bd",
   "metadata": {},
   "outputs": [
    {
     "data": {
      "text/plain": [
       "['https://www.youtube.com/embed/z0gguhEmWiY?version=3&rel=1&showsearch=0&showinfo=1&iv_load_policy=1&fs=1&hl=en-US&autohide=2&wmode=transparent',\n",
       " 'https://www.youtube.com/embed/_P7X8tMplsw?version=3&rel=1&showsearch=0&showinfo=1&iv_load_policy=1&fs=1&hl=en-US&autohide=2&wmode=transparent',\n",
       " 'https://www.youtube.com/embed/fKl2JW_qrso?version=3&rel=1&showsearch=0&showinfo=1&iv_load_policy=1&fs=1&hl=en-US&autohide=2&wmode=transparent',\n",
       " 'https://www.youtube.com/embed/IEEhzQoKtQU?version=3&rel=1&showsearch=0&showinfo=1&iv_load_policy=1&fs=1&hl=en-US&autohide=2&wmode=transparent',\n",
       " 'https://www.youtube.com/embed/mO_dS3rXDIs?version=3&rel=1&showsearch=0&showinfo=1&iv_load_policy=1&fs=1&hl=en-US&autohide=2&wmode=transparent',\n",
       " 'https://www.youtube.com/embed/2Fp1N6dof0Y?version=3&rel=1&showsearch=0&showinfo=1&iv_load_policy=1&fs=1&hl=en-US&autohide=2&wmode=transparent',\n",
       " 'https://www.youtube.com/embed/-nh9rCzPJ20?version=3&rel=1&showsearch=0&showinfo=1&iv_load_policy=1&fs=1&hl=en-US&autohide=2&wmode=transparent',\n",
       " 'https://www.youtube.com/embed/06I63_p-2A4?version=3&rel=1&showsearch=0&showinfo=1&iv_load_policy=1&fs=1&hl=en-US&autohide=2&wmode=transparent',\n",
       " 'https://www.youtube.com/embed/_JGmemuINww?version=3&rel=1&showsearch=0&showinfo=1&iv_load_policy=1&fs=1&hl=en-US&autohide=2&wmode=transparent']"
      ]
     },
     "execution_count": 149,
     "metadata": {},
     "output_type": "execute_result"
    }
   ],
   "source": [
    "url = []\n",
    "\n",
    "for i in table11[0].find_all('iframe',class_=\"youtube-player\"):\n",
    "    url.append(i['src'])\n",
    "    \n",
    "url       # the url from the above code for the video from the post"
   ]
  },
  {
   "cell_type": "markdown",
   "id": "29654afc",
   "metadata": {},
   "source": [
    "# Question 8 Answer ---> scraping house details such as house title, location, area, EMI and price from https://www.nobroker.in/ .Enter three localities which are Indira Nagar, Jayanagar, Rajaji Nagar."
   ]
  },
  {
   "cell_type": "code",
   "execution_count": 150,
   "id": "17156da9",
   "metadata": {},
   "outputs": [],
   "source": [
    "# importing required libraries\n",
    "from bs4 import BeautifulSoup\n",
    "import requests\n",
    "import pandas as pd\n",
    "import numpy as np"
   ]
  },
  {
   "cell_type": "code",
   "execution_count": null,
   "id": "d7f15928",
   "metadata": {},
   "outputs": [],
   "source": [
    "# getting url\n",
    "nobroker = requests.get(\"https://www.nobroker.in/property/sale/bangalore/multiple?searchParam=W3sibGF0IjoxMi45NzgzNjkyLCJsb24iOjc3LjY0MDgzNTYsInBsYWNlSWQiOiJDaElKa1FOM0dLUVdyanNSTmhCUUpyaEdEN1UiLCJwbGFjZU5hbWUiOiJJbmRpcmFuYWdhciJ9LHsibGF0IjoxMi45MzA3NzM1LCJsb24iOjc3LjU4MzgzMDIsInBsYWNlSWQiOiJDaElKMmRkbFo1Z1ZyanNSaDFCT0FhZi1vcnMiLCJwbGFjZU5hbWUiOiJKYXlhbmFnYXIifSx7ImxhdCI6MTIuOTk4MTczMiwibG9uIjo3Ny41NTMwNDQ1OTk5OTk5OSwicGxhY2VJZCI6IkNoSUp4Zlc0RFBNOXJqc1JLc05URy01cF9RUSIsInBsYWNlTmFtZSI6IlJhamFqaW5hZ2FyIn1d&radius=2.0&city=bangalore&locality=Indiranagar,&locality=Jayanagar,&locality=Rajajinagar\")\n",
    "nobroker"
   ]
  },
  {
   "cell_type": "code",
   "execution_count": null,
   "id": "b5f69bd4",
   "metadata": {},
   "outputs": [],
   "source": [
    "# Scraping webpage\n",
    "soup12 = BeautifulSoup(nobroker.content)\n",
    "soup12"
   ]
  },
  {
   "cell_type": "code",
   "execution_count": null,
   "id": "8abbb350",
   "metadata": {},
   "outputs": [],
   "source": [
    "table12 = soup12.find_all('div',class_=\"infinite-scroll-component__outerdiv\")\n",
    "table12                                     #spliting it into only necessary elements list"
   ]
  },
  {
   "cell_type": "code",
   "execution_count": null,
   "id": "f04198ba",
   "metadata": {},
   "outputs": [],
   "source": [
    "housetitle = []\n",
    "\n",
    "for i in table12[0].find_all('span',class_=\"overflow-hidden overflow-ellipsis whitespace-nowrap max-w-80pe po:max-w-full\"):\n",
    "    housetitle.append(i.text)\n",
    "    \n",
    "housetitle          # the housetitles"
   ]
  },
  {
   "cell_type": "code",
   "execution_count": null,
   "id": "9702d284",
   "metadata": {},
   "outputs": [],
   "source": [
    "location = []\n",
    "\n",
    "for i in table12[0].find_all('div',class_=\"mt-0.5p overflow-hidden overflow-ellipsis whitespace-nowrap max-w-70 text-gray-light leading-4 po:mb-0 po:max-w-95\"):\n",
    "    location.append(i.text)\n",
    "    \n",
    "location         # the locations"
   ]
  },
  {
   "cell_type": "code",
   "execution_count": null,
   "id": "47a2b50d",
   "metadata": {},
   "outputs": [],
   "source": [
    "mix = []\n",
    "\n",
    "for i in table12[0].find_all('div',class_=\"font-semi-bold heading-6\"):\n",
    "    mix.append(i.text)\n",
    "    \n",
    "mix        # the built up sq ft area, EMI and price together since tag 'div' and class_=\"flex\" were giving too many irrelevant elements which would be hard to filter"
   ]
  },
  {
   "cell_type": "code",
   "execution_count": null,
   "id": "6a21e0a7",
   "metadata": {},
   "outputs": [],
   "source": [
    "area = mix[0::3]\n",
    "area    # the built up sq ft area"
   ]
  },
  {
   "cell_type": "code",
   "execution_count": null,
   "id": "a1886cee",
   "metadata": {},
   "outputs": [],
   "source": [
    "emi = mix[1::3]\n",
    "emi    # the estimated emi per month"
   ]
  },
  {
   "cell_type": "code",
   "execution_count": null,
   "id": "3ff07251",
   "metadata": {},
   "outputs": [],
   "source": [
    "price = mix[2::3]\n",
    "price   # the total price"
   ]
  },
  {
   "cell_type": "code",
   "execution_count": null,
   "id": "bcd39e4b",
   "metadata": {},
   "outputs": [],
   "source": [
    "print(len(housetitle),len(location),len(area),len(emi),len(price))"
   ]
  },
  {
   "cell_type": "code",
   "execution_count": 161,
   "id": "07a78b18",
   "metadata": {},
   "outputs": [
    {
     "data": {
      "text/html": [
       "<div>\n",
       "<style scoped>\n",
       "    .dataframe tbody tr th:only-of-type {\n",
       "        vertical-align: middle;\n",
       "    }\n",
       "\n",
       "    .dataframe tbody tr th {\n",
       "        vertical-align: top;\n",
       "    }\n",
       "\n",
       "    .dataframe thead th {\n",
       "        text-align: right;\n",
       "    }\n",
       "</style>\n",
       "<table border=\"1\" class=\"dataframe\">\n",
       "  <thead>\n",
       "    <tr style=\"text-align: right;\">\n",
       "      <th></th>\n",
       "      <th>House Title</th>\n",
       "      <th>Location</th>\n",
       "      <th>Sq Ft Area</th>\n",
       "      <th>EMI per month</th>\n",
       "      <th>Total Price</th>\n",
       "    </tr>\n",
       "  </thead>\n",
       "  <tbody>\n",
       "    <tr>\n",
       "      <th>0</th>\n",
       "      <td>4+ BHK In Independent House  For Sale  In Raja...</td>\n",
       "      <td>Independent House, 5th Block, near National Pu...</td>\n",
       "      <td>3,000 sqft</td>\n",
       "      <td>₹1.86 Lacs/Month</td>\n",
       "      <td>₹3.25 Crores</td>\n",
       "    </tr>\n",
       "    <tr>\n",
       "      <th>1</th>\n",
       "      <td>4 BHK In Independent House  For Sale  In Jayan...</td>\n",
       "      <td>Independent House, Jayanagar SBI Branch 9th bl...</td>\n",
       "      <td>2,500 sqft</td>\n",
       "      <td>₹1.55 Lacs/Month</td>\n",
       "      <td>₹2.7 Crores</td>\n",
       "    </tr>\n",
       "    <tr>\n",
       "      <th>2</th>\n",
       "      <td>3 BHK Flat  For Sale  In Shree Rameshwara Nila...</td>\n",
       "      <td>manjunath road near The illusion Cafe</td>\n",
       "      <td>1,200 sqft</td>\n",
       "      <td>₹63,045/Month</td>\n",
       "      <td>₹1.1 Crores</td>\n",
       "    </tr>\n",
       "    <tr>\n",
       "      <th>3</th>\n",
       "      <td>4+ BHK In Independent House  For Sale  In Raja...</td>\n",
       "      <td>Independent House,  6th Cross road,9th main ro...</td>\n",
       "      <td>1,320 sqft</td>\n",
       "      <td>₹63,045/Month</td>\n",
       "      <td>₹1.1 Crores</td>\n",
       "    </tr>\n",
       "    <tr>\n",
       "      <th>4</th>\n",
       "      <td>3 BHK Apartment  For Sale  In Laa Royal Manor ...</td>\n",
       "      <td>Laa Royal Manor  11th Cross Rd, 8th cross, HAL...</td>\n",
       "      <td>2,110 sqft</td>\n",
       "      <td>₹1.58 Lacs/Month</td>\n",
       "      <td>₹2.75 Crores</td>\n",
       "    </tr>\n",
       "    <tr>\n",
       "      <th>5</th>\n",
       "      <td>2 BHK Flat  For Sale  In Pallava Terrace In Ja...</td>\n",
       "      <td>17, Pallava Terrace, North Main Road, 6th Bloc...</td>\n",
       "      <td>1,065 sqft</td>\n",
       "      <td>₹42,985/Month</td>\n",
       "      <td>₹75 Lacs</td>\n",
       "    </tr>\n",
       "    <tr>\n",
       "      <th>6</th>\n",
       "      <td>4+ BHK In Independent House  For Sale  In Raja...</td>\n",
       "      <td>Independent House, 6th C cross 3rd main rd nea...</td>\n",
       "      <td>2,200 sqft</td>\n",
       "      <td>₹77,374/Month</td>\n",
       "      <td>₹1.35 Crores</td>\n",
       "    </tr>\n",
       "    <tr>\n",
       "      <th>7</th>\n",
       "      <td>3 BHK Apartment  For Sale  In Admiralty Manor,...</td>\n",
       "      <td>Admiralty Manor, Indiranagar  Admiralty Manor,...</td>\n",
       "      <td>1,960 sqft</td>\n",
       "      <td>₹85,971/Month</td>\n",
       "      <td>₹1.5 Crores</td>\n",
       "    </tr>\n",
       "    <tr>\n",
       "      <th>8</th>\n",
       "      <td>2 BHK Apartment  For Sale  In Jains Prakriti I...</td>\n",
       "      <td>Jains Prakriti   Kanakapura Rd, 7th Block West...</td>\n",
       "      <td>1,298 sqft</td>\n",
       "      <td>₹1.15 Lacs/Month</td>\n",
       "      <td>₹2 Crores</td>\n",
       "    </tr>\n",
       "    <tr>\n",
       "      <th>9</th>\n",
       "      <td>3 BHK Flat  For Sale  In Benaka Apartments In ...</td>\n",
       "      <td>16th D main, HAL 2nd stage, Indiranagar ,  Ben...</td>\n",
       "      <td>1,331 sqft</td>\n",
       "      <td>₹48,717/Month</td>\n",
       "      <td>₹85 Lacs</td>\n",
       "    </tr>\n",
       "    <tr>\n",
       "      <th>10</th>\n",
       "      <td>4 BHK In Independent House  For Sale  In Indir...</td>\n",
       "      <td>Independent House, 2nd stage ,9th cross</td>\n",
       "      <td>2,550 sqft</td>\n",
       "      <td>₹1.69 Lacs/Month</td>\n",
       "      <td>₹2.95 Crores</td>\n",
       "    </tr>\n",
       "    <tr>\n",
       "      <th>11</th>\n",
       "      <td>2 BHK Apartment  For Sale  In Blueberry Apartm...</td>\n",
       "      <td>Blueberry Apartment  13th E Main Rd, Channakes...</td>\n",
       "      <td>1,074 sqft</td>\n",
       "      <td>₹87,691/Month</td>\n",
       "      <td>₹1.53 Crores</td>\n",
       "    </tr>\n",
       "    <tr>\n",
       "      <th>12</th>\n",
       "      <td>4+ BHK In Independent House  For Sale  In Laks...</td>\n",
       "      <td>Independent House, CMH Rd , Near B P Bakery</td>\n",
       "      <td>2,250 sqft</td>\n",
       "      <td>₹63,045/Month</td>\n",
       "      <td>₹1.1 Crores</td>\n",
       "    </tr>\n",
       "    <tr>\n",
       "      <th>13</th>\n",
       "      <td>2 BHK Apartment  For Sale  In Tarang Parkway A...</td>\n",
       "      <td>Tarang Parkway Apartment  2nd Main Rd, Shivana...</td>\n",
       "      <td>1,200 sqft</td>\n",
       "      <td>₹57,314/Month</td>\n",
       "      <td>₹1 Crore</td>\n",
       "    </tr>\n",
       "    <tr>\n",
       "      <th>14</th>\n",
       "      <td>3 BHK Apartment  For Sale  In Brigade Gateway ...</td>\n",
       "      <td>Brigade Gateway  Dr Rajkumar Road, Rajaji Naga...</td>\n",
       "      <td>1,640 sqft</td>\n",
       "      <td>₹1.5 Lacs/Month</td>\n",
       "      <td>₹2.62 Crores</td>\n",
       "    </tr>\n",
       "    <tr>\n",
       "      <th>15</th>\n",
       "      <td>2 BHK Flat  For Sale  In Jains Prakruti, Jayan...</td>\n",
       "      <td>Kanakapura Road, Jayanagar, Bangalore, Karnata...</td>\n",
       "      <td>1,301 sqft</td>\n",
       "      <td>₹85,971/Month</td>\n",
       "      <td>₹1.5 Crores</td>\n",
       "    </tr>\n",
       "    <tr>\n",
       "      <th>16</th>\n",
       "      <td>4+ BHK In Independent House  For Sale  In Raja...</td>\n",
       "      <td>Independent House, 6th Cross Rd, 2nd Block  ne...</td>\n",
       "      <td>2,240 sqft</td>\n",
       "      <td>₹83,679/Month</td>\n",
       "      <td>₹1.46 Crores</td>\n",
       "    </tr>\n",
       "    <tr>\n",
       "      <th>17</th>\n",
       "      <td>3 BHK Flat  For Sale  In Rajaji Nagar</td>\n",
       "      <td>Independent House, 242, 27th cross, 2nd Block,...</td>\n",
       "      <td>1,275 sqft</td>\n",
       "      <td>₹77,374/Month</td>\n",
       "      <td>₹1.35 Crores</td>\n",
       "    </tr>\n",
       "    <tr>\n",
       "      <th>18</th>\n",
       "      <td>3 BHK Apartment  For Sale  In Adarsh Court Apa...</td>\n",
       "      <td>Adarsh Court Apartment  Adarsh Court Apartment...</td>\n",
       "      <td>1,990 sqft</td>\n",
       "      <td>₹1.86 Lacs/Month</td>\n",
       "      <td>₹3.25 Crores</td>\n",
       "    </tr>\n",
       "    <tr>\n",
       "      <th>19</th>\n",
       "      <td>3 BHK Apartment  For Sale  In Parasmani Regenc...</td>\n",
       "      <td>Parasmani Regency  Parasmani Regency, 8th Cros...</td>\n",
       "      <td>1,940 sqft</td>\n",
       "      <td>₹1.43 Lacs/Month</td>\n",
       "      <td>₹2.5 Crores</td>\n",
       "    </tr>\n",
       "    <tr>\n",
       "      <th>20</th>\n",
       "      <td>2 BHK Flat  For Sale  In Kumar Ashraya Apartme...</td>\n",
       "      <td>Kumar Ashraya Apartments 194, 9th Cross Rd 2n...</td>\n",
       "      <td>900 sqft</td>\n",
       "      <td>₹37,827/Month</td>\n",
       "      <td>₹66 Lacs</td>\n",
       "    </tr>\n",
       "    <tr>\n",
       "      <th>21</th>\n",
       "      <td>3 BHK Apartment  For Sale  In Mayitri Enclave ...</td>\n",
       "      <td>Mayitri Enclave  Mayitri Enclave, 39th C, 5T B...</td>\n",
       "      <td>1,450 sqft</td>\n",
       "      <td>₹44,705/Month</td>\n",
       "      <td>₹78 Lacs</td>\n",
       "    </tr>\n",
       "    <tr>\n",
       "      <th>22</th>\n",
       "      <td>2 BHK Flat  For Sale  In Jayanagar Residency I...</td>\n",
       "      <td>Jayanagar Residency, K V Layout, LIC Colony, J...</td>\n",
       "      <td>1,200 sqft</td>\n",
       "      <td>₹57,314/Month</td>\n",
       "      <td>₹1 Crore</td>\n",
       "    </tr>\n",
       "    <tr>\n",
       "      <th>23</th>\n",
       "      <td>4 BHK Flat  For Sale  In Rrbc Piccassso In Jay...</td>\n",
       "      <td>Municipal No.152, 18th main road, beside Sai B...</td>\n",
       "      <td>4,859 sqft</td>\n",
       "      <td>₹3.91 Lacs/Month</td>\n",
       "      <td>₹6.83 Crores</td>\n",
       "    </tr>\n",
       "    <tr>\n",
       "      <th>24</th>\n",
       "      <td>4 BHK Flat  For Sale  In Phoenix  One Bangalor...</td>\n",
       "      <td>Dr Rajkumar Rd, opposite Sheraton Hotel, Rajaj...</td>\n",
       "      <td>2,901 sqft</td>\n",
       "      <td>₹2.72 Lacs/Month</td>\n",
       "      <td>₹4.75 Crores</td>\n",
       "    </tr>\n",
       "  </tbody>\n",
       "</table>\n",
       "</div>"
      ],
      "text/plain": [
       "                                          House Title  \\\n",
       "0   4+ BHK In Independent House  For Sale  In Raja...   \n",
       "1   4 BHK In Independent House  For Sale  In Jayan...   \n",
       "2   3 BHK Flat  For Sale  In Shree Rameshwara Nila...   \n",
       "3   4+ BHK In Independent House  For Sale  In Raja...   \n",
       "4   3 BHK Apartment  For Sale  In Laa Royal Manor ...   \n",
       "5   2 BHK Flat  For Sale  In Pallava Terrace In Ja...   \n",
       "6   4+ BHK In Independent House  For Sale  In Raja...   \n",
       "7   3 BHK Apartment  For Sale  In Admiralty Manor,...   \n",
       "8   2 BHK Apartment  For Sale  In Jains Prakriti I...   \n",
       "9   3 BHK Flat  For Sale  In Benaka Apartments In ...   \n",
       "10  4 BHK In Independent House  For Sale  In Indir...   \n",
       "11  2 BHK Apartment  For Sale  In Blueberry Apartm...   \n",
       "12  4+ BHK In Independent House  For Sale  In Laks...   \n",
       "13  2 BHK Apartment  For Sale  In Tarang Parkway A...   \n",
       "14  3 BHK Apartment  For Sale  In Brigade Gateway ...   \n",
       "15  2 BHK Flat  For Sale  In Jains Prakruti, Jayan...   \n",
       "16  4+ BHK In Independent House  For Sale  In Raja...   \n",
       "17              3 BHK Flat  For Sale  In Rajaji Nagar   \n",
       "18  3 BHK Apartment  For Sale  In Adarsh Court Apa...   \n",
       "19  3 BHK Apartment  For Sale  In Parasmani Regenc...   \n",
       "20  2 BHK Flat  For Sale  In Kumar Ashraya Apartme...   \n",
       "21  3 BHK Apartment  For Sale  In Mayitri Enclave ...   \n",
       "22  2 BHK Flat  For Sale  In Jayanagar Residency I...   \n",
       "23  4 BHK Flat  For Sale  In Rrbc Piccassso In Jay...   \n",
       "24  4 BHK Flat  For Sale  In Phoenix  One Bangalor...   \n",
       "\n",
       "                                             Location  Sq Ft Area  \\\n",
       "0   Independent House, 5th Block, near National Pu...  3,000 sqft   \n",
       "1   Independent House, Jayanagar SBI Branch 9th bl...  2,500 sqft   \n",
       "2               manjunath road near The illusion Cafe  1,200 sqft   \n",
       "3   Independent House,  6th Cross road,9th main ro...  1,320 sqft   \n",
       "4   Laa Royal Manor  11th Cross Rd, 8th cross, HAL...  2,110 sqft   \n",
       "5   17, Pallava Terrace, North Main Road, 6th Bloc...  1,065 sqft   \n",
       "6   Independent House, 6th C cross 3rd main rd nea...  2,200 sqft   \n",
       "7   Admiralty Manor, Indiranagar  Admiralty Manor,...  1,960 sqft   \n",
       "8   Jains Prakriti   Kanakapura Rd, 7th Block West...  1,298 sqft   \n",
       "9   16th D main, HAL 2nd stage, Indiranagar ,  Ben...  1,331 sqft   \n",
       "10            Independent House, 2nd stage ,9th cross  2,550 sqft   \n",
       "11  Blueberry Apartment  13th E Main Rd, Channakes...  1,074 sqft   \n",
       "12        Independent House, CMH Rd , Near B P Bakery  2,250 sqft   \n",
       "13  Tarang Parkway Apartment  2nd Main Rd, Shivana...  1,200 sqft   \n",
       "14  Brigade Gateway  Dr Rajkumar Road, Rajaji Naga...  1,640 sqft   \n",
       "15  Kanakapura Road, Jayanagar, Bangalore, Karnata...  1,301 sqft   \n",
       "16  Independent House, 6th Cross Rd, 2nd Block  ne...  2,240 sqft   \n",
       "17  Independent House, 242, 27th cross, 2nd Block,...  1,275 sqft   \n",
       "18  Adarsh Court Apartment  Adarsh Court Apartment...  1,990 sqft   \n",
       "19  Parasmani Regency  Parasmani Regency, 8th Cros...  1,940 sqft   \n",
       "20   Kumar Ashraya Apartments 194, 9th Cross Rd 2n...    900 sqft   \n",
       "21  Mayitri Enclave  Mayitri Enclave, 39th C, 5T B...  1,450 sqft   \n",
       "22  Jayanagar Residency, K V Layout, LIC Colony, J...  1,200 sqft   \n",
       "23  Municipal No.152, 18th main road, beside Sai B...  4,859 sqft   \n",
       "24  Dr Rajkumar Rd, opposite Sheraton Hotel, Rajaj...  2,901 sqft   \n",
       "\n",
       "       EMI per month   Total Price  \n",
       "0   ₹1.86 Lacs/Month  ₹3.25 Crores  \n",
       "1   ₹1.55 Lacs/Month   ₹2.7 Crores  \n",
       "2      ₹63,045/Month   ₹1.1 Crores  \n",
       "3      ₹63,045/Month   ₹1.1 Crores  \n",
       "4   ₹1.58 Lacs/Month  ₹2.75 Crores  \n",
       "5      ₹42,985/Month      ₹75 Lacs  \n",
       "6      ₹77,374/Month  ₹1.35 Crores  \n",
       "7      ₹85,971/Month   ₹1.5 Crores  \n",
       "8   ₹1.15 Lacs/Month     ₹2 Crores  \n",
       "9      ₹48,717/Month      ₹85 Lacs  \n",
       "10  ₹1.69 Lacs/Month  ₹2.95 Crores  \n",
       "11     ₹87,691/Month  ₹1.53 Crores  \n",
       "12     ₹63,045/Month   ₹1.1 Crores  \n",
       "13     ₹57,314/Month      ₹1 Crore  \n",
       "14   ₹1.5 Lacs/Month  ₹2.62 Crores  \n",
       "15     ₹85,971/Month   ₹1.5 Crores  \n",
       "16     ₹83,679/Month  ₹1.46 Crores  \n",
       "17     ₹77,374/Month  ₹1.35 Crores  \n",
       "18  ₹1.86 Lacs/Month  ₹3.25 Crores  \n",
       "19  ₹1.43 Lacs/Month   ₹2.5 Crores  \n",
       "20     ₹37,827/Month      ₹66 Lacs  \n",
       "21     ₹44,705/Month      ₹78 Lacs  \n",
       "22     ₹57,314/Month      ₹1 Crore  \n",
       "23  ₹3.91 Lacs/Month  ₹6.83 Crores  \n",
       "24  ₹2.72 Lacs/Month  ₹4.75 Crores  "
      ]
     },
     "execution_count": 161,
     "metadata": {},
     "output_type": "execute_result"
    }
   ],
   "source": [
    "#making data frame\n",
    "\n",
    "nobrokerdetails = pd.DataFrame({'House Title':housetitle,'Location':location,'Sq Ft Area':area,'EMI per month':emi,'Total Price':price})\n",
    "nobrokerdetails"
   ]
  },
  {
   "cell_type": "code",
   "execution_count": null,
   "id": "b4036443",
   "metadata": {},
   "outputs": [],
   "source": [
    "   "
   ]
  },
  {
   "cell_type": "markdown",
   "id": "eee65b22",
   "metadata": {},
   "source": [
    "# Question 9 Answer --> scraping mentioned details from dineout.co.in -- Restaurant name, Cuisine, Location, Ratings, Image URL"
   ]
  },
  {
   "cell_type": "code",
   "execution_count": 162,
   "id": "196e0773",
   "metadata": {},
   "outputs": [],
   "source": [
    "# importing required libraries\n",
    "from bs4 import BeautifulSoup\n",
    "import requests\n",
    "import pandas as pd\n",
    "import numpy as np"
   ]
  },
  {
   "cell_type": "code",
   "execution_count": null,
   "id": "38f58af0",
   "metadata": {},
   "outputs": [],
   "source": [
    "# getting url\n",
    "dineout = requests.get(\"https://www.dineout.co.in/delhi-restaurants/buffet-special\")\n",
    "dineout"
   ]
  },
  {
   "cell_type": "code",
   "execution_count": null,
   "id": "85c10c86",
   "metadata": {},
   "outputs": [],
   "source": [
    "soup13 = BeautifulSoup(dineout.content)\n",
    "soup13"
   ]
  },
  {
   "cell_type": "code",
   "execution_count": null,
   "id": "194321cf",
   "metadata": {},
   "outputs": [],
   "source": [
    "table13 = soup13.find_all('div',class_=\"content\")\n",
    "table13"
   ]
  },
  {
   "cell_type": "code",
   "execution_count": null,
   "id": "9e5319df",
   "metadata": {},
   "outputs": [],
   "source": [
    "resturantname = []\n",
    "\n",
    "for i in table13[0].find_all('a',class_=\"restnt-name ellipsis\"):\n",
    "    resturantname.append(i.text)\n",
    "\n",
    "resturantname"
   ]
  },
  {
   "cell_type": "code",
   "execution_count": null,
   "id": "b93a15aa",
   "metadata": {},
   "outputs": [],
   "source": [
    "cuisine = []\n",
    "\n",
    "for i in table13[0].find_all('span',class_=\"double-line-ellipsis\"):\n",
    "    cuisine.append(i.text)\n",
    "    \n",
    "cuisine"
   ]
  },
  {
   "cell_type": "code",
   "execution_count": null,
   "id": "da85710b",
   "metadata": {},
   "outputs": [],
   "source": [
    "location = []\n",
    "\n",
    "for i in table13[0].find_all('div',class_='restnt-loc ellipsis'):\n",
    "    location.append(i.text)\n",
    "    \n",
    "location"
   ]
  },
  {
   "cell_type": "code",
   "execution_count": null,
   "id": "338c971e",
   "metadata": {},
   "outputs": [],
   "source": [
    "ratingsm = []\n",
    "\n",
    "for i in table13[0].find_all('div',class_=\"restnt-rating rating-4\"):\n",
    "    ratingsm.append(i.text)\n",
    "    \n",
    "ratingsm"
   ]
  },
  {
   "cell_type": "code",
   "execution_count": null,
   "id": "40c47cc1",
   "metadata": {},
   "outputs": [],
   "source": [
    "imgurl = []\n",
    "\n",
    "for i in table13[0].find_all('img',class_=\"no-img\"):\n",
    "    imgurl.append(i['data-src'])\n",
    "    \n",
    "imgurl"
   ]
  },
  {
   "cell_type": "code",
   "execution_count": null,
   "id": "adcd2e63",
   "metadata": {},
   "outputs": [],
   "source": [
    "# printing length\n",
    "\n",
    "print(len(resturantname),len(cuisine),len(location),len(ratingsm),len(imgurl))"
   ]
  },
  {
   "cell_type": "code",
   "execution_count": 172,
   "id": "e0491b96",
   "metadata": {},
   "outputs": [
    {
     "data": {
      "text/html": [
       "<div>\n",
       "<style scoped>\n",
       "    .dataframe tbody tr th:only-of-type {\n",
       "        vertical-align: middle;\n",
       "    }\n",
       "\n",
       "    .dataframe tbody tr th {\n",
       "        vertical-align: top;\n",
       "    }\n",
       "\n",
       "    .dataframe thead th {\n",
       "        text-align: right;\n",
       "    }\n",
       "</style>\n",
       "<table border=\"1\" class=\"dataframe\">\n",
       "  <thead>\n",
       "    <tr style=\"text-align: right;\">\n",
       "      <th></th>\n",
       "      <th>Restaurant name</th>\n",
       "      <th>Cuisine</th>\n",
       "      <th>Location</th>\n",
       "      <th>Ratings</th>\n",
       "      <th>Image URL</th>\n",
       "    </tr>\n",
       "  </thead>\n",
       "  <tbody>\n",
       "    <tr>\n",
       "      <th>0</th>\n",
       "      <td>Castle Barbeque</td>\n",
       "      <td>₹ 2,000 for 2 (approx) | North Indian, Chinese</td>\n",
       "      <td>Connaught Place, Central Delhi</td>\n",
       "      <td>3.5</td>\n",
       "      <td>https://im1.dineout.co.in/images/uploads/resta...</td>\n",
       "    </tr>\n",
       "    <tr>\n",
       "      <th>1</th>\n",
       "      <td>Jungle Jamboree</td>\n",
       "      <td>₹ 1,400 for 2 (approx) | North Indian, Asian, ...</td>\n",
       "      <td>3CS Mall,Lajpat Nagar - 3, South Delhi</td>\n",
       "      <td>3.9</td>\n",
       "      <td>https://im1.dineout.co.in/images/uploads/resta...</td>\n",
       "    </tr>\n",
       "    <tr>\n",
       "      <th>2</th>\n",
       "      <td>Castle Barbeque</td>\n",
       "      <td>₹ 2,000 for 2 (approx) | Chinese, North Indian</td>\n",
       "      <td>Pacific Mall,Tagore Garden, West Delhi</td>\n",
       "      <td>3.9</td>\n",
       "      <td>https://im1.dineout.co.in/images/uploads/resta...</td>\n",
       "    </tr>\n",
       "    <tr>\n",
       "      <th>3</th>\n",
       "      <td>Cafe Knosh</td>\n",
       "      <td>₹ 3,000 for 2 (approx) | Italian, Continental</td>\n",
       "      <td>The Leela Ambience Convention Hotel,Shahdara, ...</td>\n",
       "      <td>4.3</td>\n",
       "      <td>https://im1.dineout.co.in/images/uploads/resta...</td>\n",
       "    </tr>\n",
       "    <tr>\n",
       "      <th>4</th>\n",
       "      <td>The Barbeque Company</td>\n",
       "      <td>₹ 1,700 for 2 (approx) | North Indian, Chinese</td>\n",
       "      <td>Gardens Galleria,Sector 38A, Noida</td>\n",
       "      <td>4</td>\n",
       "      <td>https://im1.dineout.co.in/images/uploads/resta...</td>\n",
       "    </tr>\n",
       "    <tr>\n",
       "      <th>5</th>\n",
       "      <td>India Grill</td>\n",
       "      <td>₹ 2,400 for 2 (approx) | North Indian, Italian</td>\n",
       "      <td>Hilton Garden Inn,Saket, South Delhi</td>\n",
       "      <td>3.9</td>\n",
       "      <td>https://im1.dineout.co.in/images/uploads/resta...</td>\n",
       "    </tr>\n",
       "    <tr>\n",
       "      <th>6</th>\n",
       "      <td>Delhi Barbeque</td>\n",
       "      <td>₹ 1,800 for 2 (approx) | North Indian</td>\n",
       "      <td>Taurus Sarovar Portico,Mahipalpur, South Delhi</td>\n",
       "      <td>3.7</td>\n",
       "      <td>https://im1.dineout.co.in/images/uploads/resta...</td>\n",
       "    </tr>\n",
       "    <tr>\n",
       "      <th>7</th>\n",
       "      <td>The Monarch - Bar Be Que Village</td>\n",
       "      <td>₹ 1,900 for 2 (approx) | North Indian</td>\n",
       "      <td>Indirapuram Habitat Centre,Indirapuram, Ghaziabad</td>\n",
       "      <td>3.8</td>\n",
       "      <td>https://im1.dineout.co.in/images/uploads/resta...</td>\n",
       "    </tr>\n",
       "    <tr>\n",
       "      <th>8</th>\n",
       "      <td>World Cafe</td>\n",
       "      <td>₹ 2,400 for 2 (approx) | North Indian, Italian</td>\n",
       "      <td>Vibe by The Lalit Traveller,Sector 35, Faridabad</td>\n",
       "      <td>4.2</td>\n",
       "      <td>https://im1.dineout.co.in/images/uploads/resta...</td>\n",
       "    </tr>\n",
       "    <tr>\n",
       "      <th>9</th>\n",
       "      <td>Indian Grill Room</td>\n",
       "      <td>₹ 2,200 for 2 (approx) | North Indian, Mughlai</td>\n",
       "      <td>Suncity Business Tower,Golf Course Road, Gurgaon</td>\n",
       "      <td>4.3</td>\n",
       "      <td>https://im1.dineout.co.in/images/uploads/resta...</td>\n",
       "    </tr>\n",
       "    <tr>\n",
       "      <th>10</th>\n",
       "      <td>Mad 4 Bar B Que</td>\n",
       "      <td>₹ 800 for 2 (approx) | North Indian</td>\n",
       "      <td>Sector 29, Faridabad</td>\n",
       "      <td>3.6</td>\n",
       "      <td>https://im1.dineout.co.in/images/uploads/resta...</td>\n",
       "    </tr>\n",
       "    <tr>\n",
       "      <th>11</th>\n",
       "      <td>Barbeque 29</td>\n",
       "      <td>₹ 1,500 for 2 (approx) | North Indian, Mughlai...</td>\n",
       "      <td>NIT, Faridabad</td>\n",
       "      <td>4.2</td>\n",
       "      <td>https://im1.dineout.co.in/images/uploads/resta...</td>\n",
       "    </tr>\n",
       "    <tr>\n",
       "      <th>12</th>\n",
       "      <td>Glasshouse</td>\n",
       "      <td>₹ 3,400 for 2 (approx) | European, Italian, As...</td>\n",
       "      <td>DoubleTree By Hilton Gurugram Baani Square,Sec...</td>\n",
       "      <td>4</td>\n",
       "      <td>https://im1.dineout.co.in/images/uploads/resta...</td>\n",
       "    </tr>\n",
       "  </tbody>\n",
       "</table>\n",
       "</div>"
      ],
      "text/plain": [
       "                     Restaurant name  \\\n",
       "0                    Castle Barbeque   \n",
       "1                    Jungle Jamboree   \n",
       "2                    Castle Barbeque   \n",
       "3                         Cafe Knosh   \n",
       "4               The Barbeque Company   \n",
       "5                        India Grill   \n",
       "6                     Delhi Barbeque   \n",
       "7   The Monarch - Bar Be Que Village   \n",
       "8                         World Cafe   \n",
       "9                  Indian Grill Room   \n",
       "10                   Mad 4 Bar B Que   \n",
       "11                       Barbeque 29   \n",
       "12                        Glasshouse   \n",
       "\n",
       "                                              Cuisine  \\\n",
       "0      ₹ 2,000 for 2 (approx) | North Indian, Chinese   \n",
       "1   ₹ 1,400 for 2 (approx) | North Indian, Asian, ...   \n",
       "2      ₹ 2,000 for 2 (approx) | Chinese, North Indian   \n",
       "3       ₹ 3,000 for 2 (approx) | Italian, Continental   \n",
       "4      ₹ 1,700 for 2 (approx) | North Indian, Chinese   \n",
       "5      ₹ 2,400 for 2 (approx) | North Indian, Italian   \n",
       "6               ₹ 1,800 for 2 (approx) | North Indian   \n",
       "7               ₹ 1,900 for 2 (approx) | North Indian   \n",
       "8      ₹ 2,400 for 2 (approx) | North Indian, Italian   \n",
       "9      ₹ 2,200 for 2 (approx) | North Indian, Mughlai   \n",
       "10                ₹ 800 for 2 (approx) | North Indian   \n",
       "11  ₹ 1,500 for 2 (approx) | North Indian, Mughlai...   \n",
       "12  ₹ 3,400 for 2 (approx) | European, Italian, As...   \n",
       "\n",
       "                                             Location Ratings  \\\n",
       "0                      Connaught Place, Central Delhi     3.5   \n",
       "1              3CS Mall,Lajpat Nagar - 3, South Delhi     3.9   \n",
       "2              Pacific Mall,Tagore Garden, West Delhi     3.9   \n",
       "3   The Leela Ambience Convention Hotel,Shahdara, ...     4.3   \n",
       "4                  Gardens Galleria,Sector 38A, Noida       4   \n",
       "5                Hilton Garden Inn,Saket, South Delhi     3.9   \n",
       "6      Taurus Sarovar Portico,Mahipalpur, South Delhi     3.7   \n",
       "7   Indirapuram Habitat Centre,Indirapuram, Ghaziabad     3.8   \n",
       "8    Vibe by The Lalit Traveller,Sector 35, Faridabad     4.2   \n",
       "9    Suncity Business Tower,Golf Course Road, Gurgaon     4.3   \n",
       "10                               Sector 29, Faridabad     3.6   \n",
       "11                                     NIT, Faridabad     4.2   \n",
       "12  DoubleTree By Hilton Gurugram Baani Square,Sec...       4   \n",
       "\n",
       "                                            Image URL  \n",
       "0   https://im1.dineout.co.in/images/uploads/resta...  \n",
       "1   https://im1.dineout.co.in/images/uploads/resta...  \n",
       "2   https://im1.dineout.co.in/images/uploads/resta...  \n",
       "3   https://im1.dineout.co.in/images/uploads/resta...  \n",
       "4   https://im1.dineout.co.in/images/uploads/resta...  \n",
       "5   https://im1.dineout.co.in/images/uploads/resta...  \n",
       "6   https://im1.dineout.co.in/images/uploads/resta...  \n",
       "7   https://im1.dineout.co.in/images/uploads/resta...  \n",
       "8   https://im1.dineout.co.in/images/uploads/resta...  \n",
       "9   https://im1.dineout.co.in/images/uploads/resta...  \n",
       "10  https://im1.dineout.co.in/images/uploads/resta...  \n",
       "11  https://im1.dineout.co.in/images/uploads/resta...  \n",
       "12  https://im1.dineout.co.in/images/uploads/resta...  "
      ]
     },
     "execution_count": 172,
     "metadata": {},
     "output_type": "execute_result"
    }
   ],
   "source": [
    "# making dataframe\n",
    "\n",
    "dineoutdetails = pd.DataFrame({'Restaurant name':resturantname,'Cuisine':cuisine,'Location':location,'Ratings':ratingsm,'Image URL':imgurl})\n",
    "dineoutdetails"
   ]
  },
  {
   "cell_type": "code",
   "execution_count": null,
   "id": "e56b535d",
   "metadata": {},
   "outputs": [],
   "source": []
  },
  {
   "cell_type": "markdown",
   "id": "545c3753",
   "metadata": {},
   "source": [
    "# Question 10 Answer --> scraping first 10 product details which include product name , price , Image URL from bewakoof"
   ]
  },
  {
   "cell_type": "code",
   "execution_count": 173,
   "id": "17e0c2bd",
   "metadata": {},
   "outputs": [],
   "source": [
    "#importing required libraries\n",
    "from bs4 import BeautifulSoup\n",
    "import requests\n",
    "import pandas as pd\n",
    "import numpy as np"
   ]
  },
  {
   "cell_type": "code",
   "execution_count": null,
   "id": "96e8b383",
   "metadata": {},
   "outputs": [],
   "source": [
    "# getting url\n",
    "bewakoof = requests.get(\"https://www.bewakoof.com/women-t-shirts?sort=new\")\n",
    "bewakoof"
   ]
  },
  {
   "cell_type": "code",
   "execution_count": null,
   "id": "b0d9d2b7",
   "metadata": {},
   "outputs": [],
   "source": [
    "soup14 = BeautifulSoup(bewakoof.content)\n",
    "soup14"
   ]
  },
  {
   "cell_type": "code",
   "execution_count": null,
   "id": "c917c34e",
   "metadata": {},
   "outputs": [],
   "source": [
    "table14 = soup14.find_all('div',class_=\"categoryGridWrapper clearfix\")\n",
    "table14"
   ]
  },
  {
   "cell_type": "code",
   "execution_count": null,
   "id": "57421e0c",
   "metadata": {},
   "outputs": [],
   "source": [
    "productname1 = []\n",
    "\n",
    "for i in table14[0].find_all('h3'):\n",
    "    productname1.append(i.text)\n",
    "    \n",
    "productname1"
   ]
  },
  {
   "cell_type": "code",
   "execution_count": null,
   "id": "c125dc44",
   "metadata": {},
   "outputs": [],
   "source": [
    "price1 = []\n",
    "\n",
    "for i in table14[0].find_all('span',class_=\"discountedPriceText\"):\n",
    "    price1.append(i.text)\n",
    "    \n",
    "price1"
   ]
  },
  {
   "cell_type": "code",
   "execution_count": null,
   "id": "45270537",
   "metadata": {},
   "outputs": [],
   "source": [
    "imageurl1=[]\n",
    "\n",
    "for i in table14[0].find_all('img',class_=\"productImgTag\"):\n",
    "    imageurl1.append(i['src'])\n",
    "    \n",
    "imageurl1"
   ]
  },
  {
   "cell_type": "code",
   "execution_count": null,
   "id": "b1b76c3b",
   "metadata": {},
   "outputs": [],
   "source": [
    "# printing length\n",
    "print(len(productname1),len(price1),len(imageurl1))"
   ]
  },
  {
   "cell_type": "code",
   "execution_count": 181,
   "id": "dbb7123e",
   "metadata": {},
   "outputs": [
    {
     "data": {
      "text/html": [
       "<div>\n",
       "<style scoped>\n",
       "    .dataframe tbody tr th:only-of-type {\n",
       "        vertical-align: middle;\n",
       "    }\n",
       "\n",
       "    .dataframe tbody tr th {\n",
       "        vertical-align: top;\n",
       "    }\n",
       "\n",
       "    .dataframe thead th {\n",
       "        text-align: right;\n",
       "    }\n",
       "</style>\n",
       "<table border=\"1\" class=\"dataframe\">\n",
       "  <thead>\n",
       "    <tr style=\"text-align: right;\">\n",
       "      <th></th>\n",
       "      <th>Product Name</th>\n",
       "      <th>Price</th>\n",
       "      <th>Image Url</th>\n",
       "    </tr>\n",
       "  </thead>\n",
       "  <tbody>\n",
       "    <tr>\n",
       "      <th>0</th>\n",
       "      <td>Women's Black Tropical Vibes Typography Oversi...</td>\n",
       "      <td>₹ 349</td>\n",
       "      <td>https://images.bewakoof.com/t320/tropical-vibe...</td>\n",
       "    </tr>\n",
       "    <tr>\n",
       "      <th>1</th>\n",
       "      <td>Women's Black This World is Rotten Graphic Pri...</td>\n",
       "      <td>₹ 599</td>\n",
       "      <td>https://images.bewakoof.com/t320/women-s-black...</td>\n",
       "    </tr>\n",
       "    <tr>\n",
       "      <th>2</th>\n",
       "      <td>Women's White Zenitsu Graphic Printed Oversize...</td>\n",
       "      <td>₹ 599</td>\n",
       "      <td>https://images.bewakoof.com/t320/women-s-white...</td>\n",
       "    </tr>\n",
       "    <tr>\n",
       "      <th>3</th>\n",
       "      <td>Women's Black Unless You are Korean Typography...</td>\n",
       "      <td>₹ 599</td>\n",
       "      <td>https://images.bewakoof.com/t320/women-s-black...</td>\n",
       "    </tr>\n",
       "    <tr>\n",
       "      <th>4</th>\n",
       "      <td>Women's White This World is Rotten Graphic Pri...</td>\n",
       "      <td>₹ 599</td>\n",
       "      <td>https://images.bewakoof.com/t320/women-s-white...</td>\n",
       "    </tr>\n",
       "    <tr>\n",
       "      <th>5</th>\n",
       "      <td>Women's Black Zenitsu Graphic Printed Oversize...</td>\n",
       "      <td>₹ 599</td>\n",
       "      <td>https://images.bewakoof.com/t320/women-s-black...</td>\n",
       "    </tr>\n",
       "    <tr>\n",
       "      <th>6</th>\n",
       "      <td>Women's Black One Piece Graphic Printed Oversi...</td>\n",
       "      <td>₹ 599</td>\n",
       "      <td>https://images.bewakoof.com/t320/women-s-black...</td>\n",
       "    </tr>\n",
       "    <tr>\n",
       "      <th>7</th>\n",
       "      <td>Women's White One Piece Graphic Printed Oversi...</td>\n",
       "      <td>₹ 599</td>\n",
       "      <td>https://images.bewakoof.com/t320/women-s-white...</td>\n",
       "    </tr>\n",
       "    <tr>\n",
       "      <th>8</th>\n",
       "      <td>Women's Black Rocklee Graphic Printed Oversize...</td>\n",
       "      <td>₹ 599</td>\n",
       "      <td>https://images.bewakoof.com/t320/women-s-black...</td>\n",
       "    </tr>\n",
       "    <tr>\n",
       "      <th>9</th>\n",
       "      <td>Women's White Taxi Graphic Printed Oversized T...</td>\n",
       "      <td>₹ 599</td>\n",
       "      <td>https://images.bewakoof.com/t320/women-s-white...</td>\n",
       "    </tr>\n",
       "  </tbody>\n",
       "</table>\n",
       "</div>"
      ],
      "text/plain": [
       "                                        Product Name  Price  \\\n",
       "0  Women's Black Tropical Vibes Typography Oversi...  ₹ 349   \n",
       "1  Women's Black This World is Rotten Graphic Pri...  ₹ 599   \n",
       "2  Women's White Zenitsu Graphic Printed Oversize...  ₹ 599   \n",
       "3  Women's Black Unless You are Korean Typography...  ₹ 599   \n",
       "4  Women's White This World is Rotten Graphic Pri...  ₹ 599   \n",
       "5  Women's Black Zenitsu Graphic Printed Oversize...  ₹ 599   \n",
       "6  Women's Black One Piece Graphic Printed Oversi...  ₹ 599   \n",
       "7  Women's White One Piece Graphic Printed Oversi...  ₹ 599   \n",
       "8  Women's Black Rocklee Graphic Printed Oversize...  ₹ 599   \n",
       "9  Women's White Taxi Graphic Printed Oversized T...  ₹ 599   \n",
       "\n",
       "                                           Image Url  \n",
       "0  https://images.bewakoof.com/t320/tropical-vibe...  \n",
       "1  https://images.bewakoof.com/t320/women-s-black...  \n",
       "2  https://images.bewakoof.com/t320/women-s-white...  \n",
       "3  https://images.bewakoof.com/t320/women-s-black...  \n",
       "4  https://images.bewakoof.com/t320/women-s-white...  \n",
       "5  https://images.bewakoof.com/t320/women-s-black...  \n",
       "6  https://images.bewakoof.com/t320/women-s-black...  \n",
       "7  https://images.bewakoof.com/t320/women-s-white...  \n",
       "8  https://images.bewakoof.com/t320/women-s-black...  \n",
       "9  https://images.bewakoof.com/t320/women-s-white...  "
      ]
     },
     "execution_count": 181,
     "metadata": {},
     "output_type": "execute_result"
    }
   ],
   "source": [
    "# Making Data Frame \n",
    "bewakoofdetails = pd.DataFrame({'Product Name':productname1,'Price':price1,'Image Url':imageurl1})\n",
    "bewakoofdetails"
   ]
  },
  {
   "cell_type": "code",
   "execution_count": null,
   "id": "795b9206",
   "metadata": {},
   "outputs": [],
   "source": []
  }
 ],
 "metadata": {
  "kernelspec": {
   "display_name": "Python 3 (ipykernel)",
   "language": "python",
   "name": "python3"
  },
  "language_info": {
   "codemirror_mode": {
    "name": "ipython",
    "version": 3
   },
   "file_extension": ".py",
   "mimetype": "text/x-python",
   "name": "python",
   "nbconvert_exporter": "python",
   "pygments_lexer": "ipython3",
   "version": "3.9.7"
  }
 },
 "nbformat": 4,
 "nbformat_minor": 5
}
