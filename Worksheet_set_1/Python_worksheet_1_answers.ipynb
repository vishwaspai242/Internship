{
 "cells": [
  {
   "cell_type": "raw",
   "id": "ef0d3dcf",
   "metadata": {},
   "source": [
    "1. C) %"
   ]
  },
  {
   "cell_type": "raw",
   "id": "93fde66d",
   "metadata": {},
   "source": [
    "2. B) 0"
   ]
  },
  {
   "cell_type": "raw",
   "id": "4ec9120f",
   "metadata": {},
   "source": [
    "3. C) 24"
   ]
  },
  {
   "cell_type": "raw",
   "id": "c1f1c8f1",
   "metadata": {},
   "source": [
    "4. A) 2"
   ]
  },
  {
   "cell_type": "raw",
   "id": "1b832530",
   "metadata": {},
   "source": [
    "5. D) 6"
   ]
  },
  {
   "cell_type": "raw",
   "id": "17fdcb9b",
   "metadata": {},
   "source": [
    "6. C) the finally block will be executed no matter if the try block raises an error or not."
   ]
  },
  {
   "cell_type": "raw",
   "id": "6bd69c64",
   "metadata": {},
   "source": [
    "7. A) It is used to raise an exception."
   ]
  },
  {
   "cell_type": "raw",
   "id": "fdc76475",
   "metadata": {},
   "source": [
    "8. C) in defining a generator"
   ]
  },
  {
   "cell_type": "raw",
   "id": "54addcb4",
   "metadata": {},
   "source": [
    "9. A) _abc   C) abc2"
   ]
  },
  {
   "cell_type": "raw",
   "id": "2a96aac9",
   "metadata": {},
   "source": [
    "10. A) yield   B) raise"
   ]
  },
  {
   "cell_type": "code",
   "execution_count": 1,
   "id": "58d79141",
   "metadata": {},
   "outputs": [
    {
     "name": "stdout",
     "output_type": "stream",
     "text": [
      "Enter a number : 5\n",
      "The factorial of 5 is 120\n"
     ]
    }
   ],
   "source": [
    "#11 question answer\n",
    "\n",
    "#Input a number to find the factorial of a number\n",
    "\n",
    "n = int(input(\"Enter a number : \"))\n",
    "factorial = 1\n",
    "if n<0:\n",
    "    print(\"Factorial does not exist for negative numbers\")    # if entered number is negative number this message would show since factorials dont exist for negative numbers\n",
    "elif n==0:\n",
    "    print(\"The factorial of 0 is 1\")                          # if entered number is 0 then factorial is 1\n",
    "else:\n",
    "    for i in range(1,n+1):\n",
    "        factorial=factorial*i\n",
    "    print(\"The factorial of\", n ,\"is\", factorial)\n"
   ]
  },
  {
   "cell_type": "code",
   "execution_count": 2,
   "id": "997da0f0",
   "metadata": {},
   "outputs": [
    {
     "name": "stdout",
     "output_type": "stream",
     "text": [
      "Enter a number 7\n",
      "7 number is prime number\n"
     ]
    }
   ],
   "source": [
    "#12 question answer\n",
    "\n",
    "#Input a number to check if the number is prime or composite\n",
    "\n",
    "num=int(input(\"Enter a number \"))\n",
    "if (num==0 or num==1):\n",
    "    print(num, \"is neither prime nor composite\")\n",
    "elif num>1:\n",
    "    for i in range(2,num):\n",
    "        if(num%i==0):                           #if its divisible by any other number other than 1 and by itself its a composite number\n",
    "            print(num,\"is a composite number\")\n",
    "            break\n",
    "    else:\n",
    "        print(num,\"number is prime number\")\n",
    "else:\n",
    "    print(\"Please enter positive number only\")   #if negative numbers are entered this message would show\n",
    "            "
   ]
  },
  {
   "cell_type": "code",
   "execution_count": 3,
   "id": "5f7f2f40",
   "metadata": {},
   "outputs": [
    {
     "name": "stdout",
     "output_type": "stream",
     "text": [
      "Please enter a text: malayalam\n",
      "This is a Palindrome String\n"
     ]
    }
   ],
   "source": [
    "#13 question answer\n",
    "\n",
    "#to check whether a given string is palindrome or not\n",
    "\n",
    "st=input(\"Please enter a text: \")\n",
    "\n",
    "if(st==st[::-1]):                            #code to reverse the string is st[::-1]\n",
    "    print(\"This is a Palindrome String\")\n",
    "else:\n",
    "    print(\"This is not a Palindrome string\")"
   ]
  },
  {
   "cell_type": "code",
   "execution_count": 4,
   "id": "6eec6099",
   "metadata": {},
   "outputs": [],
   "source": [
    "#14 question answer\n",
    "\n",
    "#getting the third side of right-angled triangle from two given sides\n",
    "\n",
    "def pythagoras(opposite_side,adjacent_side,hypotenuse):\n",
    "    if opposite_side == str(\"x\"):\n",
    "        return(\"opposite = \" + str(((hypotenuse**2)-(adjacent_side**2))**0.5))\n",
    "    elif adjacent_side == str(\"x\"):\n",
    "        return(\"Adjacent = \" + str(((hypotenuse**2)-(opposite_side**2))**0.5))\n",
    "    elif hypotenuse == str(\"x\"):\n",
    "        return(\"Hypotenuse = \" + str(((opposite_side**2)+(adjacent_side**2))**0.5))\n",
    "    else:\n",
    "        return(\"you already wrote the answer\")"
   ]
  },
  {
   "cell_type": "code",
   "execution_count": 5,
   "id": "58e39f62",
   "metadata": {},
   "outputs": [
    {
     "name": "stdout",
     "output_type": "stream",
     "text": [
      "Hypotenuse = 5.0\n",
      "Adjacent = 4.0\n",
      "opposite = 3.0\n",
      "you already wrote the answer\n"
     ]
    }
   ],
   "source": [
    "print(pythagoras(3,4,'x'))\n",
    "print(pythagoras(3,'x',5))\n",
    "print(pythagoras('x',4,5))\n",
    "print(pythagoras(3,4,5))"
   ]
  },
  {
   "cell_type": "code",
   "execution_count": 6,
   "id": "5d7baa20",
   "metadata": {},
   "outputs": [
    {
     "name": "stdout",
     "output_type": "stream",
     "text": [
      "Enter the string : vishwas\n",
      "{'v': 1, 'i': 1, 's': 2, 'h': 1, 'w': 1, 'a': 1}\n"
     ]
    }
   ],
   "source": [
    "#15 question answer\n",
    "\n",
    "#to print the frequency of each of the characters present in a given string.\n",
    "\n",
    "str=input(\"Enter the string : \")   \n",
    "d=dict()\n",
    "for c in str:\n",
    "    if c in d:\n",
    "        d[c]=d[c]+1\n",
    "    else:\n",
    "        d[c]=1\n",
    "print(d)"
   ]
  },
  {
   "cell_type": "code",
   "execution_count": null,
   "id": "8de7ed86",
   "metadata": {},
   "outputs": [],
   "source": []
  }
 ],
 "metadata": {
  "kernelspec": {
   "display_name": "Python 3 (ipykernel)",
   "language": "python",
   "name": "python3"
  },
  "language_info": {
   "codemirror_mode": {
    "name": "ipython",
    "version": 3
   },
   "file_extension": ".py",
   "mimetype": "text/x-python",
   "name": "python",
   "nbconvert_exporter": "python",
   "pygments_lexer": "ipython3",
   "version": "3.9.7"
  }
 },
 "nbformat": 4,
 "nbformat_minor": 5
}
